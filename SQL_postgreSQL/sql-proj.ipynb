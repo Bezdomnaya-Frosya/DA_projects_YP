{
 "cells": [
  {
   "cell_type": "code",
   "execution_count": 1,
   "metadata": {
    "id": "nlZBlglMDWKe"
   },
   "outputs": [],
   "source": [
    "import pandas as pd\n",
    "import matplotlib.pyplot as plt\n",
    "from sqlalchemy import create_engine \n",
    "\n",
    "import seaborn as sns\n",
    "import numpy as np"
   ]
  },
  {
   "cell_type": "markdown",
   "metadata": {
    "id": "XnOE3n28DWKg"
   },
   "source": [
    "### Конфигурация для подключения к базе данных `data-analyst-advanced-sql`\n",
    "Эта база данных содержит схему `stackoverflow`, с которой вы будете работать в проекте"
   ]
  },
  {
   "cell_type": "code",
   "execution_count": 2,
   "metadata": {
    "id": "6p-yGp7qDWKg"
   },
   "outputs": [],
   "source": [
    "db_config = {\n",
    "    'user': 'praktikum_student', # имя пользователя\n",
    "    'pwd': 'Sdf4$2;d-d30pp', # пароль\n",
    "    'host': 'rc1b-wcoijxj3yxfsf3fs.mdb.yandexcloud.net',\n",
    "    'port': 6432, # порт подключения\n",
    "    'db': 'data-analyst-advanced-sql' # название базы данных\n",
    "}  \n",
    "\n",
    "connection_string = 'postgresql://{}:{}@{}:{}/{}'.format(\n",
    "    db_config['user'],\n",
    "    db_config['pwd'],\n",
    "    db_config['host'],\n",
    "    db_config['port'],\n",
    "    db_config['db'],\n",
    ")"
   ]
  },
  {
   "cell_type": "markdown",
   "metadata": {
    "id": "2Rg8ZpS0DWKh"
   },
   "source": [
    "Создание подключения"
   ]
  },
  {
   "cell_type": "code",
   "execution_count": 3,
   "metadata": {
    "id": "DamCUTR6DWKi"
   },
   "outputs": [],
   "source": [
    "engine = create_engine(connection_string) "
   ]
  },
  {
   "cell_type": "markdown",
   "metadata": {
    "id": "bel8XeSlDWKj"
   },
   "source": [
    "Пример запроса к базе данных\n",
    "\n",
    "`sample_df` является pandas-датафреймом."
   ]
  },
  {
   "cell_type": "code",
   "execution_count": 4,
   "metadata": {
    "id": "6Z_fw0yLDWKk"
   },
   "outputs": [],
   "source": [
    "query = '''\n",
    "SELECT *\n",
    "FROM stackoverflow.users\n",
    "LIMIT 10;\n",
    "'''\n",
    "\n",
    "sample_df = pd.read_sql_query(query, con=engine) "
   ]
  },
  {
   "cell_type": "code",
   "execution_count": 5,
   "metadata": {
    "id": "ZpuZ290oDWKk",
    "outputId": "22785a0a-e2bc-4559-ec3c-4879c4b377eb"
   },
   "outputs": [
    {
     "data": {
      "text/html": [
       "<div>\n",
       "<style scoped>\n",
       "    .dataframe tbody tr th:only-of-type {\n",
       "        vertical-align: middle;\n",
       "    }\n",
       "\n",
       "    .dataframe tbody tr th {\n",
       "        vertical-align: top;\n",
       "    }\n",
       "\n",
       "    .dataframe thead th {\n",
       "        text-align: right;\n",
       "    }\n",
       "</style>\n",
       "<table border=\"1\" class=\"dataframe\">\n",
       "  <thead>\n",
       "    <tr style=\"text-align: right;\">\n",
       "      <th></th>\n",
       "      <th>id</th>\n",
       "      <th>creation_date</th>\n",
       "      <th>display_name</th>\n",
       "      <th>last_access_date</th>\n",
       "      <th>location</th>\n",
       "      <th>reputation</th>\n",
       "      <th>views</th>\n",
       "    </tr>\n",
       "  </thead>\n",
       "  <tbody>\n",
       "    <tr>\n",
       "      <th>0</th>\n",
       "      <td>1</td>\n",
       "      <td>2008-07-31 14:22:31</td>\n",
       "      <td>Jeff Atwood</td>\n",
       "      <td>2018-08-29 02:34:23</td>\n",
       "      <td>El Cerrito, CA</td>\n",
       "      <td>44300</td>\n",
       "      <td>408587</td>\n",
       "    </tr>\n",
       "    <tr>\n",
       "      <th>1</th>\n",
       "      <td>2</td>\n",
       "      <td>2008-07-31 14:22:31</td>\n",
       "      <td>Geoff Dalgas</td>\n",
       "      <td>2018-08-23 17:31:56</td>\n",
       "      <td>Corvallis, OR</td>\n",
       "      <td>3491</td>\n",
       "      <td>23966</td>\n",
       "    </tr>\n",
       "    <tr>\n",
       "      <th>2</th>\n",
       "      <td>3</td>\n",
       "      <td>2008-07-31 14:22:31</td>\n",
       "      <td>Jarrod Dixon</td>\n",
       "      <td>2018-08-30 20:56:24</td>\n",
       "      <td>Raleigh, NC, United States</td>\n",
       "      <td>13418</td>\n",
       "      <td>24396</td>\n",
       "    </tr>\n",
       "    <tr>\n",
       "      <th>3</th>\n",
       "      <td>4</td>\n",
       "      <td>2008-07-31 14:22:31</td>\n",
       "      <td>Joel Spolsky</td>\n",
       "      <td>2018-08-14 22:18:15</td>\n",
       "      <td>New York, NY</td>\n",
       "      <td>28768</td>\n",
       "      <td>73755</td>\n",
       "    </tr>\n",
       "    <tr>\n",
       "      <th>4</th>\n",
       "      <td>5</td>\n",
       "      <td>2008-07-31 14:22:31</td>\n",
       "      <td>Jon Galloway</td>\n",
       "      <td>2018-08-29 16:48:36</td>\n",
       "      <td>San Diego, CA</td>\n",
       "      <td>39172</td>\n",
       "      <td>11700</td>\n",
       "    </tr>\n",
       "    <tr>\n",
       "      <th>5</th>\n",
       "      <td>8</td>\n",
       "      <td>2008-07-31 21:33:24</td>\n",
       "      <td>Eggs McLaren</td>\n",
       "      <td>2018-04-09 02:04:56</td>\n",
       "      <td>None</td>\n",
       "      <td>942</td>\n",
       "      <td>6372</td>\n",
       "    </tr>\n",
       "    <tr>\n",
       "      <th>6</th>\n",
       "      <td>9</td>\n",
       "      <td>2008-07-31 21:35:27</td>\n",
       "      <td>Kevin Dente</td>\n",
       "      <td>2018-08-30 18:18:03</td>\n",
       "      <td>Oakland, CA</td>\n",
       "      <td>14337</td>\n",
       "      <td>4949</td>\n",
       "    </tr>\n",
       "    <tr>\n",
       "      <th>7</th>\n",
       "      <td>11</td>\n",
       "      <td>2008-08-01 00:59:11</td>\n",
       "      <td>Anonymous User</td>\n",
       "      <td>2008-08-01 00:59:11</td>\n",
       "      <td>None</td>\n",
       "      <td>1890</td>\n",
       "      <td>2123</td>\n",
       "    </tr>\n",
       "    <tr>\n",
       "      <th>8</th>\n",
       "      <td>13</td>\n",
       "      <td>2008-08-01 04:18:05</td>\n",
       "      <td>Chris Jester-Young</td>\n",
       "      <td>2018-08-30 02:47:23</td>\n",
       "      <td>Raleigh, NC, United States</td>\n",
       "      <td>177138</td>\n",
       "      <td>35414</td>\n",
       "    </tr>\n",
       "    <tr>\n",
       "      <th>9</th>\n",
       "      <td>17</td>\n",
       "      <td>2008-08-01 12:02:22</td>\n",
       "      <td>Nick Berardi</td>\n",
       "      <td>2018-01-22 01:35:38</td>\n",
       "      <td>Issaquah, WA</td>\n",
       "      <td>44443</td>\n",
       "      <td>4786</td>\n",
       "    </tr>\n",
       "  </tbody>\n",
       "</table>\n",
       "</div>"
      ],
      "text/plain": [
       "   id       creation_date        display_name    last_access_date  \\\n",
       "0   1 2008-07-31 14:22:31         Jeff Atwood 2018-08-29 02:34:23   \n",
       "1   2 2008-07-31 14:22:31        Geoff Dalgas 2018-08-23 17:31:56   \n",
       "2   3 2008-07-31 14:22:31        Jarrod Dixon 2018-08-30 20:56:24   \n",
       "3   4 2008-07-31 14:22:31        Joel Spolsky 2018-08-14 22:18:15   \n",
       "4   5 2008-07-31 14:22:31        Jon Galloway 2018-08-29 16:48:36   \n",
       "5   8 2008-07-31 21:33:24        Eggs McLaren 2018-04-09 02:04:56   \n",
       "6   9 2008-07-31 21:35:27         Kevin Dente 2018-08-30 18:18:03   \n",
       "7  11 2008-08-01 00:59:11      Anonymous User 2008-08-01 00:59:11   \n",
       "8  13 2008-08-01 04:18:05  Chris Jester-Young 2018-08-30 02:47:23   \n",
       "9  17 2008-08-01 12:02:22        Nick Berardi 2018-01-22 01:35:38   \n",
       "\n",
       "                     location  reputation   views  \n",
       "0              El Cerrito, CA       44300  408587  \n",
       "1               Corvallis, OR        3491   23966  \n",
       "2  Raleigh, NC, United States       13418   24396  \n",
       "3                New York, NY       28768   73755  \n",
       "4               San Diego, CA       39172   11700  \n",
       "5                        None         942    6372  \n",
       "6                 Oakland, CA       14337    4949  \n",
       "7                        None        1890    2123  \n",
       "8  Raleigh, NC, United States      177138   35414  \n",
       "9                Issaquah, WA       44443    4786  "
      ]
     },
     "execution_count": 5,
     "metadata": {},
     "output_type": "execute_result"
    }
   ],
   "source": [
    "sample_df"
   ]
  },
  {
   "cell_type": "markdown",
   "metadata": {
    "id": "gnBMXkDBDWKm"
   },
   "source": [
    "# Задание 1"
   ]
  },
  {
   "cell_type": "markdown",
   "metadata": {
    "id": "vHsfOrrNDWKn"
   },
   "source": [
    "Выведите общую сумму просмотров постов за каждый месяц 2008 года. Если данных за какой-либо месяц в базе нет, такой месяц можно пропустить. Результат отсортируйте по убыванию общего количества просмотров."
   ]
  },
  {
   "cell_type": "code",
   "execution_count": 6,
   "metadata": {
    "id": "eWvykcXTDWKo"
   },
   "outputs": [],
   "source": [
    "# напишите запрос\n",
    "query = '''\n",
    "SELECT CAST(DATE_TRUNC('month', creation_date) AS date) AS month_date,\n",
    "       SUM(views_count) AS total_views\n",
    "FROM stackoverflow.posts\n",
    "WHERE creation_date::date BETWEEN '2008-01-01' AND '2008-12-31'\n",
    "GROUP BY CAST(DATE_TRUNC('month', creation_date) AS date)\n",
    "ORDER BY total_views DESC\n",
    "'''\n",
    "\n",
    "# выполните запрос"
   ]
  },
  {
   "cell_type": "code",
   "execution_count": 7,
   "metadata": {
    "scrolled": true
   },
   "outputs": [
    {
     "data": {
      "text/html": [
       "<div>\n",
       "<style scoped>\n",
       "    .dataframe tbody tr th:only-of-type {\n",
       "        vertical-align: middle;\n",
       "    }\n",
       "\n",
       "    .dataframe tbody tr th {\n",
       "        vertical-align: top;\n",
       "    }\n",
       "\n",
       "    .dataframe thead th {\n",
       "        text-align: right;\n",
       "    }\n",
       "</style>\n",
       "<table border=\"1\" class=\"dataframe\">\n",
       "  <thead>\n",
       "    <tr style=\"text-align: right;\">\n",
       "      <th></th>\n",
       "      <th>month_date</th>\n",
       "      <th>total_views</th>\n",
       "    </tr>\n",
       "  </thead>\n",
       "  <tbody>\n",
       "    <tr>\n",
       "      <th>0</th>\n",
       "      <td>2008-09-01</td>\n",
       "      <td>452928568</td>\n",
       "    </tr>\n",
       "    <tr>\n",
       "      <th>1</th>\n",
       "      <td>2008-10-01</td>\n",
       "      <td>365400138</td>\n",
       "    </tr>\n",
       "    <tr>\n",
       "      <th>2</th>\n",
       "      <td>2008-11-01</td>\n",
       "      <td>221759651</td>\n",
       "    </tr>\n",
       "    <tr>\n",
       "      <th>3</th>\n",
       "      <td>2008-12-01</td>\n",
       "      <td>197792841</td>\n",
       "    </tr>\n",
       "    <tr>\n",
       "      <th>4</th>\n",
       "      <td>2008-08-01</td>\n",
       "      <td>131367083</td>\n",
       "    </tr>\n",
       "    <tr>\n",
       "      <th>5</th>\n",
       "      <td>2008-07-01</td>\n",
       "      <td>669895</td>\n",
       "    </tr>\n",
       "  </tbody>\n",
       "</table>\n",
       "</div>"
      ],
      "text/plain": [
       "   month_date  total_views\n",
       "0  2008-09-01    452928568\n",
       "1  2008-10-01    365400138\n",
       "2  2008-11-01    221759651\n",
       "3  2008-12-01    197792841\n",
       "4  2008-08-01    131367083\n",
       "5  2008-07-01       669895"
      ]
     },
     "metadata": {},
     "output_type": "display_data"
    }
   ],
   "source": [
    "posts_sum = pd.read_sql_query(query, con=engine) \n",
    "display(posts_sum)"
   ]
  },
  {
   "cell_type": "markdown",
   "metadata": {
    "id": "I_ZvhOxkDWKp"
   },
   "source": [
    "Проанализируйте итоговую таблицу. Отличаются ли данные за разные месяцы? С чем могут быть связаны отличия?"
   ]
  },
  {
   "cell_type": "markdown",
   "metadata": {
    "id": "luxSj17oDWKq"
   },
   "source": [
    "* Из таблицы мы видим, что наибольшее число просмотров наблюдалось в сентябре. Далее, с возрастанием месяца - число просмотров снижалось. Самое низкое число просмотров наблюдалось в летнее время (июль и август). Скорее всего это связано с отпусками у специалистов IT профессий, которые чаще всего пользуются сервисом stackoverflow, а так же с каникулами у студентов IT специальностей, которые так же используют stackoverflow. \n",
    "* К новому году число просмотров снижалось, вероятно, в связи с тем, что все вспомнили как программировать после отпусков и каникул и им нужно реже искать ответы на свои вопросы. \n",
    "* Сентрябрь - месяц сложный. В июле - все отдыхают. Жарко."
   ]
  },
  {
   "cell_type": "markdown",
   "metadata": {
    "id": "FziIXkn5DWKr"
   },
   "source": [
    "# Задание 2"
   ]
  },
  {
   "cell_type": "markdown",
   "metadata": {
    "id": "fTGESZvYDWKr"
   },
   "source": [
    "Выведите имена самых активных пользователей, которые в первый месяц после регистрации (включая день регистрации) дали больше 100 ответов. Вопросы, которые задавали пользователи, не учитывайте. Для каждого имени пользователя выведите количество уникальных значений `user_id`. Отсортируйте результат по полю с именами в лексикографическом порядке."
   ]
  },
  {
   "cell_type": "code",
   "execution_count": 8,
   "metadata": {
    "id": "fIO-y-YjDWKt"
   },
   "outputs": [],
   "source": [
    "# напишите запрос\n",
    "query = '''\n",
    "SELECT display_name,\n",
    "       COUNT(DISTINCT(user_id))\n",
    "FROM stackoverflow.users u\n",
    "JOIN stackoverflow.posts p ON u.id=p.user_id\n",
    "JOIN stackoverflow.post_types t ON p.post_type_id=t.id\n",
    "WHERE (DATE_TRUNC('day', p.creation_date) <= DATE_TRUNC('day', u.creation_date) + INTERVAL '1 month') AND (p.post_type_id=2)\n",
    "GROUP BY display_name\n",
    "HAVING COUNT(p.id) > 100\n",
    "'''\n",
    "\n",
    "# выполните запрос"
   ]
  },
  {
   "cell_type": "code",
   "execution_count": 9,
   "metadata": {},
   "outputs": [
    {
     "data": {
      "text/html": [
       "<div>\n",
       "<style scoped>\n",
       "    .dataframe tbody tr th:only-of-type {\n",
       "        vertical-align: middle;\n",
       "    }\n",
       "\n",
       "    .dataframe tbody tr th {\n",
       "        vertical-align: top;\n",
       "    }\n",
       "\n",
       "    .dataframe thead th {\n",
       "        text-align: right;\n",
       "    }\n",
       "</style>\n",
       "<table border=\"1\" class=\"dataframe\">\n",
       "  <thead>\n",
       "    <tr style=\"text-align: right;\">\n",
       "      <th></th>\n",
       "      <th>display_name</th>\n",
       "      <th>count</th>\n",
       "    </tr>\n",
       "  </thead>\n",
       "  <tbody>\n",
       "    <tr>\n",
       "      <th>0</th>\n",
       "      <td>1800 INFORMATION</td>\n",
       "      <td>1</td>\n",
       "    </tr>\n",
       "    <tr>\n",
       "      <th>1</th>\n",
       "      <td>Adam Bellaire</td>\n",
       "      <td>1</td>\n",
       "    </tr>\n",
       "    <tr>\n",
       "      <th>2</th>\n",
       "      <td>Adam Davis</td>\n",
       "      <td>1</td>\n",
       "    </tr>\n",
       "    <tr>\n",
       "      <th>3</th>\n",
       "      <td>Adam Liss</td>\n",
       "      <td>1</td>\n",
       "    </tr>\n",
       "    <tr>\n",
       "      <th>4</th>\n",
       "      <td>Alan</td>\n",
       "      <td>8</td>\n",
       "    </tr>\n",
       "    <tr>\n",
       "      <th>...</th>\n",
       "      <td>...</td>\n",
       "      <td>...</td>\n",
       "    </tr>\n",
       "    <tr>\n",
       "      <th>74</th>\n",
       "      <td>lomaxx</td>\n",
       "      <td>1</td>\n",
       "    </tr>\n",
       "    <tr>\n",
       "      <th>75</th>\n",
       "      <td>mattlant</td>\n",
       "      <td>1</td>\n",
       "    </tr>\n",
       "    <tr>\n",
       "      <th>76</th>\n",
       "      <td>paxdiablo</td>\n",
       "      <td>1</td>\n",
       "    </tr>\n",
       "    <tr>\n",
       "      <th>77</th>\n",
       "      <td>tvanfosson</td>\n",
       "      <td>1</td>\n",
       "    </tr>\n",
       "    <tr>\n",
       "      <th>78</th>\n",
       "      <td>tzot</td>\n",
       "      <td>1</td>\n",
       "    </tr>\n",
       "  </tbody>\n",
       "</table>\n",
       "<p>79 rows × 2 columns</p>\n",
       "</div>"
      ],
      "text/plain": [
       "        display_name  count\n",
       "0   1800 INFORMATION      1\n",
       "1      Adam Bellaire      1\n",
       "2         Adam Davis      1\n",
       "3          Adam Liss      1\n",
       "4               Alan      8\n",
       "..               ...    ...\n",
       "74            lomaxx      1\n",
       "75          mattlant      1\n",
       "76         paxdiablo      1\n",
       "77        tvanfosson      1\n",
       "78              tzot      1\n",
       "\n",
       "[79 rows x 2 columns]"
      ]
     },
     "metadata": {},
     "output_type": "display_data"
    }
   ],
   "source": [
    "posts_users = pd.read_sql_query(query, con=engine) \n",
    "display(posts_users)"
   ]
  },
  {
   "cell_type": "code",
   "execution_count": 10,
   "metadata": {},
   "outputs": [
    {
     "data": {
      "text/html": [
       "<div>\n",
       "<style scoped>\n",
       "    .dataframe tbody tr th:only-of-type {\n",
       "        vertical-align: middle;\n",
       "    }\n",
       "\n",
       "    .dataframe tbody tr th {\n",
       "        vertical-align: top;\n",
       "    }\n",
       "\n",
       "    .dataframe thead th {\n",
       "        text-align: right;\n",
       "    }\n",
       "</style>\n",
       "<table border=\"1\" class=\"dataframe\">\n",
       "  <thead>\n",
       "    <tr style=\"text-align: right;\">\n",
       "      <th></th>\n",
       "      <th>display_name</th>\n",
       "      <th>count</th>\n",
       "    </tr>\n",
       "  </thead>\n",
       "  <tbody>\n",
       "    <tr>\n",
       "      <th>41</th>\n",
       "      <td>Mark</td>\n",
       "      <td>17</td>\n",
       "    </tr>\n",
       "    <tr>\n",
       "      <th>74</th>\n",
       "      <td>lomaxx</td>\n",
       "      <td>1</td>\n",
       "    </tr>\n",
       "    <tr>\n",
       "      <th>12</th>\n",
       "      <td>Craig</td>\n",
       "      <td>10</td>\n",
       "    </tr>\n",
       "    <tr>\n",
       "      <th>28</th>\n",
       "      <td>Johannes Schaub - litb</td>\n",
       "      <td>1</td>\n",
       "    </tr>\n",
       "    <tr>\n",
       "      <th>68</th>\n",
       "      <td>anjanb</td>\n",
       "      <td>1</td>\n",
       "    </tr>\n",
       "    <tr>\n",
       "      <th>64</th>\n",
       "      <td>Tom</td>\n",
       "      <td>19</td>\n",
       "    </tr>\n",
       "    <tr>\n",
       "      <th>50</th>\n",
       "      <td>Nick</td>\n",
       "      <td>16</td>\n",
       "    </tr>\n",
       "    <tr>\n",
       "      <th>29</th>\n",
       "      <td>John Millikin</td>\n",
       "      <td>1</td>\n",
       "    </tr>\n",
       "    <tr>\n",
       "      <th>26</th>\n",
       "      <td>Joe</td>\n",
       "      <td>9</td>\n",
       "    </tr>\n",
       "    <tr>\n",
       "      <th>35</th>\n",
       "      <td>Kevin</td>\n",
       "      <td>11</td>\n",
       "    </tr>\n",
       "  </tbody>\n",
       "</table>\n",
       "</div>"
      ],
      "text/plain": [
       "              display_name  count\n",
       "41                    Mark     17\n",
       "74                  lomaxx      1\n",
       "12                   Craig     10\n",
       "28  Johannes Schaub - litb      1\n",
       "68                  anjanb      1\n",
       "64                     Tom     19\n",
       "50                    Nick     16\n",
       "29           John Millikin      1\n",
       "26                     Joe      9\n",
       "35                   Kevin     11"
      ]
     },
     "execution_count": 10,
     "metadata": {},
     "output_type": "execute_result"
    }
   ],
   "source": [
    "#выведем ещё 10 случайных строк из полученной таблицы\n",
    "posts_users.sample(10)"
   ]
  },
  {
   "cell_type": "markdown",
   "metadata": {
    "id": "CEIGGQ6ODWKy"
   },
   "source": [
    "* По полученным таблицам мы видим, что число уникальных user_id иногда имеет более 1 значения для 1 пользователя. Это странно. По определению:\n",
    "* **User ID** – это уникальный номер, который присваивается пользователю и позволяет анонимно идентифицировать его на разных устройствах или на протяжении нескольких сеансов [https://developers.google.com/analytics/devguides/collection/analyticsjs/user-id?hl=ru], что, в нашем случае - не соответствует действительности. \n",
    "* Есть несколько вариантов того, почему так получилось: \n",
    "1. Например, проведённая настройка присваивания USER_ID каждому уникальному пользователю дала сбой или была проведена с нарушениями. \n",
    "2. Настройка клиента была произведена таким образом, что при посещении пользователем сайта с разных устройств - каждый раз происходит присваивание нового uid.\n",
    "3. Возможное предположение - некоторые пользователи просто имеют одинаковые имена, но, соответственно разные uid."
   ]
  },
  {
   "cell_type": "markdown",
   "metadata": {
    "id": "JhM2xXj5DWKu"
   },
   "source": [
    "# Задание 3"
   ]
  },
  {
   "cell_type": "markdown",
   "metadata": {
    "id": "IS6xPqyyDWKu"
   },
   "source": [
    "Выведите количество постов за 2008 год по месяцам. Отберите посты от пользователей, которые зарегистрировались в сентябре 2008 года и сделали хотя бы один пост в декабре того же года. Отсортируйте таблицу по значению месяца по убыванию."
   ]
  },
  {
   "cell_type": "code",
   "execution_count": 11,
   "metadata": {
    "id": "kVu0FB8WDWKv"
   },
   "outputs": [],
   "source": [
    "# напишите запрос\n",
    "query = '''\n",
    "WITH\n",
    "i AS (\n",
    "SELECT u.id\n",
    "FROM stackoverflow.users u \n",
    "JOIN stackoverflow.posts p ON u.id=p.user_id\n",
    "WHERE (u.creation_date::date BETWEEN '2008-09-01' AND '2008-09-30') \n",
    "AND (p.creation_date::date BETWEEN '2008-12-01' AND '2008-12-31')\n",
    "GROUP BY u.id\n",
    "      )\n",
    "\n",
    "SELECT CAST(DATE_TRUNC('month', p.creation_date) AS date) AS month,\n",
    "       COUNT(p.id) AS count\n",
    "FROM stackoverflow.users u \n",
    "JOIN stackoverflow.posts p ON u.id=p.user_id\n",
    "WHERE (p.creation_date::date BETWEEN '2008-01-01' AND '2008-12-31')\n",
    "AND p.user_id IN (SELECT * FROM i)\n",
    "GROUP BY CAST(DATE_TRUNC('month', p.creation_date) AS date)\n",
    "ORDER BY CAST(DATE_TRUNC('month', p.creation_date) AS date) DESC\n",
    "'''\n",
    "\n",
    "# выполните запрос"
   ]
  },
  {
   "cell_type": "code",
   "execution_count": 12,
   "metadata": {},
   "outputs": [
    {
     "data": {
      "text/html": [
       "<div>\n",
       "<style scoped>\n",
       "    .dataframe tbody tr th:only-of-type {\n",
       "        vertical-align: middle;\n",
       "    }\n",
       "\n",
       "    .dataframe tbody tr th {\n",
       "        vertical-align: top;\n",
       "    }\n",
       "\n",
       "    .dataframe thead th {\n",
       "        text-align: right;\n",
       "    }\n",
       "</style>\n",
       "<table border=\"1\" class=\"dataframe\">\n",
       "  <thead>\n",
       "    <tr style=\"text-align: right;\">\n",
       "      <th></th>\n",
       "      <th>month</th>\n",
       "      <th>count</th>\n",
       "    </tr>\n",
       "  </thead>\n",
       "  <tbody>\n",
       "    <tr>\n",
       "      <th>0</th>\n",
       "      <td>2008-12-01</td>\n",
       "      <td>17641</td>\n",
       "    </tr>\n",
       "    <tr>\n",
       "      <th>1</th>\n",
       "      <td>2008-11-01</td>\n",
       "      <td>18294</td>\n",
       "    </tr>\n",
       "    <tr>\n",
       "      <th>2</th>\n",
       "      <td>2008-10-01</td>\n",
       "      <td>27171</td>\n",
       "    </tr>\n",
       "    <tr>\n",
       "      <th>3</th>\n",
       "      <td>2008-09-01</td>\n",
       "      <td>24870</td>\n",
       "    </tr>\n",
       "    <tr>\n",
       "      <th>4</th>\n",
       "      <td>2008-08-01</td>\n",
       "      <td>32</td>\n",
       "    </tr>\n",
       "  </tbody>\n",
       "</table>\n",
       "</div>"
      ],
      "text/plain": [
       "        month  count\n",
       "0  2008-12-01  17641\n",
       "1  2008-11-01  18294\n",
       "2  2008-10-01  27171\n",
       "3  2008-09-01  24870\n",
       "4  2008-08-01     32"
      ]
     },
     "metadata": {},
     "output_type": "display_data"
    }
   ],
   "source": [
    "posts_month = pd.read_sql_query(query, con=engine) \n",
    "display(posts_month)"
   ]
  },
  {
   "cell_type": "markdown",
   "metadata": {
    "id": "MMVIz4yMlKpN"
   },
   "source": [
    "По нашему запросу, в таблицу должны были попасть данные только о тех пользователях, которые пришли в систему начиная с 1 сентября 2008 года. А мы видим 32 поста этих пользователей за август. Такого быть не должно. Следовательно - имеется какая-то техническая ошибка, которая присвоила 32 постам не верную (августовскую) дату публикации. "
   ]
  },
  {
   "cell_type": "markdown",
   "metadata": {
    "id": "5Pcizm0DDWKz"
   },
   "source": [
    "# Задание 4"
   ]
  },
  {
   "cell_type": "markdown",
   "metadata": {
    "id": "KUZPF6vHDWKz"
   },
   "source": [
    "Используя данные о постах, выведите несколько полей:\n",
    "\n",
    "- идентификатор пользователя, который написал пост;\n",
    "- дата создания поста;\n",
    "- количество просмотров у текущего поста;\n",
    "- сумму просмотров постов автора с накоплением.\n",
    "\n",
    "Данные в таблице должны быть отсортированы по возрастанию идентификаторов пользователей, а данные об одном и том же пользователе — по возрастанию даты создания поста."
   ]
  },
  {
   "cell_type": "code",
   "execution_count": 13,
   "metadata": {
    "id": "hDoJhMzfDWK0"
   },
   "outputs": [],
   "source": [
    "# напишите запрос\n",
    "query = '''\n",
    "SELECT user_id,\n",
    "       creation_date,\n",
    "       views_count,\n",
    "       SUM(views_count) OVER (PARTITION BY user_id\n",
    "                              ORDER BY creation_date) AS cumulative_count\n",
    "FROM stackoverflow.posts\n",
    "ORDER BY user_id,\n",
    "         creation_date\n",
    "'''\n",
    "\n",
    "# выполните запрос"
   ]
  },
  {
   "cell_type": "code",
   "execution_count": 14,
   "metadata": {},
   "outputs": [
    {
     "data": {
      "text/html": [
       "<div>\n",
       "<style scoped>\n",
       "    .dataframe tbody tr th:only-of-type {\n",
       "        vertical-align: middle;\n",
       "    }\n",
       "\n",
       "    .dataframe tbody tr th {\n",
       "        vertical-align: top;\n",
       "    }\n",
       "\n",
       "    .dataframe thead th {\n",
       "        text-align: right;\n",
       "    }\n",
       "</style>\n",
       "<table border=\"1\" class=\"dataframe\">\n",
       "  <thead>\n",
       "    <tr style=\"text-align: right;\">\n",
       "      <th></th>\n",
       "      <th>user_id</th>\n",
       "      <th>creation_date</th>\n",
       "      <th>views_count</th>\n",
       "      <th>cumulative_count</th>\n",
       "    </tr>\n",
       "  </thead>\n",
       "  <tbody>\n",
       "    <tr>\n",
       "      <th>0</th>\n",
       "      <td>1</td>\n",
       "      <td>2008-07-31 23:41:00</td>\n",
       "      <td>480476</td>\n",
       "      <td>480476</td>\n",
       "    </tr>\n",
       "    <tr>\n",
       "      <th>1</th>\n",
       "      <td>1</td>\n",
       "      <td>2008-07-31 23:55:38</td>\n",
       "      <td>136033</td>\n",
       "      <td>616509</td>\n",
       "    </tr>\n",
       "    <tr>\n",
       "      <th>2</th>\n",
       "      <td>1</td>\n",
       "      <td>2008-07-31 23:56:41</td>\n",
       "      <td>0</td>\n",
       "      <td>616509</td>\n",
       "    </tr>\n",
       "    <tr>\n",
       "      <th>3</th>\n",
       "      <td>1</td>\n",
       "      <td>2008-08-04 02:45:08</td>\n",
       "      <td>0</td>\n",
       "      <td>616509</td>\n",
       "    </tr>\n",
       "    <tr>\n",
       "      <th>4</th>\n",
       "      <td>1</td>\n",
       "      <td>2008-08-04 04:31:03</td>\n",
       "      <td>0</td>\n",
       "      <td>616509</td>\n",
       "    </tr>\n",
       "    <tr>\n",
       "      <th>...</th>\n",
       "      <td>...</td>\n",
       "      <td>...</td>\n",
       "      <td>...</td>\n",
       "      <td>...</td>\n",
       "    </tr>\n",
       "    <tr>\n",
       "      <th>243791</th>\n",
       "      <td>5696608</td>\n",
       "      <td>2008-12-23 16:00:37</td>\n",
       "      <td>0</td>\n",
       "      <td>2804</td>\n",
       "    </tr>\n",
       "    <tr>\n",
       "      <th>243792</th>\n",
       "      <td>5696608</td>\n",
       "      <td>2008-12-23 17:35:09</td>\n",
       "      <td>0</td>\n",
       "      <td>2804</td>\n",
       "    </tr>\n",
       "    <tr>\n",
       "      <th>243793</th>\n",
       "      <td>5696608</td>\n",
       "      <td>2008-12-24 01:02:48</td>\n",
       "      <td>0</td>\n",
       "      <td>2804</td>\n",
       "    </tr>\n",
       "    <tr>\n",
       "      <th>243794</th>\n",
       "      <td>5696608</td>\n",
       "      <td>2008-12-30 14:34:45</td>\n",
       "      <td>0</td>\n",
       "      <td>2804</td>\n",
       "    </tr>\n",
       "    <tr>\n",
       "      <th>243795</th>\n",
       "      <td>5696608</td>\n",
       "      <td>2008-12-30 16:32:12</td>\n",
       "      <td>0</td>\n",
       "      <td>2804</td>\n",
       "    </tr>\n",
       "  </tbody>\n",
       "</table>\n",
       "<p>243796 rows × 4 columns</p>\n",
       "</div>"
      ],
      "text/plain": [
       "        user_id       creation_date  views_count  cumulative_count\n",
       "0             1 2008-07-31 23:41:00       480476            480476\n",
       "1             1 2008-07-31 23:55:38       136033            616509\n",
       "2             1 2008-07-31 23:56:41            0            616509\n",
       "3             1 2008-08-04 02:45:08            0            616509\n",
       "4             1 2008-08-04 04:31:03            0            616509\n",
       "...         ...                 ...          ...               ...\n",
       "243791  5696608 2008-12-23 16:00:37            0              2804\n",
       "243792  5696608 2008-12-23 17:35:09            0              2804\n",
       "243793  5696608 2008-12-24 01:02:48            0              2804\n",
       "243794  5696608 2008-12-30 14:34:45            0              2804\n",
       "243795  5696608 2008-12-30 16:32:12            0              2804\n",
       "\n",
       "[243796 rows x 4 columns]"
      ]
     },
     "metadata": {},
     "output_type": "display_data"
    }
   ],
   "source": [
    "posts_review = pd.read_sql_query(query, con=engine) \n",
    "display(posts_review)"
   ]
  },
  {
   "cell_type": "markdown",
   "metadata": {},
   "source": [
    "        * Каких-то очевидных анамалий в этой таблице нет."
   ]
  },
  {
   "cell_type": "markdown",
   "metadata": {
    "id": "N0kHRHvIDWK2"
   },
   "source": [
    "# Задание 5"
   ]
  },
  {
   "cell_type": "markdown",
   "metadata": {
    "id": "gBgvmPtODWK2"
   },
   "source": [
    "Найдите среднее количество постов пользователей в день за август 2008 года. Отберите данные о пользователях, которые опубликовали больше 120 постов за август. Дни без публикаций не учитывайте. \n",
    "\n",
    "Отсортируйте результат по возрастанию среднего количества постов. Значения можно не округлять."
   ]
  },
  {
   "cell_type": "code",
   "execution_count": 15,
   "metadata": {
    "id": "YFyPNz5GDWK3"
   },
   "outputs": [],
   "source": [
    "# напишите запрос\n",
    "query = '''\n",
    "WITH sample_final AS\n",
    "  (WITH sample AS\n",
    "     (SELECT id post_id,\n",
    "             user_id,\n",
    "             date_trunc('day', creation_date)::date dt\n",
    "      FROM stackoverflow.posts\n",
    "      WHERE date_trunc('month', creation_date)::date = '2008-08-01' ) SELECT dt,\n",
    "                                                                             count(post_id),\n",
    "                                                                             user_id\n",
    "   FROM sample\n",
    "   GROUP BY dt,\n",
    "            user_id)\n",
    "SELECT user_id,\n",
    "       AVG(COUNT) as avg_daily\n",
    "FROM sample_final\n",
    "GROUP BY user_id\n",
    "HAVING user_id in\n",
    "  (WITH DATA AS\n",
    "     (SELECT id post_id,\n",
    "             user_id\n",
    "      FROM stackoverflow.posts\n",
    "      WHERE date_trunc('month', creation_date)::date = '2008-08-01' ) SELECT user_id\n",
    "   FROM DATA\n",
    "   GROUP BY user_id\n",
    "   HAVING count(post_id) > 120)\n",
    "ORDER BY avg_daily\n",
    "'''\n",
    "\n",
    "#"
   ]
  },
  {
   "cell_type": "code",
   "execution_count": 16,
   "metadata": {},
   "outputs": [
    {
     "data": {
      "text/html": [
       "<div>\n",
       "<style scoped>\n",
       "    .dataframe tbody tr th:only-of-type {\n",
       "        vertical-align: middle;\n",
       "    }\n",
       "\n",
       "    .dataframe tbody tr th {\n",
       "        vertical-align: top;\n",
       "    }\n",
       "\n",
       "    .dataframe thead th {\n",
       "        text-align: right;\n",
       "    }\n",
       "</style>\n",
       "<table border=\"1\" class=\"dataframe\">\n",
       "  <thead>\n",
       "    <tr style=\"text-align: right;\">\n",
       "      <th></th>\n",
       "      <th>user_id</th>\n",
       "      <th>avg_daily</th>\n",
       "    </tr>\n",
       "  </thead>\n",
       "  <tbody>\n",
       "    <tr>\n",
       "      <th>0</th>\n",
       "      <td>116</td>\n",
       "      <td>4.777778</td>\n",
       "    </tr>\n",
       "    <tr>\n",
       "      <th>1</th>\n",
       "      <td>234</td>\n",
       "      <td>5.208333</td>\n",
       "    </tr>\n",
       "    <tr>\n",
       "      <th>2</th>\n",
       "      <td>91</td>\n",
       "      <td>5.681818</td>\n",
       "    </tr>\n",
       "    <tr>\n",
       "      <th>3</th>\n",
       "      <td>905</td>\n",
       "      <td>7.000000</td>\n",
       "    </tr>\n",
       "    <tr>\n",
       "      <th>4</th>\n",
       "      <td>383</td>\n",
       "      <td>7.277778</td>\n",
       "    </tr>\n",
       "  </tbody>\n",
       "</table>\n",
       "</div>"
      ],
      "text/plain": [
       "   user_id  avg_daily\n",
       "0      116   4.777778\n",
       "1      234   5.208333\n",
       "2       91   5.681818\n",
       "3      905   7.000000\n",
       "4      383   7.277778"
      ]
     },
     "metadata": {},
     "output_type": "display_data"
    }
   ],
   "source": [
    "posts_avg = pd.read_sql_query(query, con=engine) \n",
    "display(posts_avg)"
   ]
  },
  {
   "cell_type": "markdown",
   "metadata": {},
   "source": [
    "            Критических замечаний к полученой таблице нет."
   ]
  },
  {
   "cell_type": "markdown",
   "metadata": {
    "id": "EQ0dcFH4DWK5"
   },
   "source": [
    "# Задание 6"
   ]
  },
  {
   "cell_type": "markdown",
   "metadata": {
    "id": "c7flfg_hDWK5"
   },
   "source": [
    "Сколько в среднем дней в период с 1 по 7 декабря 2008 года пользователи взаимодействовали с платформой? Для каждого пользователя отберите дни, в которые он или она опубликовали хотя бы один пост. Нужно получить одно целое число — не забудьте округлить результат. "
   ]
  },
  {
   "cell_type": "code",
   "execution_count": 17,
   "metadata": {
    "id": "kZ7LXTr6DWK6"
   },
   "outputs": [],
   "source": [
    "# напишите запрос\n",
    "query = '''\n",
    "SELECT ROUND(CAST (COUNT(dt) AS NUMERIC) / COUNT(DISTINCT (user_id))) RESULT\n",
    "FROM\n",
    "  (WITH data AS\n",
    "     (SELECT DATE_TRUNC('DAY', creation_date)::DATE dt,\n",
    "             user_id\n",
    "      FROM stackoverflow.posts\n",
    "      WHERE (DATE_TRUNC('day', creation_date)::DATE BETWEEN '2008-12-01' AND '2008-12-07') ) SELECT DISTINCT(dt),\n",
    "                                                                                                    user_id\n",
    "   FROM data\n",
    "   GROUP BY user_id,\n",
    "            dt) AS final_data\n",
    "'''\n",
    "\n",
    "# выполните запрос"
   ]
  },
  {
   "cell_type": "code",
   "execution_count": 18,
   "metadata": {},
   "outputs": [
    {
     "data": {
      "text/html": [
       "<div>\n",
       "<style scoped>\n",
       "    .dataframe tbody tr th:only-of-type {\n",
       "        vertical-align: middle;\n",
       "    }\n",
       "\n",
       "    .dataframe tbody tr th {\n",
       "        vertical-align: top;\n",
       "    }\n",
       "\n",
       "    .dataframe thead th {\n",
       "        text-align: right;\n",
       "    }\n",
       "</style>\n",
       "<table border=\"1\" class=\"dataframe\">\n",
       "  <thead>\n",
       "    <tr style=\"text-align: right;\">\n",
       "      <th></th>\n",
       "      <th>result</th>\n",
       "    </tr>\n",
       "  </thead>\n",
       "  <tbody>\n",
       "    <tr>\n",
       "      <th>0</th>\n",
       "      <td>2.0</td>\n",
       "    </tr>\n",
       "  </tbody>\n",
       "</table>\n",
       "</div>"
      ],
      "text/plain": [
       "   result\n",
       "0     2.0"
      ]
     },
     "metadata": {},
     "output_type": "display_data"
    }
   ],
   "source": [
    "duration = pd.read_sql_query(query, con=engine) \n",
    "display(duration)"
   ]
  },
  {
   "cell_type": "markdown",
   "metadata": {
    "id": "LfUuYz-1DWK8"
   },
   "source": [
    "В среднем, пользователи в указанный период взаимодействовали с платформой всего 2 дня. "
   ]
  },
  {
   "cell_type": "markdown",
   "metadata": {
    "id": "wfOmqmfLDWK8"
   },
   "source": [
    "# Задание 7"
   ]
  },
  {
   "cell_type": "markdown",
   "metadata": {
    "id": "X4ARQimADWK9"
   },
   "source": [
    "Выведите историю активности каждого пользователя в таком виде: идентификатор пользователя, дата публикации поста. Отсортируйте вывод по возрастанию идентификаторов пользователей, а для каждого пользователя — по возрастанию даты публикации.\n",
    "\n",
    "Добавьте в таблицу новое поле: для каждого поста в нём будет указано название месяца предпоследней публикации пользователя относительно текущей. Если такой публикации нет, укажите `NULL`.  Python автоматически поменяет `NULL` на `None`, но дополнительно преобразовывать значения `None` вам не нужно.\n",
    "\n",
    "Посмотрите внимательно на образец таблицы: для первых двух постов предпоследней публикации нет, но, начиная с третьего поста, в новое поле входит нужный месяц. Для следующего пользователя в первые две записи поля `second_last_month` тоже войдёт `NULL`."
   ]
  },
  {
   "cell_type": "code",
   "execution_count": 19,
   "metadata": {
    "id": "HzI1vhaMDWK-"
   },
   "outputs": [],
   "source": [
    "# напишите запрос\n",
    "query = '''\n",
    "SELECT user_id,\n",
    "       creation_date,\n",
    "       TO_CHAR (DATE_TRUNC('month', LAG(creation_date, 2, NULL) OVER (PARTITION BY user_id ORDER BY creation_date)), 'Month') second_last_month\n",
    "FROM stackoverflow.posts\n",
    "ORDER BY user_id, creation_date\n",
    "'''\n",
    "\n",
    "# выполните запрос"
   ]
  },
  {
   "cell_type": "code",
   "execution_count": 20,
   "metadata": {},
   "outputs": [
    {
     "data": {
      "text/html": [
       "<div>\n",
       "<style scoped>\n",
       "    .dataframe tbody tr th:only-of-type {\n",
       "        vertical-align: middle;\n",
       "    }\n",
       "\n",
       "    .dataframe tbody tr th {\n",
       "        vertical-align: top;\n",
       "    }\n",
       "\n",
       "    .dataframe thead th {\n",
       "        text-align: right;\n",
       "    }\n",
       "</style>\n",
       "<table border=\"1\" class=\"dataframe\">\n",
       "  <thead>\n",
       "    <tr style=\"text-align: right;\">\n",
       "      <th></th>\n",
       "      <th>user_id</th>\n",
       "      <th>creation_date</th>\n",
       "      <th>second_last_month</th>\n",
       "    </tr>\n",
       "  </thead>\n",
       "  <tbody>\n",
       "    <tr>\n",
       "      <th>0</th>\n",
       "      <td>1</td>\n",
       "      <td>2008-07-31 23:41:00</td>\n",
       "      <td>None</td>\n",
       "    </tr>\n",
       "    <tr>\n",
       "      <th>1</th>\n",
       "      <td>1</td>\n",
       "      <td>2008-07-31 23:55:38</td>\n",
       "      <td>None</td>\n",
       "    </tr>\n",
       "    <tr>\n",
       "      <th>2</th>\n",
       "      <td>1</td>\n",
       "      <td>2008-07-31 23:56:41</td>\n",
       "      <td>July</td>\n",
       "    </tr>\n",
       "    <tr>\n",
       "      <th>3</th>\n",
       "      <td>1</td>\n",
       "      <td>2008-08-04 02:45:08</td>\n",
       "      <td>July</td>\n",
       "    </tr>\n",
       "    <tr>\n",
       "      <th>4</th>\n",
       "      <td>1</td>\n",
       "      <td>2008-08-04 04:31:03</td>\n",
       "      <td>July</td>\n",
       "    </tr>\n",
       "    <tr>\n",
       "      <th>...</th>\n",
       "      <td>...</td>\n",
       "      <td>...</td>\n",
       "      <td>...</td>\n",
       "    </tr>\n",
       "    <tr>\n",
       "      <th>243791</th>\n",
       "      <td>5696608</td>\n",
       "      <td>2008-12-23 16:00:37</td>\n",
       "      <td>December</td>\n",
       "    </tr>\n",
       "    <tr>\n",
       "      <th>243792</th>\n",
       "      <td>5696608</td>\n",
       "      <td>2008-12-23 17:35:09</td>\n",
       "      <td>December</td>\n",
       "    </tr>\n",
       "    <tr>\n",
       "      <th>243793</th>\n",
       "      <td>5696608</td>\n",
       "      <td>2008-12-24 01:02:48</td>\n",
       "      <td>December</td>\n",
       "    </tr>\n",
       "    <tr>\n",
       "      <th>243794</th>\n",
       "      <td>5696608</td>\n",
       "      <td>2008-12-30 14:34:45</td>\n",
       "      <td>December</td>\n",
       "    </tr>\n",
       "    <tr>\n",
       "      <th>243795</th>\n",
       "      <td>5696608</td>\n",
       "      <td>2008-12-30 16:32:12</td>\n",
       "      <td>December</td>\n",
       "    </tr>\n",
       "  </tbody>\n",
       "</table>\n",
       "<p>243796 rows × 3 columns</p>\n",
       "</div>"
      ],
      "text/plain": [
       "        user_id       creation_date second_last_month\n",
       "0             1 2008-07-31 23:41:00              None\n",
       "1             1 2008-07-31 23:55:38              None\n",
       "2             1 2008-07-31 23:56:41         July     \n",
       "3             1 2008-08-04 02:45:08         July     \n",
       "4             1 2008-08-04 04:31:03         July     \n",
       "...         ...                 ...               ...\n",
       "243791  5696608 2008-12-23 16:00:37         December \n",
       "243792  5696608 2008-12-23 17:35:09         December \n",
       "243793  5696608 2008-12-24 01:02:48         December \n",
       "243794  5696608 2008-12-30 14:34:45         December \n",
       "243795  5696608 2008-12-30 16:32:12         December \n",
       "\n",
       "[243796 rows x 3 columns]"
      ]
     },
     "metadata": {},
     "output_type": "display_data"
    }
   ],
   "source": [
    "activity = pd.read_sql_query(query, con=engine) \n",
    "display(activity)"
   ]
  },
  {
   "cell_type": "markdown",
   "metadata": {},
   "source": [
    "                Ошибок в таблице по первой проверке не обнаружено."
   ]
  },
  {
   "cell_type": "markdown",
   "metadata": {
    "id": "tf9qq2yzDWK_"
   },
   "source": [
    "# Задание 8"
   ]
  },
  {
   "cell_type": "markdown",
   "metadata": {
    "id": "gfwLVXBYDWLA"
   },
   "source": [
    "Рассчитайте аналог Retention Rate по месяцам для пользователей StackOverflow. Объедините пользователей в когорты по месяцу их первого поста. Возвращение определяйте по наличию поста в текущем месяце. "
   ]
  },
  {
   "cell_type": "code",
   "execution_count": 21,
   "metadata": {
    "id": "LUgFmwmTDWLB"
   },
   "outputs": [],
   "source": [
    "# напишите запрос\n",
    "query = '''\n",
    "WITH profile AS\n",
    "  (SELECT id AS user_id,\n",
    "          DATE_TRUNC('month', T.start_dt) AS dt,\n",
    "          COUNT(*) OVER (PARTITION BY DATE_TRUNC('month', T.start_dt)) AS cohort_users_cnt\n",
    "   FROM\n",
    "     (SELECT u1.id,\n",
    "             DATE_TRUNC('month', p1.creation_date) AS creation_date,\n",
    "             MIN(p1.creation_date) OVER (PARTITION BY u1.id\n",
    "                                         ORDER BY p1.creation_date) AS start_dt\n",
    "      FROM stackoverflow.users u1\n",
    "      JOIN stackoverflow.posts p1 ON u1.id = p1.user_id) T\n",
    "   GROUP BY id,\n",
    "            dt),\n",
    "sessions AS\n",
    "  (SELECT user_id,\n",
    "          DATE_TRUNC('month', creation_date) AS session_dt\n",
    "   FROM stackoverflow.posts\n",
    "   GROUP BY user_id,\n",
    "            session_dt)\n",
    "SELECT p.dt AS cohort_dt,\n",
    "       s.session_dt,\n",
    "       COUNT(p.user_id) AS users_cnt,\n",
    "       p.cohort_users_cnt,\n",
    "       ROUND(COUNT(p.user_id) * 100.0 / cohort_users_cnt, 2) AS retention_rate\n",
    "FROM profile p\n",
    "JOIN sessions s ON p.user_id = s.user_id\n",
    "GROUP BY 1,\n",
    "         2,\n",
    "         4\n",
    "'''\n",
    "\n",
    "# выполните запрос"
   ]
  },
  {
   "cell_type": "code",
   "execution_count": 22,
   "metadata": {},
   "outputs": [
    {
     "data": {
      "text/html": [
       "<div>\n",
       "<style scoped>\n",
       "    .dataframe tbody tr th:only-of-type {\n",
       "        vertical-align: middle;\n",
       "    }\n",
       "\n",
       "    .dataframe tbody tr th {\n",
       "        vertical-align: top;\n",
       "    }\n",
       "\n",
       "    .dataframe thead th {\n",
       "        text-align: right;\n",
       "    }\n",
       "</style>\n",
       "<table border=\"1\" class=\"dataframe\">\n",
       "  <thead>\n",
       "    <tr style=\"text-align: right;\">\n",
       "      <th></th>\n",
       "      <th>cohort_dt</th>\n",
       "      <th>session_dt</th>\n",
       "      <th>users_cnt</th>\n",
       "      <th>cohort_users_cnt</th>\n",
       "      <th>retention_rate</th>\n",
       "    </tr>\n",
       "  </thead>\n",
       "  <tbody>\n",
       "    <tr>\n",
       "      <th>0</th>\n",
       "      <td>2008-07-01</td>\n",
       "      <td>2008-07-01</td>\n",
       "      <td>3</td>\n",
       "      <td>3</td>\n",
       "      <td>100.00</td>\n",
       "    </tr>\n",
       "    <tr>\n",
       "      <th>1</th>\n",
       "      <td>2008-07-01</td>\n",
       "      <td>2008-08-01</td>\n",
       "      <td>2</td>\n",
       "      <td>3</td>\n",
       "      <td>66.67</td>\n",
       "    </tr>\n",
       "    <tr>\n",
       "      <th>2</th>\n",
       "      <td>2008-07-01</td>\n",
       "      <td>2008-09-01</td>\n",
       "      <td>1</td>\n",
       "      <td>3</td>\n",
       "      <td>33.33</td>\n",
       "    </tr>\n",
       "    <tr>\n",
       "      <th>3</th>\n",
       "      <td>2008-07-01</td>\n",
       "      <td>2008-10-01</td>\n",
       "      <td>2</td>\n",
       "      <td>3</td>\n",
       "      <td>66.67</td>\n",
       "    </tr>\n",
       "    <tr>\n",
       "      <th>4</th>\n",
       "      <td>2008-07-01</td>\n",
       "      <td>2008-11-01</td>\n",
       "      <td>1</td>\n",
       "      <td>3</td>\n",
       "      <td>33.33</td>\n",
       "    </tr>\n",
       "    <tr>\n",
       "      <th>5</th>\n",
       "      <td>2008-07-01</td>\n",
       "      <td>2008-12-01</td>\n",
       "      <td>2</td>\n",
       "      <td>3</td>\n",
       "      <td>66.67</td>\n",
       "    </tr>\n",
       "    <tr>\n",
       "      <th>6</th>\n",
       "      <td>2008-08-01</td>\n",
       "      <td>2008-08-01</td>\n",
       "      <td>2151</td>\n",
       "      <td>2151</td>\n",
       "      <td>100.00</td>\n",
       "    </tr>\n",
       "    <tr>\n",
       "      <th>7</th>\n",
       "      <td>2008-08-01</td>\n",
       "      <td>2008-09-01</td>\n",
       "      <td>1571</td>\n",
       "      <td>2151</td>\n",
       "      <td>73.04</td>\n",
       "    </tr>\n",
       "    <tr>\n",
       "      <th>8</th>\n",
       "      <td>2008-08-01</td>\n",
       "      <td>2008-10-01</td>\n",
       "      <td>1275</td>\n",
       "      <td>2151</td>\n",
       "      <td>59.27</td>\n",
       "    </tr>\n",
       "    <tr>\n",
       "      <th>9</th>\n",
       "      <td>2008-08-01</td>\n",
       "      <td>2008-11-01</td>\n",
       "      <td>1050</td>\n",
       "      <td>2151</td>\n",
       "      <td>48.81</td>\n",
       "    </tr>\n",
       "    <tr>\n",
       "      <th>10</th>\n",
       "      <td>2008-08-01</td>\n",
       "      <td>2008-12-01</td>\n",
       "      <td>894</td>\n",
       "      <td>2151</td>\n",
       "      <td>41.56</td>\n",
       "    </tr>\n",
       "    <tr>\n",
       "      <th>11</th>\n",
       "      <td>2008-09-01</td>\n",
       "      <td>2008-09-01</td>\n",
       "      <td>7678</td>\n",
       "      <td>7678</td>\n",
       "      <td>100.00</td>\n",
       "    </tr>\n",
       "    <tr>\n",
       "      <th>12</th>\n",
       "      <td>2008-09-01</td>\n",
       "      <td>2008-10-01</td>\n",
       "      <td>4132</td>\n",
       "      <td>7678</td>\n",
       "      <td>53.82</td>\n",
       "    </tr>\n",
       "    <tr>\n",
       "      <th>13</th>\n",
       "      <td>2008-09-01</td>\n",
       "      <td>2008-11-01</td>\n",
       "      <td>2966</td>\n",
       "      <td>7678</td>\n",
       "      <td>38.63</td>\n",
       "    </tr>\n",
       "    <tr>\n",
       "      <th>14</th>\n",
       "      <td>2008-09-01</td>\n",
       "      <td>2008-12-01</td>\n",
       "      <td>2500</td>\n",
       "      <td>7678</td>\n",
       "      <td>32.56</td>\n",
       "    </tr>\n",
       "    <tr>\n",
       "      <th>15</th>\n",
       "      <td>2008-10-01</td>\n",
       "      <td>2008-10-01</td>\n",
       "      <td>3629</td>\n",
       "      <td>3629</td>\n",
       "      <td>100.00</td>\n",
       "    </tr>\n",
       "    <tr>\n",
       "      <th>16</th>\n",
       "      <td>2008-10-01</td>\n",
       "      <td>2008-11-01</td>\n",
       "      <td>1640</td>\n",
       "      <td>3629</td>\n",
       "      <td>45.19</td>\n",
       "    </tr>\n",
       "    <tr>\n",
       "      <th>17</th>\n",
       "      <td>2008-10-01</td>\n",
       "      <td>2008-12-01</td>\n",
       "      <td>1221</td>\n",
       "      <td>3629</td>\n",
       "      <td>33.65</td>\n",
       "    </tr>\n",
       "    <tr>\n",
       "      <th>18</th>\n",
       "      <td>2008-11-01</td>\n",
       "      <td>2008-11-01</td>\n",
       "      <td>2852</td>\n",
       "      <td>2852</td>\n",
       "      <td>100.00</td>\n",
       "    </tr>\n",
       "    <tr>\n",
       "      <th>19</th>\n",
       "      <td>2008-11-01</td>\n",
       "      <td>2008-12-01</td>\n",
       "      <td>1151</td>\n",
       "      <td>2852</td>\n",
       "      <td>40.36</td>\n",
       "    </tr>\n",
       "    <tr>\n",
       "      <th>20</th>\n",
       "      <td>2008-12-01</td>\n",
       "      <td>2008-12-01</td>\n",
       "      <td>2536</td>\n",
       "      <td>2536</td>\n",
       "      <td>100.00</td>\n",
       "    </tr>\n",
       "  </tbody>\n",
       "</table>\n",
       "</div>"
      ],
      "text/plain": [
       "    cohort_dt session_dt  users_cnt  cohort_users_cnt  retention_rate\n",
       "0  2008-07-01 2008-07-01          3                 3          100.00\n",
       "1  2008-07-01 2008-08-01          2                 3           66.67\n",
       "2  2008-07-01 2008-09-01          1                 3           33.33\n",
       "3  2008-07-01 2008-10-01          2                 3           66.67\n",
       "4  2008-07-01 2008-11-01          1                 3           33.33\n",
       "5  2008-07-01 2008-12-01          2                 3           66.67\n",
       "6  2008-08-01 2008-08-01       2151              2151          100.00\n",
       "7  2008-08-01 2008-09-01       1571              2151           73.04\n",
       "8  2008-08-01 2008-10-01       1275              2151           59.27\n",
       "9  2008-08-01 2008-11-01       1050              2151           48.81\n",
       "10 2008-08-01 2008-12-01        894              2151           41.56\n",
       "11 2008-09-01 2008-09-01       7678              7678          100.00\n",
       "12 2008-09-01 2008-10-01       4132              7678           53.82\n",
       "13 2008-09-01 2008-11-01       2966              7678           38.63\n",
       "14 2008-09-01 2008-12-01       2500              7678           32.56\n",
       "15 2008-10-01 2008-10-01       3629              3629          100.00\n",
       "16 2008-10-01 2008-11-01       1640              3629           45.19\n",
       "17 2008-10-01 2008-12-01       1221              3629           33.65\n",
       "18 2008-11-01 2008-11-01       2852              2852          100.00\n",
       "19 2008-11-01 2008-12-01       1151              2852           40.36\n",
       "20 2008-12-01 2008-12-01       2536              2536          100.00"
      ]
     },
     "metadata": {},
     "output_type": "display_data"
    }
   ],
   "source": [
    "retention_rate = pd.read_sql_query(query, con=engine) \n",
    "display(retention_rate)"
   ]
  },
  {
   "cell_type": "markdown",
   "metadata": {
    "id": "_msBtnb2DWLC"
   },
   "source": [
    "Постройте тепловую карту Retention Rate. Какие аномалии или другие необычные явления удалось выявить? Сформулируйте гипотезы о возможных причинах."
   ]
  },
  {
   "cell_type": "code",
   "execution_count": 23,
   "metadata": {
    "id": "qAEJc8H1DWLC"
   },
   "outputs": [
    {
     "data": {
      "image/png": "[encoded data removed]",
      "text/plain": [
       "<Figure size 720x504 with 2 Axes>"
      ]
     },
     "metadata": {
      "needs_background": "light"
     },
     "output_type": "display_data"
    }
   ],
   "source": [
    "# постройте тепловую карту Retention Rate\n",
    "\n",
    "retention = retention_rate.pivot('cohort_dt', 'session_dt', 'retention_rate')\n",
    "retention.index = [str(x)[0:10] for x in retention.index]\n",
    "retention.columns = [str(x)[0:10] for x in retention.columns]\n",
    "\n",
    "\n",
    "plt.figure(figsize=(10, 7)) \n",
    "sns.heatmap(retention, \n",
    "            annot=True, \n",
    "            fmt='') \n",
    "plt.title('Retention Rate - тепловая карта') \n",
    "plt.show() "
   ]
  },
  {
   "cell_type": "markdown",
   "metadata": {
    "id": "EgOfIsI4DWLC"
   },
   "source": [
    "* Вспомним определение **Retention Rate (RR)** - это коэффициент удержания пользователей. Он показывает, сколько клиентов возвращается в приложение в определённый период после установки. Метрика retention rate рассчитывается как отношение вернувшихся в приложение пользователей к числу установивших его в определённую дату.\n",
    "* **Правило:** RR со временем может только падать, возрасти, особенно по сравнению с 1 днем (установка и использование приложения) - оно не может. \n",
    "* **Описание полученной тепловой карты:**\n",
    "    Видим странную тенденцию то возрастания до 66% то снижения до 33% удержания у пользователей, относящихся к июньской когорте. Такого быть не должно. В данной когорте всего 3 человека, поэтому, RR этой когорты лучше не рассматривать. \n",
    "    В остальных когортах RR постепенно снижается, что является адекватным проявлением функции RR. \n",
    "    Самый высокий показатель удержания 2 дня наблюдался у когорты пользователей, зарегестрированных в августе (73%). Самый низкий процент удержания 2 дня у когорты пользователей от ноября.\n",
    "    В целом видно, что чем позже пользователи регестрировались на платформе, тем хуже у них удержание (второго, третьего дня), по сравнению с пользователями от августа, сентября.\n",
    "   \n",
    "    "
   ]
  },
  {
   "cell_type": "markdown",
   "metadata": {
    "id": "1k7oPWt5DWLK"
   },
   "source": [
    "# Задание 9\n"
   ]
  },
  {
   "cell_type": "markdown",
   "metadata": {
    "id": "ALsYVSyRDWLM"
   },
   "source": [
    "На сколько процентов менялось количество постов ежемесячно с 1 сентября по 31 декабря 2008 года? Отобразите таблицу со следующими полями:\n",
    "\n",
    "- номер месяца;\n",
    "- количество постов за месяц;\n",
    "- процент, который показывает, насколько изменилось количество постов в текущем месяце по сравнению с предыдущим.\n",
    "\n",
    "Если постов стало меньше, значение процента должно быть отрицательным, если больше — положительным. Округлите значение процента до двух знаков после запятой.\n",
    "\n",
    "Напомним, что при делении одного целого числа на другое в PostgreSQL в результате получится целое число, округлённое до ближайшего целого вниз. Чтобы этого избежать, переведите делимое в тип `numeric`."
   ]
  },
  {
   "cell_type": "code",
   "execution_count": 24,
   "metadata": {
    "id": "Mb5pShStDWLN"
   },
   "outputs": [],
   "source": [
    "# напишите запрос\n",
    "query = '''\n",
    "WITH data AS\n",
    "  (SELECT to_char(creation_date, 'MM') creation_date,\n",
    "          count(id) posts_count\n",
    "   FROM stackoverflow.posts\n",
    "   GROUP BY to_char(creation_date, 'MM')\n",
    "   HAVING to_char(creation_date, 'MM') BETWEEN '09' AND '12')\n",
    "SELECT *,\n",
    "       ROUND(CAST((posts_count - LAG(posts_count, 1, NULL) OVER (\n",
    "                                                                 ORDER BY creation_date)) AS numeric) / (LAG(posts_count, 1, NULL) OVER (\n",
    "                                                                                                                                         ORDER BY creation_date)) *100, 2) percentage\n",
    "FROM data\n",
    "'''\n",
    "\n",
    "# выполните запрос"
   ]
  },
  {
   "cell_type": "code",
   "execution_count": 25,
   "metadata": {},
   "outputs": [
    {
     "data": {
      "text/html": [
       "<div>\n",
       "<style scoped>\n",
       "    .dataframe tbody tr th:only-of-type {\n",
       "        vertical-align: middle;\n",
       "    }\n",
       "\n",
       "    .dataframe tbody tr th {\n",
       "        vertical-align: top;\n",
       "    }\n",
       "\n",
       "    .dataframe thead th {\n",
       "        text-align: right;\n",
       "    }\n",
       "</style>\n",
       "<table border=\"1\" class=\"dataframe\">\n",
       "  <thead>\n",
       "    <tr style=\"text-align: right;\">\n",
       "      <th></th>\n",
       "      <th>creation_date</th>\n",
       "      <th>posts_count</th>\n",
       "      <th>percentage</th>\n",
       "    </tr>\n",
       "  </thead>\n",
       "  <tbody>\n",
       "    <tr>\n",
       "      <th>0</th>\n",
       "      <td>09</td>\n",
       "      <td>70371</td>\n",
       "      <td>NaN</td>\n",
       "    </tr>\n",
       "    <tr>\n",
       "      <th>1</th>\n",
       "      <td>10</td>\n",
       "      <td>63102</td>\n",
       "      <td>-10.33</td>\n",
       "    </tr>\n",
       "    <tr>\n",
       "      <th>2</th>\n",
       "      <td>11</td>\n",
       "      <td>46975</td>\n",
       "      <td>-25.56</td>\n",
       "    </tr>\n",
       "    <tr>\n",
       "      <th>3</th>\n",
       "      <td>12</td>\n",
       "      <td>44592</td>\n",
       "      <td>-5.07</td>\n",
       "    </tr>\n",
       "  </tbody>\n",
       "</table>\n",
       "</div>"
      ],
      "text/plain": [
       "  creation_date  posts_count  percentage\n",
       "0            09        70371         NaN\n",
       "1            10        63102      -10.33\n",
       "2            11        46975      -25.56\n",
       "3            12        44592       -5.07"
      ]
     },
     "metadata": {},
     "output_type": "display_data"
    }
   ],
   "source": [
    "percentage = pd.read_sql_query(query, con=engine) \n",
    "display(percentage)"
   ]
  },
  {
   "cell_type": "markdown",
   "metadata": {
    "id": "9NQE2y_MDWLP"
   },
   "source": [
    "Постройте круговую диаграмму с количеством постов по месяцам."
   ]
  },
  {
   "cell_type": "code",
   "execution_count": 26,
   "metadata": {
    "scrolled": true
   },
   "outputs": [
    {
     "data": {
      "image/png": "[encoded data removed]",
      "text/plain": [
       "<Figure size 360x360 with 1 Axes>"
      ]
     },
     "metadata": {},
     "output_type": "display_data"
    }
   ],
   "source": [
    "plt.rcParams[\"figure.figsize\"] = (5,5)\n",
    "names = percentage['creation_date']\n",
    "values = percentage['posts_count']\n",
    "\n",
    "colors = ['#4F6272', '#B7C3F3', '#DD7596', '#8EB897']\n",
    "\n",
    "\n",
    "plt.title(\"Количество постов по месяцам\")\n",
    "plt.pie(values, labels=names, labeldistance=1.15, wedgeprops = { 'linewidth' : 1, 'edgecolor' : 'white' }, colors=colors, autopct='%1.1f%%');\n",
    "plt.legend(title=\"Номер месяца\", loc=\"center\")\n",
    "plt.axis('equal')\n",
    "plt.show();"
   ]
  },
  {
   "cell_type": "markdown",
   "metadata": {
    "id": "uw7qMtafDWLP"
   },
   "source": [
    "# Задание 10"
   ]
  },
  {
   "cell_type": "markdown",
   "metadata": {
    "id": "oRBpWKx3DWLQ"
   },
   "source": [
    "Выгрузите данные активности пользователя, который опубликовал больше всего постов за всё время. Выведите данные за октябрь 2008 года в таком виде:\n",
    "\n",
    "- номер недели;\n",
    "- дата и время последнего поста, опубликованного на этой неделе."
   ]
  },
  {
   "cell_type": "code",
   "execution_count": 27,
   "metadata": {
    "id": "r5F5fSkwDWLQ"
   },
   "outputs": [],
   "source": [
    "# напишите запрос\n",
    "query = '''\n",
    "WITH data AS\n",
    "  (SELECT to_char(creation_date, 'ww') week_creation,\n",
    "          creation_date\n",
    "   FROM stackoverflow.posts\n",
    "   WHERE DATE_TRUNC('month', creation_date)='2008-10-01'\n",
    "     AND user_id in\n",
    "       (SELECT user_id\n",
    "        FROM stackoverflow.posts\n",
    "        GROUP BY user_id\n",
    "        ORDER BY count(id) DESC\n",
    "        LIMIT 1) )\n",
    "SELECT DISTINCT week_creation,\n",
    "                MAX(creation_date) OVER (PARTITION BY week_creation\n",
    "                                                ORDER BY week_creation) as creation_date\n",
    "FROM data\n",
    "ORDER BY week_creation\n",
    "\n",
    "'''\n",
    "\n",
    "# выполните запрос"
   ]
  },
  {
   "cell_type": "code",
   "execution_count": 28,
   "metadata": {
    "scrolled": true
   },
   "outputs": [
    {
     "data": {
      "text/html": [
       "<div>\n",
       "<style scoped>\n",
       "    .dataframe tbody tr th:only-of-type {\n",
       "        vertical-align: middle;\n",
       "    }\n",
       "\n",
       "    .dataframe tbody tr th {\n",
       "        vertical-align: top;\n",
       "    }\n",
       "\n",
       "    .dataframe thead th {\n",
       "        text-align: right;\n",
       "    }\n",
       "</style>\n",
       "<table border=\"1\" class=\"dataframe\">\n",
       "  <thead>\n",
       "    <tr style=\"text-align: right;\">\n",
       "      <th></th>\n",
       "      <th>week_creation</th>\n",
       "      <th>creation_date</th>\n",
       "    </tr>\n",
       "  </thead>\n",
       "  <tbody>\n",
       "    <tr>\n",
       "      <th>0</th>\n",
       "      <td>40</td>\n",
       "      <td>2008-10-06 21:35:00</td>\n",
       "    </tr>\n",
       "    <tr>\n",
       "      <th>1</th>\n",
       "      <td>41</td>\n",
       "      <td>2008-10-13 18:44:22</td>\n",
       "    </tr>\n",
       "    <tr>\n",
       "      <th>2</th>\n",
       "      <td>42</td>\n",
       "      <td>2008-10-20 20:57:36</td>\n",
       "    </tr>\n",
       "    <tr>\n",
       "      <th>3</th>\n",
       "      <td>43</td>\n",
       "      <td>2008-10-27 23:02:02</td>\n",
       "    </tr>\n",
       "    <tr>\n",
       "      <th>4</th>\n",
       "      <td>44</td>\n",
       "      <td>2008-10-31 22:16:01</td>\n",
       "    </tr>\n",
       "  </tbody>\n",
       "</table>\n",
       "</div>"
      ],
      "text/plain": [
       "  week_creation       creation_date\n",
       "0            40 2008-10-06 21:35:00\n",
       "1            41 2008-10-13 18:44:22\n",
       "2            42 2008-10-20 20:57:36\n",
       "3            43 2008-10-27 23:02:02\n",
       "4            44 2008-10-31 22:16:01"
      ]
     },
     "metadata": {},
     "output_type": "display_data"
    }
   ],
   "source": [
    "creation_date = pd.read_sql_query(query, con=engine) \n",
    "display(creation_date)"
   ]
  },
  {
   "cell_type": "markdown",
   "metadata": {},
   "source": [
    "        Каких-то серьёзных ошибок в таблице нет. "
   ]
  }
 ],
 "metadata": {
  "ExecuteTimeLog": [
   {
    "duration": 958,
    "start_time": "2023-05-07T08:35:08.845Z"
   },
   {
    "duration": 4,
    "start_time": "2023-05-07T08:35:09.805Z"
   },
   {
    "duration": 9126,
    "start_time": "2023-05-07T08:35:09.817Z"
   },
   {
    "duration": 215,
    "start_time": "2023-05-07T08:35:18.945Z"
   },
   {
    "duration": 19,
    "start_time": "2023-05-07T08:35:19.163Z"
   },
   {
    "duration": 10,
    "start_time": "2023-05-07T08:35:19.184Z"
   },
   {
    "duration": 10,
    "start_time": "2023-05-07T08:35:19.196Z"
   },
   {
    "duration": 10,
    "start_time": "2023-05-07T08:35:19.208Z"
   },
   {
    "duration": 7,
    "start_time": "2023-05-07T08:35:19.220Z"
   },
   {
    "duration": 8,
    "start_time": "2023-05-07T08:35:19.229Z"
   },
   {
    "duration": 7,
    "start_time": "2023-05-07T08:35:19.238Z"
   },
   {
    "duration": 8,
    "start_time": "2023-05-07T08:35:19.247Z"
   },
   {
    "duration": 6,
    "start_time": "2023-05-07T08:35:19.257Z"
   },
   {
    "duration": 7,
    "start_time": "2023-05-07T08:35:19.265Z"
   },
   {
    "duration": 9,
    "start_time": "2023-05-07T08:35:19.274Z"
   },
   {
    "duration": 13,
    "start_time": "2023-05-07T08:35:19.284Z"
   },
   {
    "duration": 11,
    "start_time": "2023-05-07T08:35:19.299Z"
   },
   {
    "duration": 10,
    "start_time": "2023-05-07T08:35:19.311Z"
   },
   {
    "duration": 6,
    "start_time": "2023-05-07T08:35:19.322Z"
   },
   {
    "duration": 7,
    "start_time": "2023-05-07T08:35:19.330Z"
   },
   {
    "duration": 7,
    "start_time": "2023-05-07T08:35:19.339Z"
   },
   {
    "duration": 16,
    "start_time": "2023-05-07T08:35:19.348Z"
   },
   {
    "duration": 3,
    "start_time": "2023-05-07T08:38:49.572Z"
   },
   {
    "duration": 95,
    "start_time": "2023-05-07T08:39:46.592Z"
   },
   {
    "duration": 568,
    "start_time": "2023-05-07T08:42:08.646Z"
   },
   {
    "duration": 1307,
    "start_time": "2023-05-07T08:42:14.530Z"
   },
   {
    "duration": 4,
    "start_time": "2023-05-07T08:42:15.839Z"
   },
   {
    "duration": 11895,
    "start_time": "2023-05-07T08:42:15.844Z"
   },
   {
    "duration": 216,
    "start_time": "2023-05-07T08:42:27.742Z"
   },
   {
    "duration": 21,
    "start_time": "2023-05-07T08:42:27.961Z"
   },
   {
    "duration": 4,
    "start_time": "2023-05-07T08:42:27.984Z"
   },
   {
    "duration": 111,
    "start_time": "2023-05-07T08:42:27.989Z"
   },
   {
    "duration": 2,
    "start_time": "2023-05-07T08:42:28.103Z"
   },
   {
    "duration": 12,
    "start_time": "2023-05-07T08:42:28.107Z"
   },
   {
    "duration": 15,
    "start_time": "2023-05-07T08:42:28.122Z"
   },
   {
    "duration": 7,
    "start_time": "2023-05-07T08:42:28.139Z"
   },
   {
    "duration": 14,
    "start_time": "2023-05-07T08:42:28.147Z"
   },
   {
    "duration": 10,
    "start_time": "2023-05-07T08:42:28.163Z"
   },
   {
    "duration": 14,
    "start_time": "2023-05-07T08:42:28.175Z"
   },
   {
    "duration": 14,
    "start_time": "2023-05-07T08:42:28.191Z"
   },
   {
    "duration": 24,
    "start_time": "2023-05-07T08:42:28.207Z"
   },
   {
    "duration": 20,
    "start_time": "2023-05-07T08:42:28.233Z"
   },
   {
    "duration": 24,
    "start_time": "2023-05-07T08:42:28.255Z"
   },
   {
    "duration": 15,
    "start_time": "2023-05-07T08:42:28.280Z"
   },
   {
    "duration": 12,
    "start_time": "2023-05-07T08:42:28.297Z"
   },
   {
    "duration": 9,
    "start_time": "2023-05-07T08:42:28.311Z"
   },
   {
    "duration": 14,
    "start_time": "2023-05-07T08:42:28.321Z"
   },
   {
    "duration": 11,
    "start_time": "2023-05-07T08:42:28.337Z"
   },
   {
    "duration": 112,
    "start_time": "2023-05-07T08:43:00.485Z"
   },
   {
    "duration": 3,
    "start_time": "2023-05-07T08:44:19.699Z"
   },
   {
    "duration": 98,
    "start_time": "2023-05-07T08:44:25.079Z"
   },
   {
    "duration": 3,
    "start_time": "2023-05-07T08:51:49.027Z"
   },
   {
    "duration": 3,
    "start_time": "2023-05-07T08:51:49.882Z"
   },
   {
    "duration": 4,
    "start_time": "2023-05-07T08:51:50.725Z"
   },
   {
    "duration": 93,
    "start_time": "2023-05-07T08:51:51.339Z"
   },
   {
    "duration": 1420,
    "start_time": "2023-05-07T11:04:04.621Z"
   },
   {
    "duration": 5,
    "start_time": "2023-05-07T11:04:06.043Z"
   },
   {
    "duration": 5575,
    "start_time": "2023-05-07T11:04:06.049Z"
   },
   {
    "duration": 46,
    "start_time": "2023-05-07T11:04:11.626Z"
   },
   {
    "duration": 16,
    "start_time": "2023-05-07T11:04:11.673Z"
   },
   {
    "duration": 2,
    "start_time": "2023-05-07T11:04:11.691Z"
   },
   {
    "duration": 66,
    "start_time": "2023-05-07T11:04:11.695Z"
   },
   {
    "duration": 3,
    "start_time": "2023-05-07T11:04:11.763Z"
   },
   {
    "duration": 4,
    "start_time": "2023-05-07T11:04:11.768Z"
   },
   {
    "duration": 3,
    "start_time": "2023-05-07T11:04:11.775Z"
   },
   {
    "duration": 6,
    "start_time": "2023-05-07T11:04:11.780Z"
   },
   {
    "duration": 9,
    "start_time": "2023-05-07T11:04:11.788Z"
   },
   {
    "duration": 6,
    "start_time": "2023-05-07T11:04:11.799Z"
   },
   {
    "duration": 4,
    "start_time": "2023-05-07T11:04:11.806Z"
   },
   {
    "duration": 4,
    "start_time": "2023-05-07T11:04:11.812Z"
   },
   {
    "duration": 5,
    "start_time": "2023-05-07T11:04:11.818Z"
   },
   {
    "duration": 5,
    "start_time": "2023-05-07T11:04:11.824Z"
   },
   {
    "duration": 8,
    "start_time": "2023-05-07T11:04:11.831Z"
   },
   {
    "duration": 4,
    "start_time": "2023-05-07T11:04:11.841Z"
   },
   {
    "duration": 4,
    "start_time": "2023-05-07T11:04:11.846Z"
   },
   {
    "duration": 8,
    "start_time": "2023-05-07T11:04:11.852Z"
   },
   {
    "duration": 8,
    "start_time": "2023-05-07T11:04:11.862Z"
   },
   {
    "duration": 4,
    "start_time": "2023-05-07T11:11:16.237Z"
   },
   {
    "duration": 192,
    "start_time": "2023-05-07T11:11:58.990Z"
   },
   {
    "duration": 7,
    "start_time": "2023-05-07T11:13:33.311Z"
   },
   {
    "duration": 3,
    "start_time": "2023-05-07T11:13:34.236Z"
   },
   {
    "duration": 3,
    "start_time": "2023-05-07T11:13:35.634Z"
   },
   {
    "duration": 204,
    "start_time": "2023-05-07T11:13:36.552Z"
   },
   {
    "duration": 12,
    "start_time": "2023-05-07T11:17:18.498Z"
   },
   {
    "duration": 11,
    "start_time": "2023-05-07T11:17:29.691Z"
   },
   {
    "duration": 7,
    "start_time": "2023-05-07T11:17:34.286Z"
   },
   {
    "duration": 8,
    "start_time": "2023-05-07T11:17:51.757Z"
   },
   {
    "duration": 3,
    "start_time": "2023-05-07T11:34:02.831Z"
   },
   {
    "duration": 121,
    "start_time": "2023-05-07T11:34:30.158Z"
   },
   {
    "duration": 4,
    "start_time": "2023-05-07T11:34:45.428Z"
   },
   {
    "duration": 4,
    "start_time": "2023-05-07T11:34:46.172Z"
   },
   {
    "duration": 3,
    "start_time": "2023-05-07T11:34:48.077Z"
   },
   {
    "duration": 121,
    "start_time": "2023-05-07T11:34:48.663Z"
   },
   {
    "duration": 4,
    "start_time": "2023-05-07T11:39:16.731Z"
   },
   {
    "duration": 4,
    "start_time": "2023-05-07T11:39:18.234Z"
   },
   {
    "duration": 1923,
    "start_time": "2023-05-07T11:40:00.632Z"
   },
   {
    "duration": 4,
    "start_time": "2023-05-07T11:40:24.997Z"
   },
   {
    "duration": 4,
    "start_time": "2023-05-07T11:40:27.100Z"
   },
   {
    "duration": 1510,
    "start_time": "2023-05-07T11:40:28.024Z"
   },
   {
    "duration": 1318,
    "start_time": "2023-05-07T11:44:08.137Z"
   },
   {
    "duration": 1370,
    "start_time": "2023-05-07T11:44:28.191Z"
   },
   {
    "duration": 3,
    "start_time": "2023-05-07T11:44:29.563Z"
   },
   {
    "duration": 4974,
    "start_time": "2023-05-07T11:44:29.568Z"
   },
   {
    "duration": 32,
    "start_time": "2023-05-07T11:44:34.544Z"
   },
   {
    "duration": 17,
    "start_time": "2023-05-07T11:44:34.578Z"
   },
   {
    "duration": 7,
    "start_time": "2023-05-07T11:44:34.596Z"
   },
   {
    "duration": 86,
    "start_time": "2023-05-07T11:44:34.604Z"
   },
   {
    "duration": 3,
    "start_time": "2023-05-07T11:44:34.692Z"
   },
   {
    "duration": 210,
    "start_time": "2023-05-07T11:44:34.697Z"
   },
   {
    "duration": 10,
    "start_time": "2023-05-07T11:44:34.910Z"
   },
   {
    "duration": 7,
    "start_time": "2023-05-07T11:44:34.922Z"
   },
   {
    "duration": 122,
    "start_time": "2023-05-07T11:44:34.930Z"
   },
   {
    "duration": 3,
    "start_time": "2023-05-07T11:44:35.053Z"
   },
   {
    "duration": 1223,
    "start_time": "2023-05-07T11:44:35.058Z"
   },
   {
    "duration": 3,
    "start_time": "2023-05-07T11:44:36.283Z"
   },
   {
    "duration": 51,
    "start_time": "2023-05-07T11:44:36.288Z"
   },
   {
    "duration": 3,
    "start_time": "2023-05-07T11:44:36.341Z"
   },
   {
    "duration": 6,
    "start_time": "2023-05-07T11:44:36.346Z"
   },
   {
    "duration": 4,
    "start_time": "2023-05-07T11:44:36.354Z"
   },
   {
    "duration": 4,
    "start_time": "2023-05-07T11:44:36.360Z"
   },
   {
    "duration": 4,
    "start_time": "2023-05-07T11:44:36.365Z"
   },
   {
    "duration": 7,
    "start_time": "2023-05-07T11:44:36.370Z"
   },
   {
    "duration": 15,
    "start_time": "2023-05-07T11:44:36.378Z"
   },
   {
    "duration": 9,
    "start_time": "2023-05-07T11:44:36.395Z"
   },
   {
    "duration": 5,
    "start_time": "2023-05-07T11:44:36.406Z"
   },
   {
    "duration": 170,
    "start_time": "2023-05-07T11:48:32.620Z"
   },
   {
    "duration": 3,
    "start_time": "2023-05-07T11:48:35.166Z"
   },
   {
    "duration": 3,
    "start_time": "2023-05-07T11:48:36.256Z"
   },
   {
    "duration": 2,
    "start_time": "2023-05-07T11:48:37.858Z"
   },
   {
    "duration": 207,
    "start_time": "2023-05-07T11:48:38.588Z"
   },
   {
    "duration": 3,
    "start_time": "2023-05-07T11:52:35.303Z"
   },
   {
    "duration": 80,
    "start_time": "2023-05-07T11:52:37.843Z"
   },
   {
    "duration": 3,
    "start_time": "2023-05-07T11:52:40.881Z"
   },
   {
    "duration": 3,
    "start_time": "2023-05-07T11:52:41.525Z"
   },
   {
    "duration": 3,
    "start_time": "2023-05-07T11:52:42.525Z"
   },
   {
    "duration": 81,
    "start_time": "2023-05-07T11:52:43.076Z"
   },
   {
    "duration": 4,
    "start_time": "2023-05-07T11:53:13.192Z"
   },
   {
    "duration": 76,
    "start_time": "2023-05-07T11:53:13.887Z"
   },
   {
    "duration": 3,
    "start_time": "2023-05-07T11:53:37.652Z"
   },
   {
    "duration": 3,
    "start_time": "2023-05-07T11:53:40.039Z"
   },
   {
    "duration": 73,
    "start_time": "2023-05-07T11:53:40.586Z"
   },
   {
    "duration": 2,
    "start_time": "2023-05-07T11:54:46.239Z"
   },
   {
    "duration": 3,
    "start_time": "2023-05-07T11:54:47.541Z"
   },
   {
    "duration": 66,
    "start_time": "2023-05-07T11:54:48.222Z"
   },
   {
    "duration": 4,
    "start_time": "2023-05-07T11:55:53.367Z"
   },
   {
    "duration": 66,
    "start_time": "2023-05-07T11:55:53.794Z"
   },
   {
    "duration": 62,
    "start_time": "2023-05-07T11:58:07.169Z"
   },
   {
    "duration": 1549,
    "start_time": "2023-05-07T11:58:17.069Z"
   },
   {
    "duration": 4,
    "start_time": "2023-05-07T11:58:18.620Z"
   },
   {
    "duration": 5140,
    "start_time": "2023-05-07T11:58:18.626Z"
   },
   {
    "duration": 60,
    "start_time": "2023-05-07T11:58:23.768Z"
   },
   {
    "duration": 21,
    "start_time": "2023-05-07T11:58:23.832Z"
   },
   {
    "duration": 4,
    "start_time": "2023-05-07T11:58:23.855Z"
   },
   {
    "duration": 68,
    "start_time": "2023-05-07T11:58:23.862Z"
   },
   {
    "duration": 3,
    "start_time": "2023-05-07T11:58:23.933Z"
   },
   {
    "duration": 206,
    "start_time": "2023-05-07T11:58:23.939Z"
   },
   {
    "duration": 9,
    "start_time": "2023-05-07T11:58:24.148Z"
   },
   {
    "duration": 4,
    "start_time": "2023-05-07T11:58:24.159Z"
   },
   {
    "duration": 124,
    "start_time": "2023-05-07T11:58:24.165Z"
   },
   {
    "duration": 3,
    "start_time": "2023-05-07T11:58:24.291Z"
   },
   {
    "duration": 1317,
    "start_time": "2023-05-07T11:58:24.297Z"
   },
   {
    "duration": 4,
    "start_time": "2023-05-07T11:58:25.615Z"
   },
   {
    "duration": 74,
    "start_time": "2023-05-07T11:58:25.621Z"
   },
   {
    "duration": 2,
    "start_time": "2023-05-07T11:58:25.697Z"
   },
   {
    "duration": 75,
    "start_time": "2023-05-07T11:58:25.700Z"
   },
   {
    "duration": 2,
    "start_time": "2023-05-07T11:58:25.777Z"
   },
   {
    "duration": 9,
    "start_time": "2023-05-07T11:58:25.780Z"
   },
   {
    "duration": 10,
    "start_time": "2023-05-07T11:58:25.791Z"
   },
   {
    "duration": 4,
    "start_time": "2023-05-07T11:58:25.802Z"
   },
   {
    "duration": 6,
    "start_time": "2023-05-07T11:58:25.808Z"
   },
   {
    "duration": 4,
    "start_time": "2023-05-07T11:58:25.816Z"
   },
   {
    "duration": 3,
    "start_time": "2023-05-07T11:58:25.822Z"
   },
   {
    "duration": 12,
    "start_time": "2023-05-07T11:58:25.826Z"
   },
   {
    "duration": 4,
    "start_time": "2023-05-07T11:59:11.263Z"
   },
   {
    "duration": 3,
    "start_time": "2023-05-07T11:59:13.604Z"
   },
   {
    "duration": 40,
    "start_time": "2023-05-07T11:59:14.536Z"
   },
   {
    "duration": 5,
    "start_time": "2023-05-07T12:00:10.780Z"
   },
   {
    "duration": 4,
    "start_time": "2023-05-07T12:00:11.309Z"
   },
   {
    "duration": 3,
    "start_time": "2023-05-07T12:00:11.959Z"
   },
   {
    "duration": 37,
    "start_time": "2023-05-07T12:00:12.372Z"
   },
   {
    "duration": 1391,
    "start_time": "2023-05-08T06:09:49.287Z"
   },
   {
    "duration": 4,
    "start_time": "2023-05-08T06:09:50.680Z"
   },
   {
    "duration": 9072,
    "start_time": "2023-05-08T06:09:50.685Z"
   },
   {
    "duration": 208,
    "start_time": "2023-05-08T06:09:59.760Z"
   },
   {
    "duration": 16,
    "start_time": "2023-05-08T06:09:59.970Z"
   },
   {
    "duration": 12,
    "start_time": "2023-05-08T06:09:59.987Z"
   },
   {
    "duration": 124,
    "start_time": "2023-05-08T06:10:00.000Z"
   },
   {
    "duration": 3,
    "start_time": "2023-05-08T06:10:00.126Z"
   },
   {
    "duration": 286,
    "start_time": "2023-05-08T06:10:00.130Z"
   },
   {
    "duration": 8,
    "start_time": "2023-05-08T06:10:00.418Z"
   },
   {
    "duration": 35,
    "start_time": "2023-05-08T06:10:00.428Z"
   },
   {
    "duration": 190,
    "start_time": "2023-05-08T06:10:00.465Z"
   },
   {
    "duration": 2,
    "start_time": "2023-05-08T06:10:00.657Z"
   },
   {
    "duration": 1434,
    "start_time": "2023-05-08T06:10:00.661Z"
   },
   {
    "duration": 3,
    "start_time": "2023-05-08T06:10:02.096Z"
   },
   {
    "duration": 147,
    "start_time": "2023-05-08T06:10:02.101Z"
   },
   {
    "duration": 2,
    "start_time": "2023-05-08T06:10:02.250Z"
   },
   {
    "duration": 94,
    "start_time": "2023-05-08T06:10:02.254Z"
   },
   {
    "duration": 3,
    "start_time": "2023-05-08T06:10:02.349Z"
   },
   {
    "duration": 36,
    "start_time": "2023-05-08T06:10:02.353Z"
   },
   {
    "duration": 31,
    "start_time": "2023-05-08T06:10:02.391Z"
   },
   {
    "duration": 25,
    "start_time": "2023-05-08T06:10:02.424Z"
   },
   {
    "duration": 37,
    "start_time": "2023-05-08T06:10:02.451Z"
   },
   {
    "duration": 59,
    "start_time": "2023-05-08T06:10:02.490Z"
   },
   {
    "duration": 45,
    "start_time": "2023-05-08T06:10:02.550Z"
   },
   {
    "duration": 3,
    "start_time": "2023-05-08T06:13:42.501Z"
   },
   {
    "duration": 3,
    "start_time": "2023-05-08T06:14:24.607Z"
   },
   {
    "duration": 1265,
    "start_time": "2023-05-08T06:14:25.062Z"
   },
   {
    "duration": 1235,
    "start_time": "2023-05-08T06:14:30.950Z"
   },
   {
    "duration": 3,
    "start_time": "2023-05-08T06:22:18.797Z"
   },
   {
    "duration": 593,
    "start_time": "2023-05-08T06:22:36.390Z"
   },
   {
    "duration": 583,
    "start_time": "2023-05-08T06:22:55.515Z"
   },
   {
    "duration": 11,
    "start_time": "2023-05-08T06:24:03.386Z"
   },
   {
    "duration": 456,
    "start_time": "2023-05-08T06:24:40.951Z"
   },
   {
    "duration": 383,
    "start_time": "2023-05-08T06:24:58.754Z"
   },
   {
    "duration": 3,
    "start_time": "2023-05-08T06:37:22.746Z"
   },
   {
    "duration": 134,
    "start_time": "2023-05-08T06:38:01.123Z"
   },
   {
    "duration": 11,
    "start_time": "2023-05-08T06:39:04.221Z"
   },
   {
    "duration": 1271,
    "start_time": "2023-05-08T06:39:17.421Z"
   },
   {
    "duration": 5,
    "start_time": "2023-05-08T06:39:18.694Z"
   },
   {
    "duration": 8465,
    "start_time": "2023-05-08T06:39:18.700Z"
   },
   {
    "duration": 192,
    "start_time": "2023-05-08T06:39:27.166Z"
   },
   {
    "duration": 15,
    "start_time": "2023-05-08T06:39:27.360Z"
   },
   {
    "duration": 9,
    "start_time": "2023-05-08T06:39:27.376Z"
   },
   {
    "duration": 97,
    "start_time": "2023-05-08T06:39:27.386Z"
   },
   {
    "duration": 2,
    "start_time": "2023-05-08T06:39:27.485Z"
   },
   {
    "duration": 228,
    "start_time": "2023-05-08T06:39:27.489Z"
   },
   {
    "duration": 6,
    "start_time": "2023-05-08T06:39:27.719Z"
   },
   {
    "duration": 4,
    "start_time": "2023-05-08T06:39:27.727Z"
   },
   {
    "duration": 150,
    "start_time": "2023-05-08T06:39:27.732Z"
   },
   {
    "duration": 2,
    "start_time": "2023-05-08T06:39:27.884Z"
   },
   {
    "duration": 1212,
    "start_time": "2023-05-08T06:39:27.889Z"
   },
   {
    "duration": 3,
    "start_time": "2023-05-08T06:39:29.103Z"
   },
   {
    "duration": 102,
    "start_time": "2023-05-08T06:39:29.108Z"
   },
   {
    "duration": 2,
    "start_time": "2023-05-08T06:39:29.212Z"
   },
   {
    "duration": 71,
    "start_time": "2023-05-08T06:39:29.216Z"
   },
   {
    "duration": 4,
    "start_time": "2023-05-08T06:39:29.289Z"
   },
   {
    "duration": 1190,
    "start_time": "2023-05-08T06:39:29.295Z"
   },
   {
    "duration": 3,
    "start_time": "2023-05-08T06:39:30.486Z"
   },
   {
    "duration": 619,
    "start_time": "2023-05-08T06:39:30.491Z"
   },
   {
    "duration": 364,
    "start_time": "2023-05-08T06:39:31.112Z"
   },
   {
    "duration": 6,
    "start_time": "2023-05-08T06:39:31.477Z"
   },
   {
    "duration": 185,
    "start_time": "2023-05-08T06:39:31.485Z"
   },
   {
    "duration": 100,
    "start_time": "2023-05-08T06:39:31.672Z"
   },
   {
    "duration": 0,
    "start_time": "2023-05-08T06:39:31.774Z"
   },
   {
    "duration": 10,
    "start_time": "2023-05-08T06:43:27.865Z"
   },
   {
    "duration": 3,
    "start_time": "2023-05-08T06:43:33.792Z"
   },
   {
    "duration": 132,
    "start_time": "2023-05-08T06:43:34.221Z"
   },
   {
    "duration": 9,
    "start_time": "2023-05-08T06:43:35.913Z"
   },
   {
    "duration": 97,
    "start_time": "2023-05-08T06:44:56.311Z"
   },
   {
    "duration": 112,
    "start_time": "2023-05-08T06:45:30.264Z"
   },
   {
    "duration": 70,
    "start_time": "2023-05-08T06:45:48.931Z"
   },
   {
    "duration": 68,
    "start_time": "2023-05-08T06:47:39.903Z"
   },
   {
    "duration": 63,
    "start_time": "2023-05-08T06:51:23.103Z"
   },
   {
    "duration": 11,
    "start_time": "2023-05-08T06:51:56.865Z"
   },
   {
    "duration": 79,
    "start_time": "2023-05-08T06:52:27.872Z"
   },
   {
    "duration": 136,
    "start_time": "2023-05-08T06:53:19.349Z"
   },
   {
    "duration": 280,
    "start_time": "2023-05-08T06:53:33.904Z"
   },
   {
    "duration": 194,
    "start_time": "2023-05-08T06:53:39.011Z"
   },
   {
    "duration": 150,
    "start_time": "2023-05-08T06:53:46.008Z"
   },
   {
    "duration": 154,
    "start_time": "2023-05-08T06:53:52.709Z"
   },
   {
    "duration": 154,
    "start_time": "2023-05-08T06:53:56.949Z"
   },
   {
    "duration": 264,
    "start_time": "2023-05-08T06:54:06.639Z"
   },
   {
    "duration": 203,
    "start_time": "2023-05-08T06:54:18.509Z"
   },
   {
    "duration": 206,
    "start_time": "2023-05-08T06:54:43.980Z"
   },
   {
    "duration": 190,
    "start_time": "2023-05-08T06:54:51.147Z"
   },
   {
    "duration": 149,
    "start_time": "2023-05-08T06:55:01.676Z"
   },
   {
    "duration": 145,
    "start_time": "2023-05-08T06:55:15.591Z"
   },
   {
    "duration": 108,
    "start_time": "2023-05-08T06:56:11.132Z"
   },
   {
    "duration": 119,
    "start_time": "2023-05-08T06:56:55.858Z"
   },
   {
    "duration": 134,
    "start_time": "2023-05-08T06:57:04.819Z"
   },
   {
    "duration": 11,
    "start_time": "2023-05-08T06:58:27.394Z"
   },
   {
    "duration": 15,
    "start_time": "2023-05-08T06:58:39.486Z"
   },
   {
    "duration": 313,
    "start_time": "2023-05-08T06:58:57.584Z"
   },
   {
    "duration": 10,
    "start_time": "2023-05-08T06:59:12.901Z"
   },
   {
    "duration": 116,
    "start_time": "2023-05-08T06:59:21.788Z"
   },
   {
    "duration": 150,
    "start_time": "2023-05-08T07:00:31.272Z"
   },
   {
    "duration": 127,
    "start_time": "2023-05-08T07:00:47.606Z"
   },
   {
    "duration": 123,
    "start_time": "2023-05-08T07:03:35.960Z"
   },
   {
    "duration": 212,
    "start_time": "2023-05-08T07:04:31.217Z"
   },
   {
    "duration": 128,
    "start_time": "2023-05-08T07:04:43.185Z"
   },
   {
    "duration": 122,
    "start_time": "2023-05-08T07:05:21.803Z"
   },
   {
    "duration": 137,
    "start_time": "2023-05-08T07:05:30.717Z"
   },
   {
    "duration": 140,
    "start_time": "2023-05-08T07:06:07.489Z"
   },
   {
    "duration": 137,
    "start_time": "2023-05-08T07:06:26.181Z"
   },
   {
    "duration": 222,
    "start_time": "2023-05-08T07:08:07.600Z"
   },
   {
    "duration": 117,
    "start_time": "2023-05-08T07:08:22.895Z"
   },
   {
    "duration": 109,
    "start_time": "2023-05-08T07:10:18.243Z"
   },
   {
    "duration": 143,
    "start_time": "2023-05-08T07:11:44.900Z"
   },
   {
    "duration": 129,
    "start_time": "2023-05-08T07:11:52.626Z"
   },
   {
    "duration": 122,
    "start_time": "2023-05-08T07:11:56.664Z"
   },
   {
    "duration": 102,
    "start_time": "2023-05-08T07:12:00.967Z"
   },
   {
    "duration": 3,
    "start_time": "2023-05-08T07:13:50.326Z"
   },
   {
    "duration": 3,
    "start_time": "2023-05-08T07:14:13.420Z"
   },
   {
    "duration": 122,
    "start_time": "2023-05-08T07:14:21.725Z"
   },
   {
    "duration": 3,
    "start_time": "2023-05-08T07:15:08.448Z"
   },
   {
    "duration": 123,
    "start_time": "2023-05-08T07:15:09.024Z"
   },
   {
    "duration": 3,
    "start_time": "2023-05-08T07:16:11.881Z"
   },
   {
    "duration": 122,
    "start_time": "2023-05-08T07:16:12.209Z"
   },
   {
    "duration": 1204,
    "start_time": "2023-05-08T07:18:06.315Z"
   },
   {
    "duration": 3,
    "start_time": "2023-05-08T07:18:07.521Z"
   },
   {
    "duration": 19918,
    "start_time": "2023-05-08T07:18:07.526Z"
   },
   {
    "duration": 214,
    "start_time": "2023-05-08T07:18:27.446Z"
   },
   {
    "duration": 14,
    "start_time": "2023-05-08T07:18:27.661Z"
   },
   {
    "duration": 10,
    "start_time": "2023-05-08T07:18:27.677Z"
   },
   {
    "duration": 100,
    "start_time": "2023-05-08T07:18:27.688Z"
   },
   {
    "duration": 3,
    "start_time": "2023-05-08T07:18:27.789Z"
   },
   {
    "duration": 241,
    "start_time": "2023-05-08T07:18:27.794Z"
   },
   {
    "duration": 7,
    "start_time": "2023-05-08T07:18:28.038Z"
   },
   {
    "duration": 12,
    "start_time": "2023-05-08T07:18:28.047Z"
   },
   {
    "duration": 160,
    "start_time": "2023-05-08T07:18:28.060Z"
   },
   {
    "duration": 2,
    "start_time": "2023-05-08T07:18:28.222Z"
   },
   {
    "duration": 1169,
    "start_time": "2023-05-08T07:18:28.225Z"
   },
   {
    "duration": 3,
    "start_time": "2023-05-08T07:18:29.395Z"
   },
   {
    "duration": 98,
    "start_time": "2023-05-08T07:18:29.399Z"
   },
   {
    "duration": 3,
    "start_time": "2023-05-08T07:18:29.498Z"
   },
   {
    "duration": 66,
    "start_time": "2023-05-08T07:18:29.502Z"
   },
   {
    "duration": 2,
    "start_time": "2023-05-08T07:18:29.569Z"
   },
   {
    "duration": 1203,
    "start_time": "2023-05-08T07:18:29.573Z"
   },
   {
    "duration": 3,
    "start_time": "2023-05-08T07:18:30.782Z"
   },
   {
    "duration": 621,
    "start_time": "2023-05-08T07:18:30.788Z"
   },
   {
    "duration": 361,
    "start_time": "2023-05-08T07:18:31.411Z"
   },
   {
    "duration": 3,
    "start_time": "2023-05-08T07:18:31.773Z"
   },
   {
    "duration": 155,
    "start_time": "2023-05-08T07:18:31.782Z"
   },
   {
    "duration": 113,
    "start_time": "2023-05-08T07:18:31.939Z"
   },
   {
    "duration": 3,
    "start_time": "2023-05-08T07:18:32.054Z"
   },
   {
    "duration": 135,
    "start_time": "2023-05-08T07:18:32.060Z"
   },
   {
    "duration": 1369,
    "start_time": "2023-05-08T09:39:35.175Z"
   },
   {
    "duration": 4,
    "start_time": "2023-05-08T09:39:36.546Z"
   },
   {
    "duration": 11628,
    "start_time": "2023-05-08T09:39:36.552Z"
   },
   {
    "duration": 44,
    "start_time": "2023-05-08T09:39:48.183Z"
   },
   {
    "duration": 21,
    "start_time": "2023-05-08T09:39:48.230Z"
   },
   {
    "duration": 3,
    "start_time": "2023-05-08T09:39:48.253Z"
   },
   {
    "duration": 69,
    "start_time": "2023-05-08T09:39:48.258Z"
   },
   {
    "duration": 3,
    "start_time": "2023-05-08T09:39:48.328Z"
   },
   {
    "duration": 203,
    "start_time": "2023-05-08T09:39:48.333Z"
   },
   {
    "duration": 9,
    "start_time": "2023-05-08T09:39:48.539Z"
   },
   {
    "duration": 4,
    "start_time": "2023-05-08T09:39:48.551Z"
   },
   {
    "duration": 121,
    "start_time": "2023-05-08T09:39:48.557Z"
   },
   {
    "duration": 4,
    "start_time": "2023-05-08T09:39:48.680Z"
   },
   {
    "duration": 1222,
    "start_time": "2023-05-08T09:39:48.686Z"
   },
   {
    "duration": 4,
    "start_time": "2023-05-08T09:39:49.909Z"
   },
   {
    "duration": 78,
    "start_time": "2023-05-08T09:39:49.914Z"
   },
   {
    "duration": 4,
    "start_time": "2023-05-08T09:39:49.994Z"
   },
   {
    "duration": 48,
    "start_time": "2023-05-08T09:39:50.000Z"
   },
   {
    "duration": 3,
    "start_time": "2023-05-08T09:39:50.049Z"
   },
   {
    "duration": 1208,
    "start_time": "2023-05-08T09:39:50.054Z"
   },
   {
    "duration": 3,
    "start_time": "2023-05-08T09:39:51.263Z"
   },
   {
    "duration": 561,
    "start_time": "2023-05-08T09:39:51.268Z"
   },
   {
    "duration": 388,
    "start_time": "2023-05-08T09:39:51.831Z"
   },
   {
    "duration": 3,
    "start_time": "2023-05-08T09:39:52.222Z"
   },
   {
    "duration": 144,
    "start_time": "2023-05-08T09:39:52.227Z"
   },
   {
    "duration": 134,
    "start_time": "2023-05-08T09:39:52.373Z"
   },
   {
    "duration": 3,
    "start_time": "2023-05-08T09:39:52.509Z"
   },
   {
    "duration": 100,
    "start_time": "2023-05-08T09:39:52.515Z"
   },
   {
    "duration": 121,
    "start_time": "2023-05-08T09:46:56.002Z"
   },
   {
    "duration": 151,
    "start_time": "2023-05-08T09:48:01.558Z"
   },
   {
    "duration": 137,
    "start_time": "2023-05-08T09:50:03.162Z"
   },
   {
    "duration": 3,
    "start_time": "2023-05-08T09:50:22.031Z"
   },
   {
    "duration": 95,
    "start_time": "2023-05-08T09:50:22.829Z"
   },
   {
    "duration": 93,
    "start_time": "2023-05-08T09:50:35.508Z"
   },
   {
    "duration": 94,
    "start_time": "2023-05-08T09:50:45.105Z"
   },
   {
    "duration": 98,
    "start_time": "2023-05-08T09:50:50.480Z"
   },
   {
    "duration": 94,
    "start_time": "2023-05-08T09:50:56.836Z"
   },
   {
    "duration": 3,
    "start_time": "2023-05-08T09:51:04.773Z"
   },
   {
    "duration": 10,
    "start_time": "2023-05-08T10:24:37.778Z"
   },
   {
    "duration": 55,
    "start_time": "2023-05-08T10:24:39.242Z"
   },
   {
    "duration": 1629,
    "start_time": "2023-05-08T10:24:49.394Z"
   },
   {
    "duration": 4,
    "start_time": "2023-05-08T10:24:51.025Z"
   },
   {
    "duration": 10485,
    "start_time": "2023-05-08T10:24:51.042Z"
   },
   {
    "duration": 283,
    "start_time": "2023-05-08T10:25:01.530Z"
   },
   {
    "duration": 19,
    "start_time": "2023-05-08T10:25:01.815Z"
   },
   {
    "duration": 73,
    "start_time": "2023-05-08T10:25:01.836Z"
   },
   {
    "duration": 160,
    "start_time": "2023-05-08T10:25:01.911Z"
   },
   {
    "duration": 2,
    "start_time": "2023-05-08T10:25:02.074Z"
   },
   {
    "duration": 266,
    "start_time": "2023-05-08T10:25:02.078Z"
   },
   {
    "duration": 12,
    "start_time": "2023-05-08T10:25:02.352Z"
   },
   {
    "duration": 26,
    "start_time": "2023-05-08T10:25:02.366Z"
   },
   {
    "duration": 191,
    "start_time": "2023-05-08T10:25:02.395Z"
   },
   {
    "duration": 4,
    "start_time": "2023-05-08T10:25:02.588Z"
   },
   {
    "duration": 1469,
    "start_time": "2023-05-08T10:25:02.594Z"
   },
   {
    "duration": 7,
    "start_time": "2023-05-08T10:25:04.065Z"
   },
   {
    "duration": 117,
    "start_time": "2023-05-08T10:25:04.074Z"
   },
   {
    "duration": 3,
    "start_time": "2023-05-08T10:25:04.194Z"
   },
   {
    "duration": 87,
    "start_time": "2023-05-08T10:25:04.199Z"
   },
   {
    "duration": 3,
    "start_time": "2023-05-08T10:25:04.288Z"
   },
   {
    "duration": 1438,
    "start_time": "2023-05-08T10:25:04.293Z"
   },
   {
    "duration": 4,
    "start_time": "2023-05-08T10:25:05.733Z"
   },
   {
    "duration": 644,
    "start_time": "2023-05-08T10:25:05.742Z"
   },
   {
    "duration": 505,
    "start_time": "2023-05-08T10:25:06.388Z"
   },
   {
    "duration": 4,
    "start_time": "2023-05-08T10:25:06.895Z"
   },
   {
    "duration": 221,
    "start_time": "2023-05-08T10:25:06.901Z"
   },
   {
    "duration": 153,
    "start_time": "2023-05-08T10:25:07.124Z"
   },
   {
    "duration": 4,
    "start_time": "2023-05-08T10:25:07.279Z"
   },
   {
    "duration": 204,
    "start_time": "2023-05-08T10:25:07.286Z"
   },
   {
    "duration": 139,
    "start_time": "2023-05-08T10:25:28.149Z"
   },
   {
    "duration": 3,
    "start_time": "2023-05-08T10:25:32.824Z"
   },
   {
    "duration": 127,
    "start_time": "2023-05-08T10:25:33.690Z"
   },
   {
    "duration": 4,
    "start_time": "2023-05-08T10:26:07.714Z"
   },
   {
    "duration": 123,
    "start_time": "2023-05-08T10:26:08.570Z"
   },
   {
    "duration": 3,
    "start_time": "2023-05-08T10:26:11.270Z"
   },
   {
    "duration": 130,
    "start_time": "2023-05-08T10:26:11.769Z"
   },
   {
    "duration": 3,
    "start_time": "2023-05-08T10:26:23.120Z"
   },
   {
    "duration": 125,
    "start_time": "2023-05-08T10:26:23.893Z"
   },
   {
    "duration": 3,
    "start_time": "2023-05-08T10:26:25.530Z"
   },
   {
    "duration": 128,
    "start_time": "2023-05-08T10:26:25.989Z"
   },
   {
    "duration": 3,
    "start_time": "2023-05-08T10:26:28.072Z"
   },
   {
    "duration": 125,
    "start_time": "2023-05-08T10:26:28.595Z"
   },
   {
    "duration": 3,
    "start_time": "2023-05-08T10:26:34.326Z"
   },
   {
    "duration": 125,
    "start_time": "2023-05-08T10:26:34.967Z"
   },
   {
    "duration": 4,
    "start_time": "2023-05-08T10:26:36.632Z"
   },
   {
    "duration": 126,
    "start_time": "2023-05-08T10:26:37.104Z"
   },
   {
    "duration": 4,
    "start_time": "2023-05-08T10:27:30.374Z"
   },
   {
    "duration": 124,
    "start_time": "2023-05-08T10:27:30.969Z"
   },
   {
    "duration": 1310,
    "start_time": "2023-05-08T13:09:24.007Z"
   },
   {
    "duration": 5,
    "start_time": "2023-05-08T13:09:25.319Z"
   },
   {
    "duration": 11571,
    "start_time": "2023-05-08T13:09:25.325Z"
   },
   {
    "duration": 46,
    "start_time": "2023-05-08T13:09:36.898Z"
   },
   {
    "duration": 15,
    "start_time": "2023-05-08T13:09:36.946Z"
   },
   {
    "duration": 14,
    "start_time": "2023-05-08T13:09:36.963Z"
   },
   {
    "duration": 70,
    "start_time": "2023-05-08T13:09:36.979Z"
   },
   {
    "duration": 3,
    "start_time": "2023-05-08T13:09:37.051Z"
   },
   {
    "duration": 209,
    "start_time": "2023-05-08T13:09:37.055Z"
   },
   {
    "duration": 8,
    "start_time": "2023-05-08T13:09:37.266Z"
   },
   {
    "duration": 4,
    "start_time": "2023-05-08T13:09:37.277Z"
   },
   {
    "duration": 156,
    "start_time": "2023-05-08T13:09:37.282Z"
   },
   {
    "duration": 3,
    "start_time": "2023-05-08T13:09:37.440Z"
   },
   {
    "duration": 1212,
    "start_time": "2023-05-08T13:09:37.446Z"
   },
   {
    "duration": 3,
    "start_time": "2023-05-08T13:09:38.659Z"
   },
   {
    "duration": 68,
    "start_time": "2023-05-08T13:09:38.663Z"
   },
   {
    "duration": 3,
    "start_time": "2023-05-08T13:09:38.733Z"
   },
   {
    "duration": 39,
    "start_time": "2023-05-08T13:09:38.737Z"
   },
   {
    "duration": 3,
    "start_time": "2023-05-08T13:09:38.777Z"
   },
   {
    "duration": 1149,
    "start_time": "2023-05-08T13:09:38.781Z"
   },
   {
    "duration": 3,
    "start_time": "2023-05-08T13:09:39.932Z"
   },
   {
    "duration": 560,
    "start_time": "2023-05-08T13:09:39.936Z"
   },
   {
    "duration": 398,
    "start_time": "2023-05-08T13:09:40.497Z"
   },
   {
    "duration": 4,
    "start_time": "2023-05-08T13:09:40.897Z"
   },
   {
    "duration": 107,
    "start_time": "2023-05-08T13:09:40.903Z"
   },
   {
    "duration": 122,
    "start_time": "2023-05-08T13:09:41.013Z"
   },
   {
    "duration": 3,
    "start_time": "2023-05-08T13:09:41.137Z"
   },
   {
    "duration": 95,
    "start_time": "2023-05-08T13:09:41.142Z"
   }
  ],
  "colab": {
   "provenance": []
  },
  "kernelspec": {
   "display_name": "Python 3 (ipykernel)",
   "language": "python",
   "name": "python3"
  },
  "language_info": {
   "codemirror_mode": {
    "name": "ipython",
    "version": 3
   },
   "file_extension": ".py",
   "mimetype": "text/x-python",
   "name": "python",
   "nbconvert_exporter": "python",
   "pygments_lexer": "ipython3",
   "version": "3.9.5"
  },
  "toc": {
   "base_numbering": 1,
   "nav_menu": {},
   "number_sections": false,
   "sideBar": true,
   "skip_h1_title": false,
   "title_cell": "Table of Contents",
   "title_sidebar": "Contents",
   "toc_cell": false,
   "toc_position": {
    "height": "calc(100% - 180px)",
    "left": "10px",
    "top": "150px",
    "width": "292.273px"
   },
   "toc_section_display": true,
   "toc_window_display": false
  }
 },
 "nbformat": 4,
 "nbformat_minor": 1
}
