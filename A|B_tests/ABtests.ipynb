{
 "cells": [
  {
   "cell_type": "markdown",
   "metadata": {},
   "source": [
    "# Проект: А/В тестирование"
   ]
  },
  {
   "cell_type": "markdown",
   "metadata": {},
   "source": [
    "## Описание проекта:\n",
    "<a name='project'></a>"
   ]
  },
  {
   "cell_type": "markdown",
   "metadata": {},
   "source": [
    "**Вводные данные:** вместе с отделом маркетинга интернет магазина (выдуманный) подготовлен список гипотез для увеличения выручки.\\\n",
    "**Задача:** приоритизировать гипотезы, запустить A/B-тест и проанализировать результаты.\\\n",
    "**Цель:** увеличить выручку интернет-магазина, базируясь на данных, полученных на основе проведённых А/В-тестов."
   ]
  },
  {
   "cell_type": "markdown",
   "metadata": {},
   "source": [
    "Весь проект состоит из двух частей:\\\n",
    "**Часть 1. приоритезация гипотез:**\\\n",
    "В файле /datasets/hypothesis.csv 9 гипотез по увеличению выручки интернет-магазина с указанными параметрами `Reach, Impact, Confidence, Effort`.\\\n",
    "**Задача:**\n",
    "1. Применить фреймворк ICE для приоритизации гипотез. Отсортировать их по убыванию приоритета.\n",
    "2. Применить фреймворк RICE для приоритизации гипотез. Отсортируйть их по убыванию приоритета.\n",
    "3. Указать, как изменилась приоритизация гипотез при применении RICE вместо ICE.\n",
    "4. Объяснить, почему так произошло.\n",
    "\n",
    "**Часть 2. Анализ A/B-теста:**\\\n",
    "Мы провели A/B-тест и получили результаты, которые описаны в файлах /datasets/orders.csv и /datasets/visitors.csv.\\\n",
    "**Задача:**\n",
    "1. Проанализируйть A/B-тест.\n",
    "2. Принять решение по результатам теста и объяснить его.\\\n",
    "\n",
    "Варианты решений:\n",
    "* Остановить тест, зафиксировать победу одной из групп.\n",
    "* Остановить тест, зафиксировать отсутствие различий между группами.\n",
    "* Продолжить тест."
   ]
  },
  {
   "cell_type": "markdown",
   "metadata": {},
   "source": [
    "## Содержание проекта:\n",
    "<a name='summ'></a>\n",
    "1. [Описание проекта](#project)\n",
    "2. [Содержание проекта](#summ)\n",
    "3. [Часть 1. Приоритезация гипотез](#prior)\n",
    " * 1.[Выгрузка библиотек и данных, очистка данных](#df)\n",
    " * 2.[Применение фреймворка ICE](ice)\n",
    " * 3.[Применение фреймворка RICE](#rice)\n",
    " * 4.[Вывод](#conclusion1)\n",
    "4. [Часть 2. Анализ A/B-теста](#AB) \n",
    " * 1.[Проверка рабиения пользователей на группы](#set)\n",
    " * 2.[Создание единой таблицы](#table)\n",
    " * 3.[График кумулятивной выручки по группам](#v)\n",
    " * 4.[График кумулятивного среднего чека по группам](#bills)\n",
    " * 5.[График относительного изменения кумулятивного среднего чека группы B к группе A](#billsall)\n",
    " * 6.[График кумулятивного среднего количества заказов на посетителя по группам](#orders)\n",
    " * 7.[Точечный график количества заказов по пользователям](#dote)\n",
    " * 8.[95-й и 99-й перцентили количества заказов. Выбор границы для определения аномальных заказов](#proc)\n",
    " * 9.[Точечный график стоимостей заказов, 95-й и 99-й перцентили стоимости заказов](#st)\n",
    " * 10.[Cтатистическая значимость различий в среднем количестве заказов на посетителя между группами по «сырым» данным](#stat)\n",
    " * 11.[Статистическая значимость различий в среднем чеке заказа между группами по «сырым» данным](#avgb)\n",
    " * 12.[Статистическая значимость различий в среднем количестве заказов на посетителя между группами по «очищенным» данным](#clean)\n",
    " * 13.[Статистическая значимость различий в среднем чеке заказа между группами по «очищенным» данным](#chek)\n",
    " * 14.[Конечный вывод](#end)\n",
    "5. [Итог тестирования](#theend)"
   ]
  },
  {
   "cell_type": "markdown",
   "metadata": {},
   "source": [
    "## Часть 1. Приоритезация гипотез\n",
    "<a name='prior'></a>"
   ]
  },
  {
   "cell_type": "markdown",
   "metadata": {},
   "source": [
    "### Выгрузка библиотек и данных, очистка данных\n",
    "<a name='df'></a>"
   ]
  },
  {
   "cell_type": "code",
   "execution_count": 1,
   "metadata": {},
   "outputs": [],
   "source": [
    "#Окно под загрузку нужных в работе библиотек:\n",
    "import pandas as pd\n",
    "import matplotlib.pyplot as plt\n",
    "import numpy as np\n",
    "import scipy.stats as stats\n",
    "import matplotlib.dates as mdates"
   ]
  },
  {
   "cell_type": "code",
   "execution_count": 2,
   "metadata": {},
   "outputs": [
    {
     "data": {
      "text/html": [
       "<div>\n",
       "<style scoped>\n",
       "    .dataframe tbody tr th:only-of-type {\n",
       "        vertical-align: middle;\n",
       "    }\n",
       "\n",
       "    .dataframe tbody tr th {\n",
       "        vertical-align: top;\n",
       "    }\n",
       "\n",
       "    .dataframe thead th {\n",
       "        text-align: right;\n",
       "    }\n",
       "</style>\n",
       "<table border=\"1\" class=\"dataframe\">\n",
       "  <thead>\n",
       "    <tr style=\"text-align: right;\">\n",
       "      <th></th>\n",
       "      <th>Hypothesis</th>\n",
       "      <th>Reach</th>\n",
       "      <th>Impact</th>\n",
       "      <th>Confidence</th>\n",
       "      <th>Efforts</th>\n",
       "    </tr>\n",
       "  </thead>\n",
       "  <tbody>\n",
       "    <tr>\n",
       "      <th>0</th>\n",
       "      <td>Добавить два новых канала привлечения трафика, что позволит привлекать на 30% больше пользователей</td>\n",
       "      <td>3</td>\n",
       "      <td>10</td>\n",
       "      <td>8</td>\n",
       "      <td>6</td>\n",
       "    </tr>\n",
       "    <tr>\n",
       "      <th>1</th>\n",
       "      <td>Запустить собственную службу доставки, что сократит срок доставки заказов</td>\n",
       "      <td>2</td>\n",
       "      <td>5</td>\n",
       "      <td>4</td>\n",
       "      <td>10</td>\n",
       "    </tr>\n",
       "    <tr>\n",
       "      <th>2</th>\n",
       "      <td>Добавить блоки рекомендаций товаров на сайт интернет магазина, чтобы повысить конверсию и средний чек заказа</td>\n",
       "      <td>8</td>\n",
       "      <td>3</td>\n",
       "      <td>7</td>\n",
       "      <td>3</td>\n",
       "    </tr>\n",
       "    <tr>\n",
       "      <th>3</th>\n",
       "      <td>Изменить структура категорий, что увеличит конверсию, т.к. пользователи быстрее найдут нужный товар</td>\n",
       "      <td>8</td>\n",
       "      <td>3</td>\n",
       "      <td>3</td>\n",
       "      <td>8</td>\n",
       "    </tr>\n",
       "    <tr>\n",
       "      <th>4</th>\n",
       "      <td>Изменить цвет фона главной страницы, чтобы увеличить вовлеченность пользователей</td>\n",
       "      <td>3</td>\n",
       "      <td>1</td>\n",
       "      <td>1</td>\n",
       "      <td>1</td>\n",
       "    </tr>\n",
       "    <tr>\n",
       "      <th>5</th>\n",
       "      <td>Добавить страницу отзывов клиентов о магазине, что позволит увеличить количество заказов</td>\n",
       "      <td>3</td>\n",
       "      <td>2</td>\n",
       "      <td>2</td>\n",
       "      <td>3</td>\n",
       "    </tr>\n",
       "    <tr>\n",
       "      <th>6</th>\n",
       "      <td>Показать на главной странице баннеры с актуальными акциями и распродажами, чтобы увеличить конверсию</td>\n",
       "      <td>5</td>\n",
       "      <td>3</td>\n",
       "      <td>8</td>\n",
       "      <td>3</td>\n",
       "    </tr>\n",
       "    <tr>\n",
       "      <th>7</th>\n",
       "      <td>Добавить форму подписки на все основные страницы, чтобы собрать базу клиентов для email-рассылок</td>\n",
       "      <td>10</td>\n",
       "      <td>7</td>\n",
       "      <td>8</td>\n",
       "      <td>5</td>\n",
       "    </tr>\n",
       "    <tr>\n",
       "      <th>8</th>\n",
       "      <td>Запустить акцию, дающую скидку на товар в день рождения</td>\n",
       "      <td>1</td>\n",
       "      <td>9</td>\n",
       "      <td>9</td>\n",
       "      <td>5</td>\n",
       "    </tr>\n",
       "  </tbody>\n",
       "</table>\n",
       "</div>"
      ],
      "text/plain": [
       "                                                                                                     Hypothesis  \\\n",
       "0            Добавить два новых канала привлечения трафика, что позволит привлекать на 30% больше пользователей   \n",
       "1                                     Запустить собственную службу доставки, что сократит срок доставки заказов   \n",
       "2  Добавить блоки рекомендаций товаров на сайт интернет магазина, чтобы повысить конверсию и средний чек заказа   \n",
       "3           Изменить структура категорий, что увеличит конверсию, т.к. пользователи быстрее найдут нужный товар   \n",
       "4                              Изменить цвет фона главной страницы, чтобы увеличить вовлеченность пользователей   \n",
       "5                      Добавить страницу отзывов клиентов о магазине, что позволит увеличить количество заказов   \n",
       "6          Показать на главной странице баннеры с актуальными акциями и распродажами, чтобы увеличить конверсию   \n",
       "7              Добавить форму подписки на все основные страницы, чтобы собрать базу клиентов для email-рассылок   \n",
       "8                                                       Запустить акцию, дающую скидку на товар в день рождения   \n",
       "\n",
       "   Reach  Impact  Confidence  Efforts  \n",
       "0      3      10           8        6  \n",
       "1      2       5           4       10  \n",
       "2      8       3           7        3  \n",
       "3      8       3           3        8  \n",
       "4      3       1           1        1  \n",
       "5      3       2           2        3  \n",
       "6      5       3           8        3  \n",
       "7     10       7           8        5  \n",
       "8      1       9           9        5  "
      ]
     },
     "metadata": {},
     "output_type": "display_data"
    }
   ],
   "source": [
    "#Выгрузим данные из файлов CSV:\n",
    "df = pd.read_csv('/datasets/hypothesis.csv')\n",
    "pd.options.display.max_colwidth = 110 #иначе не видно полного названия гипотезы в столбце Hypothesis\n",
    "#посмотрим на данные:\n",
    "display(df)"
   ]
  },
  {
   "cell_type": "markdown",
   "metadata": {},
   "source": [
    "Всего мы видим 9 гипотез, в нумерации, начиная с 0. Для каждой из гипотезы проведена оценка методик, которые используются во время применения фреймворков.\\\n",
    "Для дальнейшего нашего удобства, приведём названия столбцов к нижнему регистру."
   ]
  },
  {
   "cell_type": "code",
   "execution_count": 3,
   "metadata": {},
   "outputs": [],
   "source": [
    "df.columns = df.columns.str.lower()"
   ]
  },
  {
   "cell_type": "markdown",
   "metadata": {},
   "source": [
    "Каких-то ошибок в данных (именно табличных, попавших случайно или не верно внесённых), на первый взгляд - нет. "
   ]
  },
  {
   "cell_type": "code",
   "execution_count": 4,
   "metadata": {
    "scrolled": false
   },
   "outputs": [
    {
     "data": {
      "text/html": [
       "<div>\n",
       "<style scoped>\n",
       "    .dataframe tbody tr th:only-of-type {\n",
       "        vertical-align: middle;\n",
       "    }\n",
       "\n",
       "    .dataframe tbody tr th {\n",
       "        vertical-align: top;\n",
       "    }\n",
       "\n",
       "    .dataframe thead th {\n",
       "        text-align: right;\n",
       "    }\n",
       "</style>\n",
       "<table border=\"1\" class=\"dataframe\">\n",
       "  <thead>\n",
       "    <tr style=\"text-align: right;\">\n",
       "      <th></th>\n",
       "      <th>transactionId</th>\n",
       "      <th>visitorId</th>\n",
       "      <th>date</th>\n",
       "      <th>revenue</th>\n",
       "      <th>group</th>\n",
       "    </tr>\n",
       "  </thead>\n",
       "  <tbody>\n",
       "    <tr>\n",
       "      <th>132</th>\n",
       "      <td>665271848</td>\n",
       "      <td>3873846164</td>\n",
       "      <td>2019-08-22</td>\n",
       "      <td>6922</td>\n",
       "      <td>B</td>\n",
       "    </tr>\n",
       "    <tr>\n",
       "      <th>316</th>\n",
       "      <td>4226817726</td>\n",
       "      <td>1349865791</td>\n",
       "      <td>2019-08-19</td>\n",
       "      <td>2490</td>\n",
       "      <td>A</td>\n",
       "    </tr>\n",
       "    <tr>\n",
       "      <th>445</th>\n",
       "      <td>2656017279</td>\n",
       "      <td>2288159513</td>\n",
       "      <td>2019-08-03</td>\n",
       "      <td>390</td>\n",
       "      <td>A</td>\n",
       "    </tr>\n",
       "    <tr>\n",
       "      <th>878</th>\n",
       "      <td>3315359627</td>\n",
       "      <td>1831956319</td>\n",
       "      <td>2019-08-05</td>\n",
       "      <td>90</td>\n",
       "      <td>A</td>\n",
       "    </tr>\n",
       "    <tr>\n",
       "      <th>1187</th>\n",
       "      <td>2274188238</td>\n",
       "      <td>132143192</td>\n",
       "      <td>2019-08-14</td>\n",
       "      <td>750</td>\n",
       "      <td>A</td>\n",
       "    </tr>\n",
       "  </tbody>\n",
       "</table>\n",
       "</div>"
      ],
      "text/plain": [
       "      transactionId   visitorId        date  revenue group\n",
       "132       665271848  3873846164  2019-08-22     6922     B\n",
       "316      4226817726  1349865791  2019-08-19     2490     A\n",
       "445      2656017279  2288159513  2019-08-03      390     A\n",
       "878      3315359627  1831956319  2019-08-05       90     A\n",
       "1187     2274188238   132143192  2019-08-14      750     A"
      ]
     },
     "metadata": {},
     "output_type": "display_data"
    },
    {
     "name": "stdout",
     "output_type": "stream",
     "text": [
      "<class 'pandas.core.frame.DataFrame'>\n",
      "RangeIndex: 1197 entries, 0 to 1196\n",
      "Data columns (total 5 columns):\n",
      " #   Column         Non-Null Count  Dtype \n",
      "---  ------         --------------  ----- \n",
      " 0   transactionId  1197 non-null   int64 \n",
      " 1   visitorId      1197 non-null   int64 \n",
      " 2   date           1197 non-null   object\n",
      " 3   revenue        1197 non-null   int64 \n",
      " 4   group          1197 non-null   object\n",
      "dtypes: int64(3), object(2)\n",
      "memory usage: 46.9+ KB\n"
     ]
    }
   ],
   "source": [
    "#Выгрузим таблицу заказов\n",
    "orders = pd.read_csv('/datasets/orders.csv')\n",
    "display(orders.sample(5))\n",
    "orders.info()"
   ]
  },
  {
   "cell_type": "code",
   "execution_count": 5,
   "metadata": {},
   "outputs": [],
   "source": [
    "#столбец с датой нужно привести к нормальному формату:\n",
    "orders['date'] = pd.to_datetime(orders['date'])"
   ]
  },
  {
   "cell_type": "code",
   "execution_count": 6,
   "metadata": {
    "scrolled": true
   },
   "outputs": [
    {
     "data": {
      "text/html": [
       "<div>\n",
       "<style scoped>\n",
       "    .dataframe tbody tr th:only-of-type {\n",
       "        vertical-align: middle;\n",
       "    }\n",
       "\n",
       "    .dataframe tbody tr th {\n",
       "        vertical-align: top;\n",
       "    }\n",
       "\n",
       "    .dataframe thead th {\n",
       "        text-align: right;\n",
       "    }\n",
       "</style>\n",
       "<table border=\"1\" class=\"dataframe\">\n",
       "  <thead>\n",
       "    <tr style=\"text-align: right;\">\n",
       "      <th></th>\n",
       "      <th>date</th>\n",
       "      <th>group</th>\n",
       "      <th>visitors</th>\n",
       "    </tr>\n",
       "  </thead>\n",
       "  <tbody>\n",
       "    <tr>\n",
       "      <th>47</th>\n",
       "      <td>2019-08-17</td>\n",
       "      <td>B</td>\n",
       "      <td>421</td>\n",
       "    </tr>\n",
       "    <tr>\n",
       "      <th>29</th>\n",
       "      <td>2019-08-30</td>\n",
       "      <td>A</td>\n",
       "      <td>490</td>\n",
       "    </tr>\n",
       "    <tr>\n",
       "      <th>30</th>\n",
       "      <td>2019-08-31</td>\n",
       "      <td>A</td>\n",
       "      <td>699</td>\n",
       "    </tr>\n",
       "    <tr>\n",
       "      <th>10</th>\n",
       "      <td>2019-08-11</td>\n",
       "      <td>A</td>\n",
       "      <td>718</td>\n",
       "    </tr>\n",
       "    <tr>\n",
       "      <th>36</th>\n",
       "      <td>2019-08-06</td>\n",
       "      <td>B</td>\n",
       "      <td>655</td>\n",
       "    </tr>\n",
       "  </tbody>\n",
       "</table>\n",
       "</div>"
      ],
      "text/plain": [
       "          date group  visitors\n",
       "47  2019-08-17     B       421\n",
       "29  2019-08-30     A       490\n",
       "30  2019-08-31     A       699\n",
       "10  2019-08-11     A       718\n",
       "36  2019-08-06     B       655"
      ]
     },
     "metadata": {},
     "output_type": "display_data"
    },
    {
     "name": "stdout",
     "output_type": "stream",
     "text": [
      "<class 'pandas.core.frame.DataFrame'>\n",
      "RangeIndex: 62 entries, 0 to 61\n",
      "Data columns (total 3 columns):\n",
      " #   Column    Non-Null Count  Dtype \n",
      "---  ------    --------------  ----- \n",
      " 0   date      62 non-null     object\n",
      " 1   group     62 non-null     object\n",
      " 2   visitors  62 non-null     int64 \n",
      "dtypes: int64(1), object(2)\n",
      "memory usage: 1.6+ KB\n"
     ]
    }
   ],
   "source": [
    "visitors = pd.read_csv('/datasets/visitors.csv')\n",
    "display(visitors.sample(5))\n",
    "visitors.info()"
   ]
  },
  {
   "cell_type": "code",
   "execution_count": 7,
   "metadata": {},
   "outputs": [],
   "source": [
    "#Здесь тоже нужно столбец с датой привести к нормальному формату\n",
    "visitors['date'] = pd.to_datetime(visitors['date'])"
   ]
  },
  {
   "cell_type": "markdown",
   "metadata": {},
   "source": [
    "Названия столбцов имеют нормальный вид, редактировать не будем.\\\n",
    "Посмотрим, нет ли в данных дубликатов:"
   ]
  },
  {
   "cell_type": "code",
   "execution_count": 8,
   "metadata": {},
   "outputs": [
    {
     "data": {
      "text/html": [
       "<div>\n",
       "<style scoped>\n",
       "    .dataframe tbody tr th:only-of-type {\n",
       "        vertical-align: middle;\n",
       "    }\n",
       "\n",
       "    .dataframe tbody tr th {\n",
       "        vertical-align: top;\n",
       "    }\n",
       "\n",
       "    .dataframe thead th {\n",
       "        text-align: right;\n",
       "    }\n",
       "</style>\n",
       "<table border=\"1\" class=\"dataframe\">\n",
       "  <thead>\n",
       "    <tr style=\"text-align: right;\">\n",
       "      <th></th>\n",
       "      <th>hypothesis</th>\n",
       "      <th>reach</th>\n",
       "      <th>impact</th>\n",
       "      <th>confidence</th>\n",
       "      <th>efforts</th>\n",
       "    </tr>\n",
       "  </thead>\n",
       "  <tbody>\n",
       "  </tbody>\n",
       "</table>\n",
       "</div>"
      ],
      "text/plain": [
       "Empty DataFrame\n",
       "Columns: [hypothesis, reach, impact, confidence, efforts]\n",
       "Index: []"
      ]
     },
     "execution_count": 8,
     "metadata": {},
     "output_type": "execute_result"
    }
   ],
   "source": [
    "duplicateRows = df[df.duplicated()]\n",
    "duplicateRows"
   ]
  },
  {
   "cell_type": "code",
   "execution_count": 9,
   "metadata": {
    "scrolled": true
   },
   "outputs": [
    {
     "data": {
      "text/html": [
       "<div>\n",
       "<style scoped>\n",
       "    .dataframe tbody tr th:only-of-type {\n",
       "        vertical-align: middle;\n",
       "    }\n",
       "\n",
       "    .dataframe tbody tr th {\n",
       "        vertical-align: top;\n",
       "    }\n",
       "\n",
       "    .dataframe thead th {\n",
       "        text-align: right;\n",
       "    }\n",
       "</style>\n",
       "<table border=\"1\" class=\"dataframe\">\n",
       "  <thead>\n",
       "    <tr style=\"text-align: right;\">\n",
       "      <th></th>\n",
       "      <th>transactionId</th>\n",
       "      <th>visitorId</th>\n",
       "      <th>date</th>\n",
       "      <th>revenue</th>\n",
       "      <th>group</th>\n",
       "    </tr>\n",
       "  </thead>\n",
       "  <tbody>\n",
       "  </tbody>\n",
       "</table>\n",
       "</div>"
      ],
      "text/plain": [
       "Empty DataFrame\n",
       "Columns: [transactionId, visitorId, date, revenue, group]\n",
       "Index: []"
      ]
     },
     "execution_count": 9,
     "metadata": {},
     "output_type": "execute_result"
    }
   ],
   "source": [
    "duplicateRows = orders[orders.duplicated()]\n",
    "duplicateRows"
   ]
  },
  {
   "cell_type": "code",
   "execution_count": 10,
   "metadata": {
    "scrolled": true
   },
   "outputs": [
    {
     "data": {
      "text/html": [
       "<div>\n",
       "<style scoped>\n",
       "    .dataframe tbody tr th:only-of-type {\n",
       "        vertical-align: middle;\n",
       "    }\n",
       "\n",
       "    .dataframe tbody tr th {\n",
       "        vertical-align: top;\n",
       "    }\n",
       "\n",
       "    .dataframe thead th {\n",
       "        text-align: right;\n",
       "    }\n",
       "</style>\n",
       "<table border=\"1\" class=\"dataframe\">\n",
       "  <thead>\n",
       "    <tr style=\"text-align: right;\">\n",
       "      <th></th>\n",
       "      <th>date</th>\n",
       "      <th>group</th>\n",
       "      <th>visitors</th>\n",
       "    </tr>\n",
       "  </thead>\n",
       "  <tbody>\n",
       "  </tbody>\n",
       "</table>\n",
       "</div>"
      ],
      "text/plain": [
       "Empty DataFrame\n",
       "Columns: [date, group, visitors]\n",
       "Index: []"
      ]
     },
     "execution_count": 10,
     "metadata": {},
     "output_type": "execute_result"
    }
   ],
   "source": [
    "duplicateRows = visitors[visitors.duplicated()]\n",
    "duplicateRows"
   ]
  },
  {
   "cell_type": "markdown",
   "metadata": {},
   "source": [
    "Очевидных дубликатов в данных нет.\\\n",
    "**Так как первичный обзор данных не выявил критических ошибок, переходим к оценке гипотез**"
   ]
  },
  {
   "cell_type": "markdown",
   "metadata": {},
   "source": [
    "### Применение фреймворка `ICE`\n",
    "<a name='ice'></a>"
   ]
  },
  {
   "cell_type": "markdown",
   "metadata": {},
   "source": [
    "**ICE** (от англ. impact, confidence, effort / ease «влияние, уверенность, усилия / простота») — один из самых популярных способов приоритизации задач.\\\n",
    "`ICE = impact * confidence * ease\n",
    "ICE = (impact * confidence)/efforts`\n",
    "* impact — насколько сильно изменение повлияет на пользователей, их опыт и удовлетворение от продукта;\n",
    "* Confidence — насколько вы уверены, что это изменение повлияет на пользователей именно так; \n",
    "* Efforts — сколько стоит протестировать эту гипотезу;"
   ]
  },
  {
   "cell_type": "code",
   "execution_count": 11,
   "metadata": {},
   "outputs": [
    {
     "data": {
      "text/plain": [
       "Index(['hypothesis', 'reach', 'impact', 'confidence', 'efforts'], dtype='object')"
      ]
     },
     "execution_count": 11,
     "metadata": {},
     "output_type": "execute_result"
    }
   ],
   "source": [
    "df.columns"
   ]
  },
  {
   "cell_type": "code",
   "execution_count": 12,
   "metadata": {},
   "outputs": [
    {
     "data": {
      "text/html": [
       "<div>\n",
       "<style scoped>\n",
       "    .dataframe tbody tr th:only-of-type {\n",
       "        vertical-align: middle;\n",
       "    }\n",
       "\n",
       "    .dataframe tbody tr th {\n",
       "        vertical-align: top;\n",
       "    }\n",
       "\n",
       "    .dataframe thead th {\n",
       "        text-align: right;\n",
       "    }\n",
       "</style>\n",
       "<table border=\"1\" class=\"dataframe\">\n",
       "  <thead>\n",
       "    <tr style=\"text-align: right;\">\n",
       "      <th></th>\n",
       "      <th>hypothesis</th>\n",
       "      <th>ICE</th>\n",
       "    </tr>\n",
       "  </thead>\n",
       "  <tbody>\n",
       "    <tr>\n",
       "      <th>8</th>\n",
       "      <td>Запустить акцию, дающую скидку на товар в день рождения</td>\n",
       "      <td>16.200000</td>\n",
       "    </tr>\n",
       "    <tr>\n",
       "      <th>0</th>\n",
       "      <td>Добавить два новых канала привлечения трафика, что позволит привлекать на 30% больше пользователей</td>\n",
       "      <td>13.333333</td>\n",
       "    </tr>\n",
       "    <tr>\n",
       "      <th>7</th>\n",
       "      <td>Добавить форму подписки на все основные страницы, чтобы собрать базу клиентов для email-рассылок</td>\n",
       "      <td>11.200000</td>\n",
       "    </tr>\n",
       "    <tr>\n",
       "      <th>6</th>\n",
       "      <td>Показать на главной странице баннеры с актуальными акциями и распродажами, чтобы увеличить конверсию</td>\n",
       "      <td>8.000000</td>\n",
       "    </tr>\n",
       "    <tr>\n",
       "      <th>2</th>\n",
       "      <td>Добавить блоки рекомендаций товаров на сайт интернет магазина, чтобы повысить конверсию и средний чек заказа</td>\n",
       "      <td>7.000000</td>\n",
       "    </tr>\n",
       "    <tr>\n",
       "      <th>1</th>\n",
       "      <td>Запустить собственную службу доставки, что сократит срок доставки заказов</td>\n",
       "      <td>2.000000</td>\n",
       "    </tr>\n",
       "    <tr>\n",
       "      <th>5</th>\n",
       "      <td>Добавить страницу отзывов клиентов о магазине, что позволит увеличить количество заказов</td>\n",
       "      <td>1.333333</td>\n",
       "    </tr>\n",
       "    <tr>\n",
       "      <th>3</th>\n",
       "      <td>Изменить структура категорий, что увеличит конверсию, т.к. пользователи быстрее найдут нужный товар</td>\n",
       "      <td>1.125000</td>\n",
       "    </tr>\n",
       "    <tr>\n",
       "      <th>4</th>\n",
       "      <td>Изменить цвет фона главной страницы, чтобы увеличить вовлеченность пользователей</td>\n",
       "      <td>1.000000</td>\n",
       "    </tr>\n",
       "  </tbody>\n",
       "</table>\n",
       "</div>"
      ],
      "text/plain": [
       "                                                                                                     hypothesis  \\\n",
       "8                                                       Запустить акцию, дающую скидку на товар в день рождения   \n",
       "0            Добавить два новых канала привлечения трафика, что позволит привлекать на 30% больше пользователей   \n",
       "7              Добавить форму подписки на все основные страницы, чтобы собрать базу клиентов для email-рассылок   \n",
       "6          Показать на главной странице баннеры с актуальными акциями и распродажами, чтобы увеличить конверсию   \n",
       "2  Добавить блоки рекомендаций товаров на сайт интернет магазина, чтобы повысить конверсию и средний чек заказа   \n",
       "1                                     Запустить собственную службу доставки, что сократит срок доставки заказов   \n",
       "5                      Добавить страницу отзывов клиентов о магазине, что позволит увеличить количество заказов   \n",
       "3           Изменить структура категорий, что увеличит конверсию, т.к. пользователи быстрее найдут нужный товар   \n",
       "4                              Изменить цвет фона главной страницы, чтобы увеличить вовлеченность пользователей   \n",
       "\n",
       "         ICE  \n",
       "8  16.200000  \n",
       "0  13.333333  \n",
       "7  11.200000  \n",
       "6   8.000000  \n",
       "2   7.000000  \n",
       "1   2.000000  \n",
       "5   1.333333  \n",
       "3   1.125000  \n",
       "4   1.000000  "
      ]
     },
     "metadata": {},
     "output_type": "display_data"
    }
   ],
   "source": [
    "#посчитаем ICE и добавим его как новый столбец:\n",
    "df['ICE'] = df['impact'] * df['confidence']/df['efforts']\n",
    "\n",
    "df['ICE'] = df['ICE'].astype('float')\n",
    "\n",
    "ice = df[['hypothesis','ICE']]\n",
    "\n",
    "display(df[['hypothesis','ICE']].sort_values(by='ICE', ascending=False))"
   ]
  },
  {
   "cell_type": "markdown",
   "metadata": {},
   "source": [
    "По данным `ICE` наиболее перспективными гипотезами будут являться (8,0,7):\\\n",
    "1. Запустить акцию, дающую скидку на товар в день рождения - **ЛИДИРУЕТ**;\n",
    "2. Добавить два новых канала привлечения трафика, что позволит привлекать на 30% больше пользователей;\n",
    "3. Добавить форму подписки на все основные баннеры с актуальными акциями и распродажами, чтобы увеличить конверсию. \n",
    "\n",
    "Самыми не перспективными будут гипотезы под номерами: 5,3,4.\\\n",
    "Гипотезы под номерами: 6, 2, 1 - так же не самые песпективные, исходя из полученного показателя"
   ]
  },
  {
   "cell_type": "markdown",
   "metadata": {},
   "source": [
    "### Применение фреймворка `RICE`\n",
    "<a name='rice'></a>"
   ]
  },
  {
   "cell_type": "markdown",
   "metadata": {},
   "source": [
    "`RICE` = (Reach * Impact * Confidence)/ Efforts\\\n",
    "Указанный здесь фреймворк так же популярен как и ICE, в свою очередь ICE является модификацией RICE.\\\n",
    "Фреймворк RICE состоит из четырёх компонент:\n",
    "* Reach — скольких пользователей затронет изменение, которое вы хотите внести;\n",
    "* Impact — насколько сильно изменение повлияет на пользователей, их опыт и удовлетворение от продукта;\n",
    "* Confidence — насколько вы уверены, что это изменение повлияет на пользователей именно так; \n",
    "* Efforts — сколько стоит протестировать эту гипотезу. "
   ]
  },
  {
   "cell_type": "code",
   "execution_count": 13,
   "metadata": {},
   "outputs": [
    {
     "data": {
      "text/html": [
       "<div>\n",
       "<style scoped>\n",
       "    .dataframe tbody tr th:only-of-type {\n",
       "        vertical-align: middle;\n",
       "    }\n",
       "\n",
       "    .dataframe tbody tr th {\n",
       "        vertical-align: top;\n",
       "    }\n",
       "\n",
       "    .dataframe thead th {\n",
       "        text-align: right;\n",
       "    }\n",
       "</style>\n",
       "<table border=\"1\" class=\"dataframe\">\n",
       "  <thead>\n",
       "    <tr style=\"text-align: right;\">\n",
       "      <th></th>\n",
       "      <th>hypothesis</th>\n",
       "      <th>RICE</th>\n",
       "    </tr>\n",
       "  </thead>\n",
       "  <tbody>\n",
       "    <tr>\n",
       "      <th>7</th>\n",
       "      <td>Добавить форму подписки на все основные страницы, чтобы собрать базу клиентов для email-рассылок</td>\n",
       "      <td>112.0</td>\n",
       "    </tr>\n",
       "    <tr>\n",
       "      <th>2</th>\n",
       "      <td>Добавить блоки рекомендаций товаров на сайт интернет магазина, чтобы повысить конверсию и средний чек заказа</td>\n",
       "      <td>56.0</td>\n",
       "    </tr>\n",
       "    <tr>\n",
       "      <th>0</th>\n",
       "      <td>Добавить два новых канала привлечения трафика, что позволит привлекать на 30% больше пользователей</td>\n",
       "      <td>40.0</td>\n",
       "    </tr>\n",
       "    <tr>\n",
       "      <th>6</th>\n",
       "      <td>Показать на главной странице баннеры с актуальными акциями и распродажами, чтобы увеличить конверсию</td>\n",
       "      <td>40.0</td>\n",
       "    </tr>\n",
       "    <tr>\n",
       "      <th>8</th>\n",
       "      <td>Запустить акцию, дающую скидку на товар в день рождения</td>\n",
       "      <td>16.2</td>\n",
       "    </tr>\n",
       "    <tr>\n",
       "      <th>3</th>\n",
       "      <td>Изменить структура категорий, что увеличит конверсию, т.к. пользователи быстрее найдут нужный товар</td>\n",
       "      <td>9.0</td>\n",
       "    </tr>\n",
       "    <tr>\n",
       "      <th>1</th>\n",
       "      <td>Запустить собственную службу доставки, что сократит срок доставки заказов</td>\n",
       "      <td>4.0</td>\n",
       "    </tr>\n",
       "    <tr>\n",
       "      <th>5</th>\n",
       "      <td>Добавить страницу отзывов клиентов о магазине, что позволит увеличить количество заказов</td>\n",
       "      <td>4.0</td>\n",
       "    </tr>\n",
       "    <tr>\n",
       "      <th>4</th>\n",
       "      <td>Изменить цвет фона главной страницы, чтобы увеличить вовлеченность пользователей</td>\n",
       "      <td>3.0</td>\n",
       "    </tr>\n",
       "  </tbody>\n",
       "</table>\n",
       "</div>"
      ],
      "text/plain": [
       "                                                                                                     hypothesis  \\\n",
       "7              Добавить форму подписки на все основные страницы, чтобы собрать базу клиентов для email-рассылок   \n",
       "2  Добавить блоки рекомендаций товаров на сайт интернет магазина, чтобы повысить конверсию и средний чек заказа   \n",
       "0            Добавить два новых канала привлечения трафика, что позволит привлекать на 30% больше пользователей   \n",
       "6          Показать на главной странице баннеры с актуальными акциями и распродажами, чтобы увеличить конверсию   \n",
       "8                                                       Запустить акцию, дающую скидку на товар в день рождения   \n",
       "3           Изменить структура категорий, что увеличит конверсию, т.к. пользователи быстрее найдут нужный товар   \n",
       "1                                     Запустить собственную службу доставки, что сократит срок доставки заказов   \n",
       "5                      Добавить страницу отзывов клиентов о магазине, что позволит увеличить количество заказов   \n",
       "4                              Изменить цвет фона главной страницы, чтобы увеличить вовлеченность пользователей   \n",
       "\n",
       "    RICE  \n",
       "7  112.0  \n",
       "2   56.0  \n",
       "0   40.0  \n",
       "6   40.0  \n",
       "8   16.2  \n",
       "3    9.0  \n",
       "1    4.0  \n",
       "5    4.0  \n",
       "4    3.0  "
      ]
     },
     "metadata": {},
     "output_type": "display_data"
    }
   ],
   "source": [
    "df['RICE'] = (df['reach']*df['impact']*df['confidence'])/df['efforts']\n",
    "\n",
    "rice = df[['hypothesis', 'RICE']]\n",
    "\n",
    "display(df[['hypothesis', 'RICE']].sort_values(by='RICE', ascending=False))"
   ]
  },
  {
   "cell_type": "markdown",
   "metadata": {},
   "source": [
    "Лидирующей гипотизой является - 7: Добавить форму подписки на все основные страницы, чтобы собрать базу клиентов для email-рассылок.\\\n",
    "Отстают: 2,0,6.\\\n",
    "Гипотеза,которая была наиболее успешной по данным ICE здесь заняла только 5 место.\\\n",
    "В RICE учитывается, как много пользователей затронет принятая гипотеза. Анализ проводится для огромного интернет-магазина, соответственно, количество пользователей в нём большое. Возможно, стоит учитывать именно фреймворк RICE и отвергнуть то, что мы получили в ICE, так как ICE количество пользователей не учитывает.  "
   ]
  },
  {
   "cell_type": "markdown",
   "metadata": {},
   "source": [
    "**Вывод:**\n",
    "<a name='conclusion1'></a>\n",
    "1. При применении фреймворка `ICE` лидирующей гипотезой является - 8 (Запустить акцию, дающую скидку на товар в день рождения).\n",
    "2. При применении фреймворка `RICE` лидирующей гипотезой является - 7 (Добавить форму подписки на все основные страницы, чтобы собрать базу клиентов для email-рассылок).\n",
    "3. При применении гипотизы ICE, гипотеза №7 занимает - 3 место. \n",
    "4. При применении гипотезы RICE, гипотеза №8 занимает - 5 место. \n",
    "5. Основываясь на том, что наш интернет магазин - огромный и популярный, учитывая важность количества пользователей - изменилась и приотритезация гипотез в этих двух фреймворках, так как ICE не учитывает число пользователей, а RICE учитывает и их количетсво сильно влияет на фреймворк. От сюда различия в ICE и RICE. "
   ]
  },
  {
   "cell_type": "markdown",
   "metadata": {},
   "source": [
    "#### Объединённая таблица по двум фреймворкам:"
   ]
  },
  {
   "cell_type": "code",
   "execution_count": 14,
   "metadata": {},
   "outputs": [],
   "source": [
    "merged_df = pd.merge(ice, rice, on='hypothesis')\n",
    "merged_df['number'] = np.arange(len(merged_df))"
   ]
  },
  {
   "cell_type": "code",
   "execution_count": 15,
   "metadata": {
    "scrolled": true
   },
   "outputs": [
    {
     "data": {
      "text/html": [
       "<style  type=\"text/css\" >\n",
       "#T_6418c_row0_col1{\n",
       "            background-color:  #127c39;\n",
       "            color:  #f1f1f1;\n",
       "        }#T_6418c_row0_col2,#T_6418c_row6_col2{\n",
       "            background-color:  #acdea6;\n",
       "            color:  #000000;\n",
       "        }#T_6418c_row0_col3,#T_6418c_row4_col1,#T_6418c_row4_col2{\n",
       "            background-color:  #f7fcf5;\n",
       "            color:  #000000;\n",
       "        }#T_6418c_row1_col1{\n",
       "            background-color:  #eef8ea;\n",
       "            color:  #000000;\n",
       "        }#T_6418c_row1_col2,#T_6418c_row3_col1,#T_6418c_row5_col2{\n",
       "            background-color:  #f6fcf4;\n",
       "            color:  #000000;\n",
       "        }#T_6418c_row1_col3{\n",
       "            background-color:  #e5f5e0;\n",
       "            color:  #000000;\n",
       "        }#T_6418c_row2_col1{\n",
       "            background-color:  #99d595;\n",
       "            color:  #000000;\n",
       "        }#T_6418c_row2_col2{\n",
       "            background-color:  #79c67a;\n",
       "            color:  #000000;\n",
       "        }#T_6418c_row2_col3{\n",
       "            background-color:  #c7e9c0;\n",
       "            color:  #000000;\n",
       "        }#T_6418c_row3_col2{\n",
       "            background-color:  #eff9ec;\n",
       "            color:  #000000;\n",
       "        }#T_6418c_row3_col3{\n",
       "            background-color:  #a0d99b;\n",
       "            color:  #000000;\n",
       "        }#T_6418c_row4_col3{\n",
       "            background-color:  #73c476;\n",
       "            color:  #000000;\n",
       "        }#T_6418c_row5_col1{\n",
       "            background-color:  #f4fbf2;\n",
       "            color:  #000000;\n",
       "        }#T_6418c_row5_col3{\n",
       "            background-color:  #40aa5d;\n",
       "            color:  #000000;\n",
       "        }#T_6418c_row6_col1{\n",
       "            background-color:  #83cb82;\n",
       "            color:  #000000;\n",
       "        }#T_6418c_row6_col3{\n",
       "            background-color:  #228a44;\n",
       "            color:  #000000;\n",
       "        }#T_6418c_row7_col1{\n",
       "            background-color:  #369f54;\n",
       "            color:  #000000;\n",
       "        }#T_6418c_row7_col2,#T_6418c_row8_col1,#T_6418c_row8_col3{\n",
       "            background-color:  #00441b;\n",
       "            color:  #f1f1f1;\n",
       "        }#T_6418c_row7_col3{\n",
       "            background-color:  #006c2c;\n",
       "            color:  #f1f1f1;\n",
       "        }#T_6418c_row8_col2{\n",
       "            background-color:  #e5f5e1;\n",
       "            color:  #000000;\n",
       "        }</style><table id=\"T_6418c_\" ><thead>    <tr>        <th class=\"blank level0\" ></th>        <th class=\"col_heading level0 col0\" >hypothesis</th>        <th class=\"col_heading level0 col1\" >ICE</th>        <th class=\"col_heading level0 col2\" >RICE</th>        <th class=\"col_heading level0 col3\" >number</th>    </tr></thead><tbody>\n",
       "                <tr>\n",
       "                        <th id=\"T_6418c_level0_row0\" class=\"row_heading level0 row0\" >0</th>\n",
       "                        <td id=\"T_6418c_row0_col0\" class=\"data row0 col0\" >Добавить два новых канала привлечения трафика, что позволит привлекать на 30% больше пользователей</td>\n",
       "                        <td id=\"T_6418c_row0_col1\" class=\"data row0 col1\" >13.333333</td>\n",
       "                        <td id=\"T_6418c_row0_col2\" class=\"data row0 col2\" >40.000000</td>\n",
       "                        <td id=\"T_6418c_row0_col3\" class=\"data row0 col3\" >0</td>\n",
       "            </tr>\n",
       "            <tr>\n",
       "                        <th id=\"T_6418c_level0_row1\" class=\"row_heading level0 row1\" >1</th>\n",
       "                        <td id=\"T_6418c_row1_col0\" class=\"data row1 col0\" >Запустить собственную службу доставки, что сократит срок доставки заказов</td>\n",
       "                        <td id=\"T_6418c_row1_col1\" class=\"data row1 col1\" >2.000000</td>\n",
       "                        <td id=\"T_6418c_row1_col2\" class=\"data row1 col2\" >4.000000</td>\n",
       "                        <td id=\"T_6418c_row1_col3\" class=\"data row1 col3\" >1</td>\n",
       "            </tr>\n",
       "            <tr>\n",
       "                        <th id=\"T_6418c_level0_row2\" class=\"row_heading level0 row2\" >2</th>\n",
       "                        <td id=\"T_6418c_row2_col0\" class=\"data row2 col0\" >Добавить блоки рекомендаций товаров на сайт интернет магазина, чтобы повысить конверсию и средний чек заказа</td>\n",
       "                        <td id=\"T_6418c_row2_col1\" class=\"data row2 col1\" >7.000000</td>\n",
       "                        <td id=\"T_6418c_row2_col2\" class=\"data row2 col2\" >56.000000</td>\n",
       "                        <td id=\"T_6418c_row2_col3\" class=\"data row2 col3\" >2</td>\n",
       "            </tr>\n",
       "            <tr>\n",
       "                        <th id=\"T_6418c_level0_row3\" class=\"row_heading level0 row3\" >3</th>\n",
       "                        <td id=\"T_6418c_row3_col0\" class=\"data row3 col0\" >Изменить структура категорий, что увеличит конверсию, т.к. пользователи быстрее найдут нужный товар</td>\n",
       "                        <td id=\"T_6418c_row3_col1\" class=\"data row3 col1\" >1.125000</td>\n",
       "                        <td id=\"T_6418c_row3_col2\" class=\"data row3 col2\" >9.000000</td>\n",
       "                        <td id=\"T_6418c_row3_col3\" class=\"data row3 col3\" >3</td>\n",
       "            </tr>\n",
       "            <tr>\n",
       "                        <th id=\"T_6418c_level0_row4\" class=\"row_heading level0 row4\" >4</th>\n",
       "                        <td id=\"T_6418c_row4_col0\" class=\"data row4 col0\" >Изменить цвет фона главной страницы, чтобы увеличить вовлеченность пользователей</td>\n",
       "                        <td id=\"T_6418c_row4_col1\" class=\"data row4 col1\" >1.000000</td>\n",
       "                        <td id=\"T_6418c_row4_col2\" class=\"data row4 col2\" >3.000000</td>\n",
       "                        <td id=\"T_6418c_row4_col3\" class=\"data row4 col3\" >4</td>\n",
       "            </tr>\n",
       "            <tr>\n",
       "                        <th id=\"T_6418c_level0_row5\" class=\"row_heading level0 row5\" >5</th>\n",
       "                        <td id=\"T_6418c_row5_col0\" class=\"data row5 col0\" >Добавить страницу отзывов клиентов о магазине, что позволит увеличить количество заказов</td>\n",
       "                        <td id=\"T_6418c_row5_col1\" class=\"data row5 col1\" >1.333333</td>\n",
       "                        <td id=\"T_6418c_row5_col2\" class=\"data row5 col2\" >4.000000</td>\n",
       "                        <td id=\"T_6418c_row5_col3\" class=\"data row5 col3\" >5</td>\n",
       "            </tr>\n",
       "            <tr>\n",
       "                        <th id=\"T_6418c_level0_row6\" class=\"row_heading level0 row6\" >6</th>\n",
       "                        <td id=\"T_6418c_row6_col0\" class=\"data row6 col0\" >Показать на главной странице баннеры с актуальными акциями и распродажами, чтобы увеличить конверсию</td>\n",
       "                        <td id=\"T_6418c_row6_col1\" class=\"data row6 col1\" >8.000000</td>\n",
       "                        <td id=\"T_6418c_row6_col2\" class=\"data row6 col2\" >40.000000</td>\n",
       "                        <td id=\"T_6418c_row6_col3\" class=\"data row6 col3\" >6</td>\n",
       "            </tr>\n",
       "            <tr>\n",
       "                        <th id=\"T_6418c_level0_row7\" class=\"row_heading level0 row7\" >7</th>\n",
       "                        <td id=\"T_6418c_row7_col0\" class=\"data row7 col0\" >Добавить форму подписки на все основные страницы, чтобы собрать базу клиентов для email-рассылок</td>\n",
       "                        <td id=\"T_6418c_row7_col1\" class=\"data row7 col1\" >11.200000</td>\n",
       "                        <td id=\"T_6418c_row7_col2\" class=\"data row7 col2\" >112.000000</td>\n",
       "                        <td id=\"T_6418c_row7_col3\" class=\"data row7 col3\" >7</td>\n",
       "            </tr>\n",
       "            <tr>\n",
       "                        <th id=\"T_6418c_level0_row8\" class=\"row_heading level0 row8\" >8</th>\n",
       "                        <td id=\"T_6418c_row8_col0\" class=\"data row8 col0\" >Запустить акцию, дающую скидку на товар в день рождения</td>\n",
       "                        <td id=\"T_6418c_row8_col1\" class=\"data row8 col1\" >16.200000</td>\n",
       "                        <td id=\"T_6418c_row8_col2\" class=\"data row8 col2\" >16.200000</td>\n",
       "                        <td id=\"T_6418c_row8_col3\" class=\"data row8 col3\" >8</td>\n",
       "            </tr>\n",
       "    </tbody></table>"
      ],
      "text/plain": [
       "<pandas.io.formats.style.Styler at 0x7f0d3ea27790>"
      ]
     },
     "execution_count": 15,
     "metadata": {},
     "output_type": "execute_result"
    }
   ],
   "source": [
    "df_styled = merged_df.style.background_gradient(cmap='Greens')\n",
    "df_styled"
   ]
  },
  {
   "cell_type": "code",
   "execution_count": 16,
   "metadata": {},
   "outputs": [],
   "source": [
    "#сделаем диаграмму слоупграф:\n",
    "slopegraph_df = merged_df[['ICE', 'RICE', 'number']].copy()"
   ]
  },
  {
   "cell_type": "code",
   "execution_count": 17,
   "metadata": {
    "scrolled": true
   },
   "outputs": [
    {
     "data": {
      "image/png": "[encoded data removed]",
      "text/plain": [
       "<Figure size 288x720 with 1 Axes>"
      ]
     },
     "metadata": {
      "needs_background": "light"
     },
     "output_type": "display_data"
    }
   ],
   "source": [
    "fig, ax = plt.subplots(figsize=(4, 10))\n",
    "\n",
    "# Plot the lines connecting the dots and add labels for each hypothesis\n",
    "for name, group in slopegraph_df.groupby('number'):\n",
    "    ice = group['ICE'].values\n",
    "    rice = group['RICE'].values\n",
    "\n",
    "    # Plot the lines connecting the dots\n",
    "    ax.plot([0, 1], [ice, rice], c='red')\n",
    "\n",
    "    # Plot the points\n",
    "    ax.scatter([0] * len(ice), ice, c='k', s=15, label='ICE')\n",
    "    ax.scatter([1] * len(rice), rice, c='k', s=15, label='RICE')\n",
    "\n",
    "    # Add the name of the hypothesis\n",
    "    #ax.annotate(name, (-0.05, (ice[-1] + rice[-1]) / 2), ha='right', va='center')\n",
    "\n",
    "# Set the x-axis ticks and labels\n",
    "ax.set_xticks([0, 1])\n",
    "ax.set_xticklabels(['ICE', 'RICE'])\n",
    "\n",
    "# Set the y-axis labels and limits\n",
    "ax.set_ylabel('Значение фреймворка, точка - это гипотеза от 0 до 8')\n",
    "ax.set_ylim([0, max(slopegraph_df[['ICE', 'RICE']].values.flatten()) * 1.1])  # Adjust the limit if needed\n",
    "\n",
    "# Add title and legend\n",
    "ax.set_title('Слоупграф')\n",
    "#ax.legend()\n",
    "\n",
    "plt.show()"
   ]
  },
  {
   "cell_type": "markdown",
   "metadata": {},
   "source": [
    "На графике выше показана как менялась приоритезация гипотез. Слева фреймворк ICE от 0 до 8 гипотизы. Справа RICE. Они соединены попарно для удобства отслеживания приоритезации. "
   ]
  },
  {
   "cell_type": "markdown",
   "metadata": {},
   "source": [
    "## Часть 2. Анализ A/B-теста\n",
    "<a name='AB'></a>"
   ]
  },
  {
   "cell_type": "markdown",
   "metadata": {},
   "source": [
    "### Проверка разбиения пользователей на группы\n",
    "<a name='set'></a>"
   ]
  },
  {
   "cell_type": "markdown",
   "metadata": {},
   "source": [
    "Сначала проверим, нет ли пользователей, которые попали как в группу А так и в группу В и , если такие найдутся - нужно оценить их количество, а так же их нужно удалить из анализа, так как они могут сильно повлиять на общую оценку всего теста."
   ]
  },
  {
   "cell_type": "code",
   "execution_count": 18,
   "metadata": {},
   "outputs": [
    {
     "data": {
      "text/plain": [
       "89"
      ]
     },
     "execution_count": 18,
     "metadata": {},
     "output_type": "execute_result"
    }
   ],
   "source": [
    "orders[orders['group'] == 'A']['visitorId'].isin(orders[orders['group'] == 'B']['visitorId']).sum()"
   ]
  },
  {
   "cell_type": "markdown",
   "metadata": {},
   "source": [
    "Как видим, оказывается, целых 89 человек есть как в группе А так и в В. По каким причинами они туда попали - мы точно не знаем, возможно, технический сбой или ошибка при заполнении таблицы. Может, была ошибка в настройке теста. "
   ]
  },
  {
   "cell_type": "code",
   "execution_count": 19,
   "metadata": {},
   "outputs": [],
   "source": [
    "wrong_users = pd.Series(list(set(orders[orders['group'] == 'A']['visitorId'])\\\n",
    "                             .intersection(set(orders[orders['group'] == 'B']['visitorId']))))\n",
    "orders = orders.loc[~orders['visitorId'].isin(list(wrong_users))]"
   ]
  },
  {
   "cell_type": "markdown",
   "metadata": {},
   "source": [
    "Почистили наши данные от 89 человек."
   ]
  },
  {
   "cell_type": "markdown",
   "metadata": {},
   "source": [
    "### Создание единой таблицы\n",
    "<a name='table'></a>"
   ]
  },
  {
   "cell_type": "markdown",
   "metadata": {},
   "source": [
    "Для проведения данного теста необходимо объединить таблицы с заказами, посетителями интернет-магазина. "
   ]
  },
  {
   "cell_type": "code",
   "execution_count": 20,
   "metadata": {
    "scrolled": true
   },
   "outputs": [
    {
     "data": {
      "text/html": [
       "<div>\n",
       "<style scoped>\n",
       "    .dataframe tbody tr th:only-of-type {\n",
       "        vertical-align: middle;\n",
       "    }\n",
       "\n",
       "    .dataframe tbody tr th {\n",
       "        vertical-align: top;\n",
       "    }\n",
       "\n",
       "    .dataframe thead th {\n",
       "        text-align: right;\n",
       "    }\n",
       "</style>\n",
       "<table border=\"1\" class=\"dataframe\">\n",
       "  <thead>\n",
       "    <tr style=\"text-align: right;\">\n",
       "      <th></th>\n",
       "      <th>transactionId</th>\n",
       "      <th>visitorId</th>\n",
       "      <th>date</th>\n",
       "      <th>revenue</th>\n",
       "      <th>group</th>\n",
       "    </tr>\n",
       "  </thead>\n",
       "  <tbody>\n",
       "    <tr>\n",
       "      <th>0</th>\n",
       "      <td>3667963787</td>\n",
       "      <td>3312258926</td>\n",
       "      <td>2019-08-15</td>\n",
       "      <td>1650</td>\n",
       "      <td>B</td>\n",
       "    </tr>\n",
       "    <tr>\n",
       "      <th>1</th>\n",
       "      <td>2804400009</td>\n",
       "      <td>3642806036</td>\n",
       "      <td>2019-08-15</td>\n",
       "      <td>730</td>\n",
       "      <td>B</td>\n",
       "    </tr>\n",
       "    <tr>\n",
       "      <th>3</th>\n",
       "      <td>3797467345</td>\n",
       "      <td>1196621759</td>\n",
       "      <td>2019-08-15</td>\n",
       "      <td>9759</td>\n",
       "      <td>B</td>\n",
       "    </tr>\n",
       "  </tbody>\n",
       "</table>\n",
       "</div>"
      ],
      "text/plain": [
       "   transactionId   visitorId       date  revenue group\n",
       "0     3667963787  3312258926 2019-08-15     1650     B\n",
       "1     2804400009  3642806036 2019-08-15      730     B\n",
       "3     3797467345  1196621759 2019-08-15     9759     B"
      ]
     },
     "metadata": {},
     "output_type": "display_data"
    },
    {
     "data": {
      "text/html": [
       "<div>\n",
       "<style scoped>\n",
       "    .dataframe tbody tr th:only-of-type {\n",
       "        vertical-align: middle;\n",
       "    }\n",
       "\n",
       "    .dataframe tbody tr th {\n",
       "        vertical-align: top;\n",
       "    }\n",
       "\n",
       "    .dataframe thead th {\n",
       "        text-align: right;\n",
       "    }\n",
       "</style>\n",
       "<table border=\"1\" class=\"dataframe\">\n",
       "  <thead>\n",
       "    <tr style=\"text-align: right;\">\n",
       "      <th></th>\n",
       "      <th>date</th>\n",
       "      <th>group</th>\n",
       "      <th>visitors</th>\n",
       "    </tr>\n",
       "  </thead>\n",
       "  <tbody>\n",
       "    <tr>\n",
       "      <th>0</th>\n",
       "      <td>2019-08-01</td>\n",
       "      <td>A</td>\n",
       "      <td>719</td>\n",
       "    </tr>\n",
       "    <tr>\n",
       "      <th>1</th>\n",
       "      <td>2019-08-02</td>\n",
       "      <td>A</td>\n",
       "      <td>619</td>\n",
       "    </tr>\n",
       "    <tr>\n",
       "      <th>2</th>\n",
       "      <td>2019-08-03</td>\n",
       "      <td>A</td>\n",
       "      <td>507</td>\n",
       "    </tr>\n",
       "  </tbody>\n",
       "</table>\n",
       "</div>"
      ],
      "text/plain": [
       "        date group  visitors\n",
       "0 2019-08-01     A       719\n",
       "1 2019-08-02     A       619\n",
       "2 2019-08-03     A       507"
      ]
     },
     "metadata": {},
     "output_type": "display_data"
    }
   ],
   "source": [
    "display(orders.head(3))\n",
    "display(visitors.head(3))"
   ]
  },
  {
   "cell_type": "code",
   "execution_count": 21,
   "metadata": {
    "scrolled": true
   },
   "outputs": [
    {
     "data": {
      "text/html": [
       "<div>\n",
       "<style scoped>\n",
       "    .dataframe tbody tr th:only-of-type {\n",
       "        vertical-align: middle;\n",
       "    }\n",
       "\n",
       "    .dataframe tbody tr th {\n",
       "        vertical-align: top;\n",
       "    }\n",
       "\n",
       "    .dataframe thead th {\n",
       "        text-align: right;\n",
       "    }\n",
       "</style>\n",
       "<table border=\"1\" class=\"dataframe\">\n",
       "  <thead>\n",
       "    <tr style=\"text-align: right;\">\n",
       "      <th></th>\n",
       "      <th>date</th>\n",
       "      <th>group</th>\n",
       "      <th>orders</th>\n",
       "      <th>buyers</th>\n",
       "      <th>revenue</th>\n",
       "      <th>visitors</th>\n",
       "    </tr>\n",
       "  </thead>\n",
       "  <tbody>\n",
       "    <tr>\n",
       "      <th>0</th>\n",
       "      <td>2019-08-01</td>\n",
       "      <td>A</td>\n",
       "      <td>23</td>\n",
       "      <td>19</td>\n",
       "      <td>142779</td>\n",
       "      <td>719</td>\n",
       "    </tr>\n",
       "    <tr>\n",
       "      <th>1</th>\n",
       "      <td>2019-08-01</td>\n",
       "      <td>B</td>\n",
       "      <td>17</td>\n",
       "      <td>17</td>\n",
       "      <td>59758</td>\n",
       "      <td>713</td>\n",
       "    </tr>\n",
       "    <tr>\n",
       "      <th>2</th>\n",
       "      <td>2019-08-02</td>\n",
       "      <td>A</td>\n",
       "      <td>42</td>\n",
       "      <td>36</td>\n",
       "      <td>234381</td>\n",
       "      <td>1338</td>\n",
       "    </tr>\n",
       "    <tr>\n",
       "      <th>3</th>\n",
       "      <td>2019-08-02</td>\n",
       "      <td>B</td>\n",
       "      <td>40</td>\n",
       "      <td>39</td>\n",
       "      <td>221801</td>\n",
       "      <td>1294</td>\n",
       "    </tr>\n",
       "    <tr>\n",
       "      <th>4</th>\n",
       "      <td>2019-08-03</td>\n",
       "      <td>A</td>\n",
       "      <td>66</td>\n",
       "      <td>60</td>\n",
       "      <td>346854</td>\n",
       "      <td>1845</td>\n",
       "    </tr>\n",
       "    <tr>\n",
       "      <th>5</th>\n",
       "      <td>2019-08-03</td>\n",
       "      <td>B</td>\n",
       "      <td>54</td>\n",
       "      <td>53</td>\n",
       "      <td>288850</td>\n",
       "      <td>1803</td>\n",
       "    </tr>\n",
       "    <tr>\n",
       "      <th>6</th>\n",
       "      <td>2019-08-04</td>\n",
       "      <td>A</td>\n",
       "      <td>77</td>\n",
       "      <td>71</td>\n",
       "      <td>388030</td>\n",
       "      <td>2562</td>\n",
       "    </tr>\n",
       "    <tr>\n",
       "      <th>7</th>\n",
       "      <td>2019-08-04</td>\n",
       "      <td>B</td>\n",
       "      <td>68</td>\n",
       "      <td>66</td>\n",
       "      <td>385740</td>\n",
       "      <td>2573</td>\n",
       "    </tr>\n",
       "    <tr>\n",
       "      <th>8</th>\n",
       "      <td>2019-08-05</td>\n",
       "      <td>A</td>\n",
       "      <td>99</td>\n",
       "      <td>92</td>\n",
       "      <td>474413</td>\n",
       "      <td>3318</td>\n",
       "    </tr>\n",
       "    <tr>\n",
       "      <th>9</th>\n",
       "      <td>2019-08-05</td>\n",
       "      <td>B</td>\n",
       "      <td>89</td>\n",
       "      <td>87</td>\n",
       "      <td>475648</td>\n",
       "      <td>3280</td>\n",
       "    </tr>\n",
       "    <tr>\n",
       "      <th>10</th>\n",
       "      <td>2019-08-06</td>\n",
       "      <td>A</td>\n",
       "      <td>114</td>\n",
       "      <td>104</td>\n",
       "      <td>515332</td>\n",
       "      <td>3985</td>\n",
       "    </tr>\n",
       "    <tr>\n",
       "      <th>11</th>\n",
       "      <td>2019-08-06</td>\n",
       "      <td>B</td>\n",
       "      <td>112</td>\n",
       "      <td>109</td>\n",
       "      <td>690490</td>\n",
       "      <td>3935</td>\n",
       "    </tr>\n",
       "    <tr>\n",
       "      <th>12</th>\n",
       "      <td>2019-08-07</td>\n",
       "      <td>A</td>\n",
       "      <td>130</td>\n",
       "      <td>120</td>\n",
       "      <td>638580</td>\n",
       "      <td>4629</td>\n",
       "    </tr>\n",
       "    <tr>\n",
       "      <th>13</th>\n",
       "      <td>2019-08-07</td>\n",
       "      <td>B</td>\n",
       "      <td>135</td>\n",
       "      <td>132</td>\n",
       "      <td>909654</td>\n",
       "      <td>4644</td>\n",
       "    </tr>\n",
       "    <tr>\n",
       "      <th>14</th>\n",
       "      <td>2019-08-08</td>\n",
       "      <td>A</td>\n",
       "      <td>144</td>\n",
       "      <td>133</td>\n",
       "      <td>727219</td>\n",
       "      <td>5239</td>\n",
       "    </tr>\n",
       "    <tr>\n",
       "      <th>15</th>\n",
       "      <td>2019-08-08</td>\n",
       "      <td>B</td>\n",
       "      <td>157</td>\n",
       "      <td>154</td>\n",
       "      <td>1059795</td>\n",
       "      <td>5298</td>\n",
       "    </tr>\n",
       "    <tr>\n",
       "      <th>16</th>\n",
       "      <td>2019-08-09</td>\n",
       "      <td>A</td>\n",
       "      <td>155</td>\n",
       "      <td>143</td>\n",
       "      <td>861456</td>\n",
       "      <td>5856</td>\n",
       "    </tr>\n",
       "    <tr>\n",
       "      <th>17</th>\n",
       "      <td>2019-08-09</td>\n",
       "      <td>B</td>\n",
       "      <td>176</td>\n",
       "      <td>173</td>\n",
       "      <td>1162961</td>\n",
       "      <td>5908</td>\n",
       "    </tr>\n",
       "    <tr>\n",
       "      <th>18</th>\n",
       "      <td>2019-08-10</td>\n",
       "      <td>A</td>\n",
       "      <td>170</td>\n",
       "      <td>158</td>\n",
       "      <td>1013731</td>\n",
       "      <td>6262</td>\n",
       "    </tr>\n",
       "    <tr>\n",
       "      <th>19</th>\n",
       "      <td>2019-08-10</td>\n",
       "      <td>B</td>\n",
       "      <td>198</td>\n",
       "      <td>195</td>\n",
       "      <td>1268123</td>\n",
       "      <td>6277</td>\n",
       "    </tr>\n",
       "    <tr>\n",
       "      <th>20</th>\n",
       "      <td>2019-08-11</td>\n",
       "      <td>A</td>\n",
       "      <td>181</td>\n",
       "      <td>169</td>\n",
       "      <td>1074396</td>\n",
       "      <td>6980</td>\n",
       "    </tr>\n",
       "    <tr>\n",
       "      <th>21</th>\n",
       "      <td>2019-08-11</td>\n",
       "      <td>B</td>\n",
       "      <td>210</td>\n",
       "      <td>207</td>\n",
       "      <td>1321183</td>\n",
       "      <td>6998</td>\n",
       "    </tr>\n",
       "    <tr>\n",
       "      <th>22</th>\n",
       "      <td>2019-08-12</td>\n",
       "      <td>A</td>\n",
       "      <td>200</td>\n",
       "      <td>188</td>\n",
       "      <td>1294788</td>\n",
       "      <td>7575</td>\n",
       "    </tr>\n",
       "    <tr>\n",
       "      <th>23</th>\n",
       "      <td>2019-08-12</td>\n",
       "      <td>B</td>\n",
       "      <td>229</td>\n",
       "      <td>225</td>\n",
       "      <td>1425237</td>\n",
       "      <td>7541</td>\n",
       "    </tr>\n",
       "    <tr>\n",
       "      <th>24</th>\n",
       "      <td>2019-08-13</td>\n",
       "      <td>A</td>\n",
       "      <td>214</td>\n",
       "      <td>201</td>\n",
       "      <td>1558426</td>\n",
       "      <td>8323</td>\n",
       "    </tr>\n",
       "    <tr>\n",
       "      <th>25</th>\n",
       "      <td>2019-08-13</td>\n",
       "      <td>B</td>\n",
       "      <td>249</td>\n",
       "      <td>244</td>\n",
       "      <td>1542928</td>\n",
       "      <td>8310</td>\n",
       "    </tr>\n",
       "    <tr>\n",
       "      <th>26</th>\n",
       "      <td>2019-08-14</td>\n",
       "      <td>A</td>\n",
       "      <td>231</td>\n",
       "      <td>218</td>\n",
       "      <td>1601692</td>\n",
       "      <td>9058</td>\n",
       "    </tr>\n",
       "    <tr>\n",
       "      <th>27</th>\n",
       "      <td>2019-08-14</td>\n",
       "      <td>B</td>\n",
       "      <td>263</td>\n",
       "      <td>258</td>\n",
       "      <td>1650268</td>\n",
       "      <td>9056</td>\n",
       "    </tr>\n",
       "    <tr>\n",
       "      <th>28</th>\n",
       "      <td>2019-08-15</td>\n",
       "      <td>A</td>\n",
       "      <td>241</td>\n",
       "      <td>228</td>\n",
       "      <td>1682569</td>\n",
       "      <td>9686</td>\n",
       "    </tr>\n",
       "    <tr>\n",
       "      <th>29</th>\n",
       "      <td>2019-08-15</td>\n",
       "      <td>B</td>\n",
       "      <td>289</td>\n",
       "      <td>284</td>\n",
       "      <td>1960427</td>\n",
       "      <td>9600</td>\n",
       "    </tr>\n",
       "    <tr>\n",
       "      <th>30</th>\n",
       "      <td>2019-08-16</td>\n",
       "      <td>A</td>\n",
       "      <td>259</td>\n",
       "      <td>246</td>\n",
       "      <td>1782420</td>\n",
       "      <td>10047</td>\n",
       "    </tr>\n",
       "    <tr>\n",
       "      <th>31</th>\n",
       "      <td>2019-08-16</td>\n",
       "      <td>B</td>\n",
       "      <td>307</td>\n",
       "      <td>302</td>\n",
       "      <td>2074677</td>\n",
       "      <td>10013</td>\n",
       "    </tr>\n",
       "    <tr>\n",
       "      <th>32</th>\n",
       "      <td>2019-08-17</td>\n",
       "      <td>A</td>\n",
       "      <td>265</td>\n",
       "      <td>251</td>\n",
       "      <td>1817160</td>\n",
       "      <td>10459</td>\n",
       "    </tr>\n",
       "    <tr>\n",
       "      <th>33</th>\n",
       "      <td>2019-08-17</td>\n",
       "      <td>B</td>\n",
       "      <td>320</td>\n",
       "      <td>314</td>\n",
       "      <td>2155542</td>\n",
       "      <td>10434</td>\n",
       "    </tr>\n",
       "    <tr>\n",
       "      <th>34</th>\n",
       "      <td>2019-08-18</td>\n",
       "      <td>A</td>\n",
       "      <td>278</td>\n",
       "      <td>264</td>\n",
       "      <td>1876741</td>\n",
       "      <td>11127</td>\n",
       "    </tr>\n",
       "    <tr>\n",
       "      <th>35</th>\n",
       "      <td>2019-08-18</td>\n",
       "      <td>B</td>\n",
       "      <td>327</td>\n",
       "      <td>321</td>\n",
       "      <td>2190865</td>\n",
       "      <td>11171</td>\n",
       "    </tr>\n",
       "    <tr>\n",
       "      <th>36</th>\n",
       "      <td>2019-08-19</td>\n",
       "      <td>A</td>\n",
       "      <td>299</td>\n",
       "      <td>283</td>\n",
       "      <td>2044934</td>\n",
       "      <td>11629</td>\n",
       "    </tr>\n",
       "    <tr>\n",
       "      <th>37</th>\n",
       "      <td>2019-08-19</td>\n",
       "      <td>B</td>\n",
       "      <td>348</td>\n",
       "      <td>341</td>\n",
       "      <td>3620785</td>\n",
       "      <td>11658</td>\n",
       "    </tr>\n",
       "    <tr>\n",
       "      <th>38</th>\n",
       "      <td>2019-08-20</td>\n",
       "      <td>A</td>\n",
       "      <td>309</td>\n",
       "      <td>293</td>\n",
       "      <td>2103613</td>\n",
       "      <td>12204</td>\n",
       "    </tr>\n",
       "    <tr>\n",
       "      <th>39</th>\n",
       "      <td>2019-08-20</td>\n",
       "      <td>B</td>\n",
       "      <td>368</td>\n",
       "      <td>360</td>\n",
       "      <td>3768059</td>\n",
       "      <td>12218</td>\n",
       "    </tr>\n",
       "    <tr>\n",
       "      <th>40</th>\n",
       "      <td>2019-08-21</td>\n",
       "      <td>A</td>\n",
       "      <td>329</td>\n",
       "      <td>311</td>\n",
       "      <td>2273782</td>\n",
       "      <td>12850</td>\n",
       "    </tr>\n",
       "    <tr>\n",
       "      <th>41</th>\n",
       "      <td>2019-08-21</td>\n",
       "      <td>B</td>\n",
       "      <td>380</td>\n",
       "      <td>370</td>\n",
       "      <td>3908406</td>\n",
       "      <td>12874</td>\n",
       "    </tr>\n",
       "    <tr>\n",
       "      <th>42</th>\n",
       "      <td>2019-08-22</td>\n",
       "      <td>A</td>\n",
       "      <td>339</td>\n",
       "      <td>321</td>\n",
       "      <td>2366147</td>\n",
       "      <td>13459</td>\n",
       "    </tr>\n",
       "    <tr>\n",
       "      <th>43</th>\n",
       "      <td>2019-08-22</td>\n",
       "      <td>B</td>\n",
       "      <td>401</td>\n",
       "      <td>388</td>\n",
       "      <td>4050134</td>\n",
       "      <td>13524</td>\n",
       "    </tr>\n",
       "    <tr>\n",
       "      <th>44</th>\n",
       "      <td>2019-08-23</td>\n",
       "      <td>A</td>\n",
       "      <td>359</td>\n",
       "      <td>341</td>\n",
       "      <td>2424010</td>\n",
       "      <td>13927</td>\n",
       "    </tr>\n",
       "    <tr>\n",
       "      <th>45</th>\n",
       "      <td>2019-08-23</td>\n",
       "      <td>B</td>\n",
       "      <td>414</td>\n",
       "      <td>400</td>\n",
       "      <td>4127403</td>\n",
       "      <td>14070</td>\n",
       "    </tr>\n",
       "    <tr>\n",
       "      <th>46</th>\n",
       "      <td>2019-08-24</td>\n",
       "      <td>A</td>\n",
       "      <td>372</td>\n",
       "      <td>354</td>\n",
       "      <td>2546023</td>\n",
       "      <td>14322</td>\n",
       "    </tr>\n",
       "    <tr>\n",
       "      <th>47</th>\n",
       "      <td>2019-08-24</td>\n",
       "      <td>B</td>\n",
       "      <td>428</td>\n",
       "      <td>412</td>\n",
       "      <td>4215269</td>\n",
       "      <td>14448</td>\n",
       "    </tr>\n",
       "    <tr>\n",
       "      <th>48</th>\n",
       "      <td>2019-08-25</td>\n",
       "      <td>A</td>\n",
       "      <td>380</td>\n",
       "      <td>362</td>\n",
       "      <td>2597907</td>\n",
       "      <td>14943</td>\n",
       "    </tr>\n",
       "    <tr>\n",
       "      <th>49</th>\n",
       "      <td>2019-08-25</td>\n",
       "      <td>B</td>\n",
       "      <td>440</td>\n",
       "      <td>424</td>\n",
       "      <td>4294526</td>\n",
       "      <td>15127</td>\n",
       "    </tr>\n",
       "    <tr>\n",
       "      <th>50</th>\n",
       "      <td>2019-08-26</td>\n",
       "      <td>A</td>\n",
       "      <td>396</td>\n",
       "      <td>378</td>\n",
       "      <td>2755121</td>\n",
       "      <td>15665</td>\n",
       "    </tr>\n",
       "    <tr>\n",
       "      <th>51</th>\n",
       "      <td>2019-08-26</td>\n",
       "      <td>B</td>\n",
       "      <td>462</td>\n",
       "      <td>446</td>\n",
       "      <td>4467965</td>\n",
       "      <td>15803</td>\n",
       "    </tr>\n",
       "    <tr>\n",
       "      <th>52</th>\n",
       "      <td>2019-08-27</td>\n",
       "      <td>A</td>\n",
       "      <td>419</td>\n",
       "      <td>400</td>\n",
       "      <td>2940471</td>\n",
       "      <td>16376</td>\n",
       "    </tr>\n",
       "    <tr>\n",
       "      <th>53</th>\n",
       "      <td>2019-08-27</td>\n",
       "      <td>B</td>\n",
       "      <td>473</td>\n",
       "      <td>456</td>\n",
       "      <td>4579312</td>\n",
       "      <td>16523</td>\n",
       "    </tr>\n",
       "    <tr>\n",
       "      <th>54</th>\n",
       "      <td>2019-08-28</td>\n",
       "      <td>A</td>\n",
       "      <td>434</td>\n",
       "      <td>413</td>\n",
       "      <td>3036933</td>\n",
       "      <td>16970</td>\n",
       "    </tr>\n",
       "    <tr>\n",
       "      <th>55</th>\n",
       "      <td>2019-08-28</td>\n",
       "      <td>B</td>\n",
       "      <td>495</td>\n",
       "      <td>476</td>\n",
       "      <td>4640510</td>\n",
       "      <td>17177</td>\n",
       "    </tr>\n",
       "    <tr>\n",
       "      <th>56</th>\n",
       "      <td>2019-08-29</td>\n",
       "      <td>A</td>\n",
       "      <td>451</td>\n",
       "      <td>430</td>\n",
       "      <td>3233233</td>\n",
       "      <td>17547</td>\n",
       "    </tr>\n",
       "    <tr>\n",
       "      <th>57</th>\n",
       "      <td>2019-08-29</td>\n",
       "      <td>B</td>\n",
       "      <td>510</td>\n",
       "      <td>490</td>\n",
       "      <td>4746610</td>\n",
       "      <td>17708</td>\n",
       "    </tr>\n",
       "    <tr>\n",
       "      <th>58</th>\n",
       "      <td>2019-08-30</td>\n",
       "      <td>A</td>\n",
       "      <td>460</td>\n",
       "      <td>437</td>\n",
       "      <td>3311413</td>\n",
       "      <td>18037</td>\n",
       "    </tr>\n",
       "    <tr>\n",
       "      <th>59</th>\n",
       "      <td>2019-08-30</td>\n",
       "      <td>B</td>\n",
       "      <td>531</td>\n",
       "      <td>511</td>\n",
       "      <td>4955833</td>\n",
       "      <td>18198</td>\n",
       "    </tr>\n",
       "    <tr>\n",
       "      <th>60</th>\n",
       "      <td>2019-08-31</td>\n",
       "      <td>A</td>\n",
       "      <td>468</td>\n",
       "      <td>445</td>\n",
       "      <td>3364656</td>\n",
       "      <td>18736</td>\n",
       "    </tr>\n",
       "    <tr>\n",
       "      <th>61</th>\n",
       "      <td>2019-08-31</td>\n",
       "      <td>B</td>\n",
       "      <td>548</td>\n",
       "      <td>528</td>\n",
       "      <td>5068972</td>\n",
       "      <td>18916</td>\n",
       "    </tr>\n",
       "  </tbody>\n",
       "</table>\n",
       "</div>"
      ],
      "text/plain": [
       "         date group  orders  buyers  revenue  visitors\n",
       "0  2019-08-01     A      23      19   142779       719\n",
       "1  2019-08-01     B      17      17    59758       713\n",
       "2  2019-08-02     A      42      36   234381      1338\n",
       "3  2019-08-02     B      40      39   221801      1294\n",
       "4  2019-08-03     A      66      60   346854      1845\n",
       "5  2019-08-03     B      54      53   288850      1803\n",
       "6  2019-08-04     A      77      71   388030      2562\n",
       "7  2019-08-04     B      68      66   385740      2573\n",
       "8  2019-08-05     A      99      92   474413      3318\n",
       "9  2019-08-05     B      89      87   475648      3280\n",
       "10 2019-08-06     A     114     104   515332      3985\n",
       "11 2019-08-06     B     112     109   690490      3935\n",
       "12 2019-08-07     A     130     120   638580      4629\n",
       "13 2019-08-07     B     135     132   909654      4644\n",
       "14 2019-08-08     A     144     133   727219      5239\n",
       "15 2019-08-08     B     157     154  1059795      5298\n",
       "16 2019-08-09     A     155     143   861456      5856\n",
       "17 2019-08-09     B     176     173  1162961      5908\n",
       "18 2019-08-10     A     170     158  1013731      6262\n",
       "19 2019-08-10     B     198     195  1268123      6277\n",
       "20 2019-08-11     A     181     169  1074396      6980\n",
       "21 2019-08-11     B     210     207  1321183      6998\n",
       "22 2019-08-12     A     200     188  1294788      7575\n",
       "23 2019-08-12     B     229     225  1425237      7541\n",
       "24 2019-08-13     A     214     201  1558426      8323\n",
       "25 2019-08-13     B     249     244  1542928      8310\n",
       "26 2019-08-14     A     231     218  1601692      9058\n",
       "27 2019-08-14     B     263     258  1650268      9056\n",
       "28 2019-08-15     A     241     228  1682569      9686\n",
       "29 2019-08-15     B     289     284  1960427      9600\n",
       "30 2019-08-16     A     259     246  1782420     10047\n",
       "31 2019-08-16     B     307     302  2074677     10013\n",
       "32 2019-08-17     A     265     251  1817160     10459\n",
       "33 2019-08-17     B     320     314  2155542     10434\n",
       "34 2019-08-18     A     278     264  1876741     11127\n",
       "35 2019-08-18     B     327     321  2190865     11171\n",
       "36 2019-08-19     A     299     283  2044934     11629\n",
       "37 2019-08-19     B     348     341  3620785     11658\n",
       "38 2019-08-20     A     309     293  2103613     12204\n",
       "39 2019-08-20     B     368     360  3768059     12218\n",
       "40 2019-08-21     A     329     311  2273782     12850\n",
       "41 2019-08-21     B     380     370  3908406     12874\n",
       "42 2019-08-22     A     339     321  2366147     13459\n",
       "43 2019-08-22     B     401     388  4050134     13524\n",
       "44 2019-08-23     A     359     341  2424010     13927\n",
       "45 2019-08-23     B     414     400  4127403     14070\n",
       "46 2019-08-24     A     372     354  2546023     14322\n",
       "47 2019-08-24     B     428     412  4215269     14448\n",
       "48 2019-08-25     A     380     362  2597907     14943\n",
       "49 2019-08-25     B     440     424  4294526     15127\n",
       "50 2019-08-26     A     396     378  2755121     15665\n",
       "51 2019-08-26     B     462     446  4467965     15803\n",
       "52 2019-08-27     A     419     400  2940471     16376\n",
       "53 2019-08-27     B     473     456  4579312     16523\n",
       "54 2019-08-28     A     434     413  3036933     16970\n",
       "55 2019-08-28     B     495     476  4640510     17177\n",
       "56 2019-08-29     A     451     430  3233233     17547\n",
       "57 2019-08-29     B     510     490  4746610     17708\n",
       "58 2019-08-30     A     460     437  3311413     18037\n",
       "59 2019-08-30     B     531     511  4955833     18198\n",
       "60 2019-08-31     A     468     445  3364656     18736\n",
       "61 2019-08-31     B     548     528  5068972     18916"
      ]
     },
     "metadata": {},
     "output_type": "display_data"
    }
   ],
   "source": [
    "# создаем массив уникальных пар значений дат и групп теста\n",
    "datesGroups = orders[['date','group']].drop_duplicates()\n",
    "\n",
    "# получаем агрегированные кумулятивные по дням данные о заказах \n",
    "ordersAggregated = datesGroups.apply(lambda x: orders[np.logical_and(orders['date'] <= x['date'], orders['group'] == x['group'])].agg({'date' : 'max', 'group' : 'max', 'transactionId' : 'nunique', 'visitorId' : 'nunique', 'revenue' : 'sum'}), axis=1).sort_values(by=['date','group'])\n",
    "\n",
    "# получаем агрегированные кумулятивные по дням данные о посетителях интернет-магазина \n",
    "visitorsAggregated = datesGroups.apply(lambda x: visitors[np.logical_and(visitors['date'] <= x['date'], visitors['group'] == x['group'])].agg({'date' : 'max', 'group' : 'max', 'visitors' : 'sum'}), axis=1).sort_values(by=['date','group'])\n",
    "\n",
    "# объединяем кумулятивные данные в одной таблице и присваиваем ее столбцам понятные названия\n",
    "cumulativeData = ordersAggregated.merge(visitorsAggregated, left_on=['date', 'group'], right_on=['date', 'group'])\n",
    "cumulativeData.columns = ['date', 'group', 'orders', 'buyers', 'revenue', 'visitors']\n",
    "pd.set_option('display.max_rows', None)\n",
    "display(cumulativeData)"
   ]
  },
  {
   "cell_type": "markdown",
   "metadata": {},
   "source": [
    "Исселедование длилось в течение месяца. "
   ]
  },
  {
   "cell_type": "markdown",
   "metadata": {},
   "source": [
    "### График кумулятивной выручки по группам\n",
    "<a name='v'></a>"
   ]
  },
  {
   "cell_type": "code",
   "execution_count": 22,
   "metadata": {},
   "outputs": [
    {
     "data": {
      "image/png": "[encoded data removed]",
      "text/plain": [
       "<Figure size 1440x432 with 1 Axes>"
      ]
     },
     "metadata": {
      "needs_background": "light"
     },
     "output_type": "display_data"
    }
   ],
   "source": [
    "cumulativeRevenueA = cumulativeData[cumulativeData['group']=='A'][['date','revenue', 'orders']]\n",
    "\n",
    "cumulativeRevenueB = cumulativeData[cumulativeData['group']=='B'][['date','revenue', 'orders']]\n",
    "\n",
    "plt.figure(figsize=(20, 6))\n",
    "\n",
    "plt.plot(cumulativeRevenueA['date'], cumulativeRevenueA['revenue'], label='A')\n",
    "\n",
    "plt.plot(cumulativeRevenueB['date'], cumulativeRevenueB['revenue'], label='B')\n",
    "plt.title(\"График кумулятивной выручки по группам\", fontsize=20)\n",
    "plt.xlabel(\"Дата\", fontsize=15)\n",
    "plt.ylabel(\"Кумулятивная выручка\", fontsize=15)\n",
    "plt.legend();"
   ]
  },
  {
   "cell_type": "markdown",
   "metadata": {},
   "source": [
    "Мы видим, что после 17 августа сегмент В резко поднимается по кумулятивной выручке. В самом начале тестирования (1 августа 2019 года) группы А и В шли вместе, после 5 августа группа В начала обгонять группу А, которая набирает выручку на протяжении всего тестирования стабильно. После 17 августа по непонятным причинам группа В резко вырвалась вперед. Вероятно, необходимо проверить данные в группе В на выбросы. "
   ]
  },
  {
   "cell_type": "code",
   "execution_count": 23,
   "metadata": {},
   "outputs": [
    {
     "data": {
      "image/png": "[encoded data removed]",
      "text/plain": [
       "<Figure size 432x288 with 1 Axes>"
      ]
     },
     "metadata": {
      "needs_background": "light"
     },
     "output_type": "display_data"
    }
   ],
   "source": [
    "cumulativeData[cumulativeData['group'] == 'B'].hist('revenue');"
   ]
  },
  {
   "cell_type": "code",
   "execution_count": 24,
   "metadata": {},
   "outputs": [
    {
     "data": {
      "image/png": "[encoded data removed]",
      "text/plain": [
       "<Figure size 432x288 with 1 Axes>"
      ]
     },
     "metadata": {
      "needs_background": "light"
     },
     "output_type": "display_data"
    }
   ],
   "source": [
    "cumulativeData[cumulativeData['group'] == 'A'].hist('revenue');"
   ]
  },
  {
   "cell_type": "markdown",
   "metadata": {},
   "source": [
    "В общих чертах не видно каких-то часто встречающихся выбросов ни в А ни в В группе, даже если поменять количество корзин у гистограммы. Видимо, в группе В и случилось сколько-то выбросов, но они в целом показывали лучшую динамику по количеству выручки, чем в группе А даже без происшествия с выручкой от 17 сентября. Что именно произошло трудно сказать, из таблицы видно, что в группе В было больше и посетителей и трат в сутки. Возможно, после 17 сентября в целом стало больше посетителей и накопленная выручка резко подскочила. "
   ]
  },
  {
   "cell_type": "markdown",
   "metadata": {},
   "source": [
    "### График кумулятивного среднего чека по группам\n",
    "<a name='bills'></a>"
   ]
  },
  {
   "cell_type": "code",
   "execution_count": 25,
   "metadata": {},
   "outputs": [
    {
     "data": {
      "image/png": "[encoded data removed]",
      "text/plain": [
       "<Figure size 1440x432 with 1 Axes>"
      ]
     },
     "metadata": {
      "needs_background": "light"
     },
     "output_type": "display_data"
    }
   ],
   "source": [
    "cumulativeRevenueA = cumulativeData[cumulativeData['group'] == 'A'][\n",
    "    ['date', 'revenue', 'orders']\n",
    "]\n",
    "cumulativeRevenueB = cumulativeData[cumulativeData['group'] == 'B'][\n",
    "    ['date', 'revenue', 'orders']\n",
    "]\n",
    "plt.figure(figsize=(20, 6))\n",
    "plt.plot(cumulativeRevenueA['date'], cumulativeRevenueA['revenue']/cumulativeRevenueA['orders'], label='A')\n",
    "\n",
    "plt.plot(cumulativeRevenueB['date'], cumulativeRevenueB['revenue']/cumulativeRevenueB['orders'], label='B')\n",
    "plt.title(\"График кумулятивного среднего чека по группам\", fontsize=20)\n",
    "plt.xlabel(\"Дата\", fontsize=15)\n",
    "plt.ylabel(\"Кумулятивный средний чек\", fontsize=15)\n",
    "plt.legend();"
   ]
  },
  {
   "cell_type": "markdown",
   "metadata": {},
   "source": [
    "Действительно, после 17 августа резко вырос средний чек в группе В. В группе А к 17 августа средний чек вышел на плато. В группе же В он сначала резко вырос (после 17 августа), а затем стал медленно снижаться. Всё же, вероятно, около 19 августа был какой-то нестандартный заказ на большую сумму. Поэтому дальше средний чек в группе В падает, подобных крупных заказов не повторяется и накопленная сумма по чекам снижается. "
   ]
  },
  {
   "cell_type": "markdown",
   "metadata": {},
   "source": [
    "### График относительного изменения кумулятивного среднего чека группы B к группе A\n",
    "<a name='billsall'></a>"
   ]
  },
  {
   "cell_type": "code",
   "execution_count": 26,
   "metadata": {},
   "outputs": [
    {
     "data": {
      "image/png": "[encoded data removed]",
      "text/plain": [
       "<Figure size 1152x504 with 1 Axes>"
      ]
     },
     "metadata": {
      "needs_background": "light"
     },
     "output_type": "display_data"
    }
   ],
   "source": [
    "mergedCumulativeRevenue = cumulativeRevenueA.merge(cumulativeRevenueB, left_on='date', right_on='date', how='left', suffixes=['A', 'B'])\n",
    "\n",
    "plt.figure(figsize=(16, 7))\n",
    "\n",
    "plt.plot(mergedCumulativeRevenue['date'], (mergedCumulativeRevenue['revenueB']/mergedCumulativeRevenue['ordersB'])/(mergedCumulativeRevenue['revenueA']/mergedCumulativeRevenue['ordersA'])-1)\n",
    "\n",
    "plt.title(\"График относительного изменения кумулятивного среднего чека группы B к группе A\", fontsize=18)\n",
    "plt.xlabel(\"Дата\", fontsize=15)\n",
    "plt.ylabel(\"Кумулятивный средний чек\", fontsize=15)\n",
    "\n",
    "\n",
    "# добавляем ось X\n",
    "plt.axhline(y=0, color='black', linestyle='--');\n"
   ]
  },
  {
   "cell_type": "markdown",
   "metadata": {},
   "source": [
    "Результаты теста резко меняются около 9 августа и, как раз, нашего яркого 19 августа (после 17). Очевидно, что в эти даты совершались какие-то аномальные покупки. "
   ]
  },
  {
   "cell_type": "markdown",
   "metadata": {},
   "source": [
    "### График кумулятивного среднего количества заказов на посетителя по группам. \n",
    "<a name='orders'></a>"
   ]
  },
  {
   "cell_type": "code",
   "execution_count": 27,
   "metadata": {},
   "outputs": [
    {
     "data": {
      "image/png": "[encoded data removed]",
      "text/plain": [
       "<Figure size 936x432 with 1 Axes>"
      ]
     },
     "metadata": {
      "needs_background": "light"
     },
     "output_type": "display_data"
    }
   ],
   "source": [
    "cumulativeData['conversion'] = cumulativeData['orders']/cumulativeData['visitors']\n",
    "\n",
    "\n",
    "\n",
    "# отделяем данные по группе A\n",
    "\n",
    "cumulativeDataA = cumulativeData[cumulativeData['group']=='A']\n",
    "\n",
    "\n",
    "\n",
    "# отделяем данные по группе B\n",
    "\n",
    "cumulativeDataB = cumulativeData[cumulativeData['group']=='B']\n",
    "\n",
    "\n",
    "\n",
    "# строим графики\n",
    "\n",
    "plt.figure(figsize=(13, 6))\n",
    "plt.plot(cumulativeDataA['date'], cumulativeDataA['conversion'], label='A')\n",
    "\n",
    "plt.plot(cumulativeDataB['date'], cumulativeDataB['conversion'], label='B')\n",
    "plt.title(\"График кумулятивного среднего количества заказов на посетителя по группам\", fontsize=13)\n",
    "plt.xlabel(\"Дата\")\n",
    "plt.ylabel(\"Количество заказов\")\n",
    "plt.legend();\n"
   ]
  },
  {
   "cell_type": "markdown",
   "metadata": {},
   "source": [
    "По сути - это конверсия (просто посетители сайта, перешедшие в покупателей). В самом начале покупок - конверсия была больше у группы А, но она стабильно снижалась на протяжении всего тестирования. После 5 августа конверсия группы В стала выше конверсии группы А. Мы видим и её постепенное снижение, но она стабильно выше конверсии группы А начиная с 6 августа."
   ]
  },
  {
   "cell_type": "code",
   "execution_count": 28,
   "metadata": {
    "scrolled": true
   },
   "outputs": [
    {
     "data": {
      "image/png": "[encoded data removed]",
      "text/plain": [
       "<Figure size 936x432 with 1 Axes>"
      ]
     },
     "metadata": {
      "needs_background": "light"
     },
     "output_type": "display_data"
    }
   ],
   "source": [
    "mergedCumulativeConversions = cumulativeDataA[['date','conversion']].merge(cumulativeDataB[['date','conversion']], left_on='date', right_on='date', how='left', suffixes=['A', 'B'])\n",
    "\n",
    "\n",
    "plt.figure(figsize=(13, 6))\n",
    "plt.plot(mergedCumulativeConversions['date'], mergedCumulativeConversions['conversionB']/mergedCumulativeConversions['conversionA']-1,  label=\"Относительный прирост конверсии группы B относительно группы A\")\n",
    "\n",
    "plt.legend()\n",
    "\n",
    "\n",
    "\n",
    "plt.axhline(y=0, color='black', linestyle='--')\n",
    "\n",
    "plt.axhline(y=0.1, color='grey', linestyle='--');\n"
   ]
  },
  {
   "cell_type": "markdown",
   "metadata": {},
   "source": [
    "Мы построили график относительного различия конверсии между группой А и группой В. Почти с самого начала теста, сразу после 5 августа, конверсия группы В становится лучше и лучше. Она зафиксировалась около прироста в 10% относительно группы А в последней трети теста."
   ]
  },
  {
   "cell_type": "markdown",
   "metadata": {},
   "source": [
    "### Точечный график количества заказов по пользователям\n",
    "<a name='dote'></a>"
   ]
  },
  {
   "cell_type": "markdown",
   "metadata": {},
   "source": [
    "Создадим таблицу с заказами и уникальным ID пользователей."
   ]
  },
  {
   "cell_type": "code",
   "execution_count": 29,
   "metadata": {},
   "outputs": [
    {
     "data": {
      "text/html": [
       "<div>\n",
       "<style scoped>\n",
       "    .dataframe tbody tr th:only-of-type {\n",
       "        vertical-align: middle;\n",
       "    }\n",
       "\n",
       "    .dataframe tbody tr th {\n",
       "        vertical-align: top;\n",
       "    }\n",
       "\n",
       "    .dataframe thead th {\n",
       "        text-align: right;\n",
       "    }\n",
       "</style>\n",
       "<table border=\"1\" class=\"dataframe\">\n",
       "  <thead>\n",
       "    <tr style=\"text-align: right;\">\n",
       "      <th></th>\n",
       "      <th>userId</th>\n",
       "      <th>orders</th>\n",
       "    </tr>\n",
       "  </thead>\n",
       "  <tbody>\n",
       "    <tr>\n",
       "      <th>908</th>\n",
       "      <td>3967698036</td>\n",
       "      <td>3</td>\n",
       "    </tr>\n",
       "    <tr>\n",
       "      <th>55</th>\n",
       "      <td>249864742</td>\n",
       "      <td>3</td>\n",
       "    </tr>\n",
       "    <tr>\n",
       "      <th>478</th>\n",
       "      <td>2108163459</td>\n",
       "      <td>3</td>\n",
       "    </tr>\n",
       "    <tr>\n",
       "      <th>687</th>\n",
       "      <td>2988190573</td>\n",
       "      <td>3</td>\n",
       "    </tr>\n",
       "    <tr>\n",
       "      <th>890</th>\n",
       "      <td>3908431265</td>\n",
       "      <td>3</td>\n",
       "    </tr>\n",
       "    <tr>\n",
       "      <th>138</th>\n",
       "      <td>611059232</td>\n",
       "      <td>3</td>\n",
       "    </tr>\n",
       "    <tr>\n",
       "      <th>632</th>\n",
       "      <td>2742574263</td>\n",
       "      <td>3</td>\n",
       "    </tr>\n",
       "    <tr>\n",
       "      <th>157</th>\n",
       "      <td>678354126</td>\n",
       "      <td>2</td>\n",
       "    </tr>\n",
       "    <tr>\n",
       "      <th>323</th>\n",
       "      <td>1404560065</td>\n",
       "      <td>2</td>\n",
       "    </tr>\n",
       "    <tr>\n",
       "      <th>452</th>\n",
       "      <td>1985475298</td>\n",
       "      <td>2</td>\n",
       "    </tr>\n",
       "  </tbody>\n",
       "</table>\n",
       "</div>"
      ],
      "text/plain": [
       "         userId  orders\n",
       "908  3967698036       3\n",
       "55    249864742       3\n",
       "478  2108163459       3\n",
       "687  2988190573       3\n",
       "890  3908431265       3\n",
       "138   611059232       3\n",
       "632  2742574263       3\n",
       "157   678354126       2\n",
       "323  1404560065       2\n",
       "452  1985475298       2"
      ]
     },
     "metadata": {},
     "output_type": "display_data"
    }
   ],
   "source": [
    "ordersByUsers = orders.groupby('visitorId', as_index=False).agg({'transactionId':'nunique'})\n",
    "\n",
    "ordersByUsers.columns = ['userId', 'orders']\n",
    "\n",
    "display(ordersByUsers.sort_values(by='orders', ascending=False).head(10))"
   ]
  },
  {
   "cell_type": "code",
   "execution_count": 30,
   "metadata": {},
   "outputs": [
    {
     "data": {
      "image/png": "[encoded data removed]",
      "text/plain": [
       "<Figure size 432x288 with 1 Axes>"
      ]
     },
     "metadata": {
      "needs_background": "light"
     },
     "output_type": "display_data"
    }
   ],
   "source": [
    "x_values = pd.Series(range(0, len(ordersByUsers)))\n",
    "plt.scatter(x_values, ordersByUsers['orders'])\n",
    "plt.title(\"Количество заказов по пользователям\", fontsize=10)\n",
    "plt.xlabel(\"Число пользователей\")\n",
    "plt.ylabel(\"Количество заказов\");"
   ]
  },
  {
   "cell_type": "markdown",
   "metadata": {},
   "source": [
    "По точечной диаграмме видно, что пользователей, которые сделали более 1 заказа не так уж много, вероятно - это выбросы. Убедимся в этом посчитав перцентили."
   ]
  },
  {
   "cell_type": "markdown",
   "metadata": {},
   "source": [
    "###  95-й и 99-й перцентили количества заказов. Выбор границы для определения аномальных заказов\n",
    "<a name='proc'></a>"
   ]
  },
  {
   "cell_type": "code",
   "execution_count": 31,
   "metadata": {},
   "outputs": [
    {
     "name": "stdout",
     "output_type": "stream",
     "text": [
      "[1. 1. 2.]\n"
     ]
    }
   ],
   "source": [
    "percentile_orders = np.percentile(ordersByUsers['orders'], [90, 95, 99])\n",
    "print(np.percentile(ordersByUsers['orders'], [90, 95, 99])) "
   ]
  },
  {
   "cell_type": "markdown",
   "metadata": {},
   "source": [
    "Не больше 5% пользователей совершили более 1 заказа, не болеше 1% пользователей совершали больше 2 заказов. "
   ]
  },
  {
   "cell_type": "markdown",
   "metadata": {},
   "source": [
    "Исходя из полученных данных, границей определения аномальных заказов - выбираем 1 заказ. Если пользователь совершил 2 и более заказа - будем считать выбросом (аномальным заказом). "
   ]
  },
  {
   "cell_type": "markdown",
   "metadata": {},
   "source": [
    "### Точечный график стоимостей заказов, 95-й и 99-й перцентили стоимости заказов\n",
    "<a name='st'></a>"
   ]
  },
  {
   "cell_type": "code",
   "execution_count": 32,
   "metadata": {},
   "outputs": [
    {
     "data": {
      "image/png": "[encoded data removed]",
      "text/plain": [
       "<Figure size 432x288 with 1 Axes>"
      ]
     },
     "metadata": {
      "needs_background": "light"
     },
     "output_type": "display_data"
    }
   ],
   "source": [
    "x_values = pd.Series(range(0, len(orders['revenue'])))\n",
    "plt.title(\"Точечный график стоимостей заказов\", fontsize=12)\n",
    "plt.ylabel(\"Стоимость заказов\", fontsize=10)\n",
    "plt.xlabel(\"Число посетителей\")\n",
    "plt.scatter(x_values, orders['revenue']);"
   ]
  },
  {
   "cell_type": "code",
   "execution_count": 33,
   "metadata": {},
   "outputs": [
    {
     "data": {
      "text/plain": [
       "array([17990., 26785., 53904.])"
      ]
     },
     "execution_count": 33,
     "metadata": {},
     "output_type": "execute_result"
    }
   ],
   "source": [
    "percentile_revenue = np.percentile(orders['revenue'], [90, 95, 99])\n",
    "percentile_revenue"
   ]
  },
  {
   "cell_type": "markdown",
   "metadata": {},
   "source": [
    "Не более 5% пользователей совершили покупок на сумму больше 26 785 рублей. И лишь 1% и меньше сделали покупку на суму 53 904 рубля. "
   ]
  },
  {
   "cell_type": "markdown",
   "metadata": {},
   "source": [
    "### Cтатистическая значимость различий в среднем количестве заказов на посетителя между группами по «сырым» данным\n",
    "<a name='stat'></a>"
   ]
  },
  {
   "cell_type": "markdown",
   "metadata": {},
   "source": [
    "Статистическую значимость различий будем искать с помощью критерия Манна-Уитни, который может быть использован как для нормального распределения, так и для ненормально распределённых данных. Данный тест наиболее показателен и менее чувствителен к выбросам, так как в своей основе учитывает РАНГИ для данных в двух группах, а не их непосредственные значения. "
   ]
  },
  {
   "cell_type": "markdown",
   "metadata": {},
   "source": [
    "Создадим сводную таблицу для дальнейшей работы с данными."
   ]
  },
  {
   "cell_type": "code",
   "execution_count": 34,
   "metadata": {},
   "outputs": [],
   "source": [
    "#Разобъем пользователей на группу А и группу В\n",
    "visitorsADaily = visitors[visitors['group'] == 'A'][['date', 'visitors']]\n",
    "visitorsADaily.columns = ['date', 'visitorsPerDateA']\n",
    "#Посчитаем куммуляцию пользователей группы А\n",
    "visitorsACummulative = visitorsADaily.apply(\n",
    "    lambda x: visitorsADaily[visitorsADaily['date'] <= x['date']].agg(\n",
    "        {'date': 'max', 'visitorsPerDateA': 'sum'}\n",
    "    ),\n",
    "    axis=1,\n",
    ")\n",
    "visitorsACummulative.columns = ['date', 'visitorsCummulativeA']\n",
    "#Проделаем такие же шаги для группы В\n",
    "visitorsBDaily = visitors[visitors['group'] == 'B'][['date', 'visitors']]\n",
    "visitorsBDaily.columns = ['date', 'visitorsPerDateB']\n",
    "#Считаем куммуляцию для группы В\n",
    "visitorsBCummulative = visitorsBDaily.apply(\n",
    "    lambda x: visitorsBDaily[visitorsBDaily['date'] <= x['date']].agg(\n",
    "        {'date': 'max', 'visitorsPerDateB': 'sum'}\n",
    "    ),\n",
    "    axis=1,\n",
    ")\n",
    "visitorsBCummulative.columns = ['date', 'visitorsCummulativeB']\n",
    "#Посчитаем заказы группы А\n",
    "ordersADaily = (\n",
    "    orders[orders['group'] == 'A'][['date', 'transactionId', 'visitorId', 'revenue']]\n",
    "    .groupby('date', as_index=False)\n",
    "    .agg({'transactionId': pd.Series.nunique, 'revenue': 'sum'})\n",
    ")\n",
    "ordersADaily.columns = ['date', 'ordersPerDateA', 'revenuePerDateA']\n",
    "#Посчитаем куммуляцию заказов группы А\n",
    "ordersACummulative = ordersADaily.apply(\n",
    "    lambda x: ordersADaily[ordersADaily['date'] <= x['date']].agg(\n",
    "        {'date': 'max', 'ordersPerDateA': 'sum', 'revenuePerDateA': 'sum'}\n",
    "    ),\n",
    "    axis=1,\n",
    ").sort_values(by=['date'])\n",
    "ordersACummulative.columns = [\n",
    "    'date',\n",
    "    'ordersCummulativeA',\n",
    "    'revenueCummulativeA',\n",
    "]\n",
    "#Проделаем аналогиченые шаги для группы В\n",
    "ordersBDaily = (\n",
    "    orders[orders['group'] == 'B'][['date', 'transactionId', 'visitorId', 'revenue']]\n",
    "    .groupby('date', as_index=False)\n",
    "    .agg({'transactionId': pd.Series.nunique, 'revenue': 'sum'})\n",
    ")\n",
    "ordersBDaily.columns = ['date', 'ordersPerDateB', 'revenuePerDateB']\n",
    "\n",
    "ordersBCummulative = ordersBDaily.apply(\n",
    "    lambda x: ordersBDaily[ordersBDaily['date'] <= x['date']].agg(\n",
    "        {'date': 'max', 'ordersPerDateB': 'sum', 'revenuePerDateB': 'sum'}\n",
    "    ),\n",
    "    axis=1,\n",
    ").sort_values(by=['date'])\n",
    "ordersBCummulative.columns = [\n",
    "    'date',\n",
    "    'ordersCummulativeB',\n",
    "    'revenueCummulativeB',\n",
    "]\n"
   ]
  },
  {
   "cell_type": "code",
   "execution_count": 35,
   "metadata": {},
   "outputs": [],
   "source": [
    "#Создаем сводник\n",
    "data = (\n",
    "    ordersADaily.merge(\n",
    "        ordersBDaily, left_on='date', right_on='date', how='left'\n",
    "    )\n",
    "    .merge(ordersACummulative, left_on='date', right_on='date', how='left')\n",
    "    .merge(ordersBCummulative, left_on='date', right_on='date', how='left')\n",
    "    .merge(visitorsADaily, left_on='date', right_on='date', how='left')\n",
    "    .merge(visitorsBDaily, left_on='date', right_on='date', how='left')\n",
    "    .merge(visitorsACummulative, left_on='date', right_on='date', how='left')\n",
    "    .merge(visitorsBCummulative, left_on='date', right_on='date', how='left')\n",
    ")"
   ]
  },
  {
   "cell_type": "markdown",
   "metadata": {},
   "source": [
    "**Формулируем гипотизу:**\\\n",
    "Н0 - различий между средними у группы А и В нет.\\\n",
    "Н1 - различия есть.\\\n",
    "alpha = 0.05"
   ]
  },
  {
   "cell_type": "code",
   "execution_count": 36,
   "metadata": {},
   "outputs": [
    {
     "name": "stdout",
     "output_type": "stream",
     "text": [
      "Уровень значимости р =  0.01102 для сравнения среднего между группами А и В\n",
      "Относительное различие в среднем между группами =  0.160\n"
     ]
    }
   ],
   "source": [
    "#Считаем заказы группы А\n",
    "ordersByUsersA = (\n",
    "\n",
    "    orders[orders['group'] == 'A']\n",
    "\n",
    "    .groupby('visitorId', as_index=False)\n",
    "\n",
    "    .agg({'transactionId': pd.Series.nunique})\n",
    "\n",
    ")\n",
    "\n",
    "ordersByUsersA.columns = ['userId', 'orders']\n",
    "#Группы В\n",
    "ordersByUsersB = (\n",
    "\n",
    "    orders[orders['group'] == 'B']\n",
    "\n",
    "    .groupby('visitorId', as_index=False)\n",
    "\n",
    "    .agg({'transactionId': pd.Series.nunique})\n",
    "\n",
    ")\n",
    "\n",
    "ordersByUsersB.columns = ['userId', 'orders']\n",
    "#Делаем выборку пользователей по группе А\n",
    "sampleA = pd.concat([ordersByUsersA['orders'],pd.Series(0, index=np.arange(data['visitorsPerDateA'].sum() - len(ordersByUsersA['orders'])), name='orders')],axis=0)\n",
    "\n",
    "\n",
    "#Создаем выборку пользователей по группе В\n",
    "sampleB = pd.concat([ordersByUsersB['orders'],pd.Series(0, index=np.arange(data['visitorsPerDateB'].sum() - len(ordersByUsersB['orders'])), name='orders')],axis=0)\n",
    "\n",
    "print(\"Уровень значимости р = \", \"{0:.5f}\".format(stats.mannwhitneyu(sampleA, sampleB)[1]), 'для сравнения среднего между группами А и В')\n",
    "\n",
    "print(\"Относительное различие в среднем между группами = \", \"{0:.3f}\".format((data['ordersPerDateB'].sum()/data['visitorsPerDateB'].sum())/(data['ordersPerDateA'].sum()/data['visitorsPerDateA'].sum())-1))"
   ]
  },
  {
   "cell_type": "markdown",
   "metadata": {},
   "source": [
    "**Вывод:** Гипотезу Н0-отвергаем (Различий между средними у групп нет) так как р < 0.05 (p-value=0.01). Принимаем Н1 - различия между группами (по среднему количеству заказов) есть. Относительный прирост среднего группы В к конверсии группы А = 16 %."
   ]
  },
  {
   "cell_type": "markdown",
   "metadata": {},
   "source": [
    "### Статистическая значимость различий в среднем чеке заказа между группами по «сырым» данным\n",
    "<a name='avgb'></a>"
   ]
  },
  {
   "cell_type": "code",
   "execution_count": 37,
   "metadata": {},
   "outputs": [
    {
     "name": "stdout",
     "output_type": "stream",
     "text": [
      "Уровень значимости р =  0.829\n",
      "Относительное различие среднего чека между группами =  0.287\n"
     ]
    }
   ],
   "source": [
    "print(\"Уровень значимости р = \",'{0:.3f}'.format(stats.mannwhitneyu(orders[orders['group']=='A']['revenue'], orders[orders['group']=='B']['revenue'])[1]))\n",
    "\n",
    "print(\"Относительное различие среднего чека между группами = \",'{0:.3f}'.format(orders[orders['group']=='B']['revenue'].mean()/orders[orders['group']=='A']['revenue'].mean()-1))"
   ]
  },
  {
   "cell_type": "markdown",
   "metadata": {},
   "source": [
    "Уровень значимости р > 0.05 (p-value = 0.8), следовательно, отвергнуть Н0 нельзя (Различий в среднем чеке нет). Следовательно,относительное различие среднего чека между группами А и В , равное 28.7% не является статистически значимым. \\\n",
    "Переходим к обработке выбросов и очистке \"сырых\" данных. "
   ]
  },
  {
   "cell_type": "markdown",
   "metadata": {},
   "source": [
    "### Статистическая значимость различий в среднем количестве заказов на посетителя между группами по «очищенным» данным\n",
    "<a name='clean'></a>"
   ]
  },
  {
   "cell_type": "markdown",
   "metadata": {},
   "source": [
    "Приступаем к подготовке очищенных от аномалий данных. "
   ]
  },
  {
   "cell_type": "markdown",
   "metadata": {},
   "source": [
    "Напомним, *что 95-й и 99-й перцентили средних чеков равны* **26 785 и 53 904** рублям. *А 95-й и 99-й перцентили числа заказов на одного пользователя равны* **1 и 2** заказа на пользователя. \n",
    "Примем за аномальных пользователей тех, кто совершил **2** заказа и более, или совершил заказ на сумму свыше **27 000** рублей. Так мы уберём 1% пользователей с наибольшим числом заказов и от 1% до 5% заказов с наибольшей стоимостью.\\\n",
    "Удалять нужно именно пользователей — сначала определить аномальные заказы. Затем пользователей, совершивших их, и добавить их в список аномальных.\\\n",
    "            Сделаем срезы пользователей с числом заказов больше 1 — `usersWithManyOrders` и пользователей, совершивших заказы дороже 27 000 — `usersWithExpensiveOrders`. Объединим их в таблице `abnormalUsers`, удалим дубликаты, отсортируем по возрастанию. "
   ]
  },
  {
   "cell_type": "code",
   "execution_count": 38,
   "metadata": {},
   "outputs": [],
   "source": [
    "ordersByUsersA = (\n",
    "    orders[orders['group'] == 'A']\n",
    "    .groupby('visitorId', as_index=False)\n",
    "    .agg({'transactionId': pd.Series.nunique})\n",
    ")\n",
    "\n",
    "\n",
    "ordersByUsersB = (\n",
    "    orders[orders['group'] == 'B']\n",
    "    .groupby('visitorId', as_index=False)\n",
    "    .agg({'transactionId': pd.Series.nunique})\n",
    ")\n"
   ]
  },
  {
   "cell_type": "code",
   "execution_count": 39,
   "metadata": {},
   "outputs": [
    {
     "data": {
      "text/plain": [
       "568     113298937\n",
       "1099    148427295\n",
       "928     204675465\n",
       "33      249864742\n",
       "684     358944393\n",
       "Name: visitorId, dtype: int64"
      ]
     },
     "metadata": {},
     "output_type": "display_data"
    },
    {
     "data": {
      "text/plain": [
       "86"
      ]
     },
     "metadata": {},
     "output_type": "display_data"
    }
   ],
   "source": [
    "usersWithManyOrders = pd.concat(\n",
    "\n",
    "    [\n",
    "\n",
    "        ordersByUsersA[ordersByUsersA['transactionId'] > 1]['visitorId'],\n",
    "\n",
    "        ordersByUsersB[ordersByUsersB['transactionId'] > 1]['visitorId'],\n",
    "\n",
    "    ],\n",
    "\n",
    "    axis=0,\n",
    "\n",
    ")\n",
    "\n",
    "usersWithExpensiveOrders = orders[orders['revenue'] > 27000]['visitorId']\n",
    "\n",
    "abnormalUsers = (\n",
    "\n",
    "    pd.concat([usersWithManyOrders, usersWithExpensiveOrders], axis=0)\n",
    "\n",
    "    .drop_duplicates()\n",
    "\n",
    "    .sort_values()\n",
    "\n",
    ")\n",
    "\n",
    "display(abnormalUsers.head(5))\n",
    "display(abnormalUsers.shape[0])"
   ]
  },
  {
   "cell_type": "markdown",
   "metadata": {},
   "source": [
    "Количество посетителей, которые сделали аномальные заказы (больше 1 заказа на сумму больше 27 000 рублей) равняется 83 людям. Удалим аномальных пользователей. Создадим переменные `sampleAFiltered ` и `sampleBFiltered`, в которых сохраним очищенные данные о заказах — не включая аномальных пользователей. "
   ]
  },
  {
   "cell_type": "markdown",
   "metadata": {},
   "source": [
    "**Формулируем гипотезу:**\\\n",
    "H0 - среднее в группах А и В равно.\\\n",
    "Н1 - среднее не равно.\\\n",
    "alpha = 0.05"
   ]
  },
  {
   "cell_type": "code",
   "execution_count": 40,
   "metadata": {},
   "outputs": [
    {
     "name": "stdout",
     "output_type": "stream",
     "text": [
      "Уровень значимости р для сравнения среднего между очищенными группами =  0.01593\n",
      "Относительный прирост среднего очищенной группы B, 0.174\n"
     ]
    }
   ],
   "source": [
    "sampleAFiltered = pd.concat(\n",
    "\n",
    "    [\n",
    "\n",
    "        ordersByUsersA[\n",
    "\n",
    "            np.logical_not(ordersByUsersA['visitorId'].isin(abnormalUsers))\n",
    "\n",
    "        ]['transactionId'],\n",
    "\n",
    "        pd.Series(\n",
    "\n",
    "            0,\n",
    "\n",
    "            index=np.arange(\n",
    "\n",
    "                data['visitorsPerDateA'].sum() - len(ordersByUsersA['transactionId'])\n",
    "\n",
    "            ),\n",
    "\n",
    "            name='orders',\n",
    "\n",
    "        ),\n",
    "\n",
    "    ],\n",
    "\n",
    "    axis=0,\n",
    "\n",
    ")\n",
    "\n",
    "\n",
    "\n",
    "sampleBFiltered = pd.concat(\n",
    "\n",
    "    [\n",
    "\n",
    "        ordersByUsersB[\n",
    "\n",
    "            np.logical_not(ordersByUsersB['visitorId'].isin(abnormalUsers))\n",
    "\n",
    "        ]['transactionId'],\n",
    "\n",
    "        pd.Series(\n",
    "\n",
    "            0,\n",
    "\n",
    "            index=np.arange(\n",
    "\n",
    "                data['visitorsPerDateB'].sum() - len(ordersByUsersB['transactionId'])\n",
    "\n",
    "            ),\n",
    "\n",
    "            name='transactionId',\n",
    "\n",
    "        ),\n",
    "\n",
    "    ],\n",
    "\n",
    "    axis=0,\n",
    "\n",
    ")\n",
    "\n",
    "\n",
    "\n",
    "\n",
    "\n",
    "print(\"Уровень значимости р для сравнения среднего между очищенными группами = \", '{0:.5f}'.format(stats.mannwhitneyu(sampleAFiltered, sampleBFiltered)[1]))\n",
    "\n",
    "print('Относительный прирост среднего очищенной группы B,', '{0:.3f}'.format(sampleBFiltered.mean()/sampleAFiltered.mean()-1)) "
   ]
  },
  {
   "cell_type": "markdown",
   "metadata": {},
   "source": [
    "**Вывод**: По очищенным данным уровень значимости р < 0.05 (p-value=0.02), следовательно, мы отвергаем Н0 - что среднее в группе равно, и принимаем альтернативную гипотезу Н1, о том, что конверсия в группе В выше, чем в группе А, причём в группе В конверсия выше на 17.4%. Сегмент В значительно лучше сегмента А. "
   ]
  },
  {
   "cell_type": "markdown",
   "metadata": {},
   "source": [
    "### Статистическая значимость различий в среднем чеке заказа между группами по «очищенным» данным\n",
    "<a name='chek'></a>"
   ]
  },
  {
   "cell_type": "code",
   "execution_count": 41,
   "metadata": {},
   "outputs": [
    {
     "name": "stdout",
     "output_type": "stream",
     "text": [
      "p-value для сравнения средних чеков между очищенными группами =  0.727\n",
      "Относительный прирост среднего чека очищенной группы B, -0.034\n"
     ]
    }
   ],
   "source": [
    "print('p-value для сравнения средних чеков между очищенными группами = ',\n",
    "\n",
    "    '{0:.3f}'.format(\n",
    "\n",
    "        stats.mannwhitneyu(\n",
    "\n",
    "            orders[\n",
    "\n",
    "                np.logical_and(\n",
    "\n",
    "                    orders['group'] == 'A',\n",
    "\n",
    "                    np.logical_not(orders['visitorId'].isin(abnormalUsers)),\n",
    "\n",
    "                )\n",
    "\n",
    "            ]['revenue'],\n",
    "\n",
    "            orders[\n",
    "\n",
    "                np.logical_and(\n",
    "\n",
    "                    orders['group'] == 'B',\n",
    "\n",
    "                    np.logical_not(orders['visitorId'].isin(abnormalUsers)),\n",
    "\n",
    "                )\n",
    "\n",
    "            ]['revenue'],\n",
    "\n",
    "        )[1]\n",
    "\n",
    "    )\n",
    "\n",
    ")\n",
    "\n",
    "\n",
    "\n",
    "print('Относительный прирост среднего чека очищенной группы B,',\n",
    "\n",
    "    \"{0:.3f}\".format(\n",
    "\n",
    "        orders[\n",
    "\n",
    "            np.logical_and(\n",
    "\n",
    "                orders['group'] == 'B',\n",
    "\n",
    "                np.logical_not(orders['visitorId'].isin(abnormalUsers)),\n",
    "\n",
    "            )\n",
    "\n",
    "        ]['revenue'].mean()\n",
    "\n",
    "        / orders[\n",
    "\n",
    "            np.logical_and(\n",
    "\n",
    "                orders['group'] == 'A',\n",
    "\n",
    "                np.logical_not(orders['visitorId'].isin(abnormalUsers)),\n",
    "\n",
    "            )\n",
    "\n",
    "        ]['revenue'].mean()\n",
    "\n",
    "        - 1\n",
    "\n",
    "    )\n",
    "\n",
    ")"
   ]
  },
  {
   "cell_type": "markdown",
   "metadata": {},
   "source": [
    "Уровень значимости р > 0,05 (p-value=0.7). Отвергнуть нулевую гипотезу нельзя. Разницы между средними чеками нет. Относительное снижение среднего чека в группе В по сравнению с группой А в 3% не является статистически значимым. "
   ]
  },
  {
   "cell_type": "markdown",
   "metadata": {},
   "source": [
    "### Конечный вывод:\n",
    "<a name='end'></a>"
   ]
  },
  {
   "cell_type": "markdown",
   "metadata": {},
   "source": [
    "Подведём итог:\n",
    "1.  Почти с самого начала теста - конверсия в группе В лучше. Она зафиксировалась около прироста в 10% относительно группы А.\n",
    "2. Различия по конверсии между группами (по среднему количеству заказов) есть. Относительный прирост среднего группы В к конверсии группы А = 16% (p-value=0.01). - сырые данные\n",
    "3. Различий в среднем чеке между А и В - нет. - сырые данные\n",
    "4. Конверсия в группе В выше, чем в группе А, причём в группе В конверсия выше на 17,4% (p-value=0.02). Сегмент В значительно лучше сегмента А. - очищенные данные\n",
    "5. Разницы между средними чеками нет. - очищенные данные.\n",
    "\\\\\\\n",
    "\\\n",
    "Основываясь на вышеописанных показателях, можно говорить о том, что тестирование может быть остановлено. Группа В показывает себя лучше, хотя разницы в средних чеках с группой А - нет, но конверсия в группе В - выше, что тоже важно, так как это - интернет магазин и мы заинтересованы в переходе пользователя из \"смотрящего\" в \"покупающего\". "
   ]
  },
  {
   "cell_type": "markdown",
   "metadata": {},
   "source": [
    "# Итог тестирования:\n",
    "<a name='theend'></a>"
   ]
  },
  {
   "cell_type": "markdown",
   "metadata": {},
   "source": [
    "Перед проведением А/В - тестирования, мы провели исследование двух фреймворков ICE и RICE и входящих в них 8 гипотез.\\\n",
    "Так как фреймворки показали разные лидирующие гипотезы, от одного из них мы отказались (отказались от ICE). Так как исследование проводится для крупного интернет магазина, для которого очень важен охват пользователей, а фреймворк ICE к этому не чувствителен, и , так как лидирующая гипотиза из RICE все равно вошла в тройку лидеров ICE, то основным фреймворком мы решили считать RICE.\\\n",
    "По итогу исследования, лидирующей гипотезой оказалась нижеследующая:\\\n",
    "**Добавить форму подписки на все основные страницы, чтобы собрать базу клиентов для email-рассылок**.\\\n",
    "\n",
    "\n",
    "\n",
    "После чего, мы начали А/В тестирование. \n",
    "В общей сложности, мы проводили его 1 месяц, оказалось, что конверсия пользователей в группе В была на 17,4 % выше (p-value = 0.02), чем в группе А. Хотя разницы в среднем чеке не было (p-value > 0.05). В среднем, конверсия к концу периода изучения стабильно была выше на 10% в группе В. На основании статистических расчётов, визуального изучения графиков - мы приняли решение тестирование - остановить.\\\n",
    "Победителем является группа В.\n",
    "\n",
    "Так же, мы хотим отметить то, что типичным для пользователей является: **совершить 1 покупку на сумму ниже 27 000 рублей**. В 5 % случаев совершается 2 покупки, при этом от 27 000 до 54 000 рублей, в 1% случаев более 2 покупок по цене выше 54 000 рублей. \n",
    "\n",
    "После очистки данных в общей сложности было удалено 175 пользователей. Это были пользователи либо попавшие в 2 группы при тестировании (и в А и в В - 89 человек) либо пользователи, которые совершали аномальные покупки (не типичные для нашей выборки - 86 человек). "
   ]
  }
 ],
 "metadata": {
  "ExecuteTimeLog": [
   {
    "duration": 481,
    "start_time": "2023-07-04T10:24:44.054Z"
   },
   {
    "duration": 928,
    "start_time": "2023-07-04T10:24:56.888Z"
   },
   {
    "duration": 87,
    "start_time": "2023-07-04T10:34:39.033Z"
   },
   {
    "duration": 33,
    "start_time": "2023-07-04T10:35:25.601Z"
   },
   {
    "duration": 40,
    "start_time": "2023-07-04T10:38:35.827Z"
   },
   {
    "duration": 8,
    "start_time": "2023-07-04T10:38:47.379Z"
   },
   {
    "duration": 4,
    "start_time": "2023-07-04T10:41:51.170Z"
   },
   {
    "duration": 3,
    "start_time": "2023-07-04T10:41:53.974Z"
   },
   {
    "duration": 14,
    "start_time": "2023-07-04T10:42:00.476Z"
   },
   {
    "duration": 3,
    "start_time": "2023-07-04T10:42:05.105Z"
   },
   {
    "duration": 93,
    "start_time": "2023-07-04T10:45:23.474Z"
   },
   {
    "duration": 49,
    "start_time": "2023-07-04T10:46:59.972Z"
   },
   {
    "duration": 69,
    "start_time": "2023-07-04T10:47:09.120Z"
   },
   {
    "duration": 33,
    "start_time": "2023-07-04T10:47:19.586Z"
   },
   {
    "duration": 34,
    "start_time": "2023-07-04T10:47:23.718Z"
   },
   {
    "duration": 8,
    "start_time": "2023-07-04T10:49:41.815Z"
   },
   {
    "duration": 12,
    "start_time": "2023-07-04T10:50:07.127Z"
   },
   {
    "duration": 5,
    "start_time": "2023-07-04T10:50:15.567Z"
   },
   {
    "duration": 12,
    "start_time": "2023-07-04T10:50:19.644Z"
   },
   {
    "duration": 7,
    "start_time": "2023-07-04T10:51:36.092Z"
   },
   {
    "duration": 33,
    "start_time": "2023-07-04T10:52:37.304Z"
   },
   {
    "duration": 33,
    "start_time": "2023-07-04T10:52:42.317Z"
   },
   {
    "duration": 32,
    "start_time": "2023-07-04T10:52:46.901Z"
   },
   {
    "duration": 33,
    "start_time": "2023-07-04T10:53:16.166Z"
   },
   {
    "duration": 33,
    "start_time": "2023-07-04T10:53:40.399Z"
   },
   {
    "duration": 32,
    "start_time": "2023-07-04T10:53:50.825Z"
   },
   {
    "duration": 1872,
    "start_time": "2023-07-04T10:58:32.044Z"
   },
   {
    "duration": 5,
    "start_time": "2023-07-04T10:59:06.294Z"
   },
   {
    "duration": 3,
    "start_time": "2023-07-04T10:59:21.658Z"
   },
   {
    "duration": 63,
    "start_time": "2023-07-04T10:59:23.330Z"
   },
   {
    "duration": 46,
    "start_time": "2023-07-04T10:59:26.994Z"
   },
   {
    "duration": 13,
    "start_time": "2023-07-04T10:59:30.438Z"
   },
   {
    "duration": 9,
    "start_time": "2023-07-04T11:00:54.696Z"
   },
   {
    "duration": 10,
    "start_time": "2023-07-04T11:01:01.221Z"
   },
   {
    "duration": 1147,
    "start_time": "2023-07-04T11:01:15.060Z"
   },
   {
    "duration": 40,
    "start_time": "2023-07-04T11:01:16.208Z"
   },
   {
    "duration": 4,
    "start_time": "2023-07-04T11:01:16.249Z"
   },
   {
    "duration": 67,
    "start_time": "2023-07-04T11:01:16.255Z"
   },
   {
    "duration": 26,
    "start_time": "2023-07-04T11:01:16.324Z"
   },
   {
    "duration": 9,
    "start_time": "2023-07-04T11:01:16.352Z"
   },
   {
    "duration": 36,
    "start_time": "2023-07-04T11:01:16.362Z"
   },
   {
    "duration": 21,
    "start_time": "2023-07-04T11:01:16.399Z"
   },
   {
    "duration": 14,
    "start_time": "2023-07-04T11:01:16.422Z"
   },
   {
    "duration": 2136,
    "start_time": "2023-07-04T11:01:16.438Z"
   },
   {
    "duration": 4,
    "start_time": "2023-07-04T11:02:30.599Z"
   },
   {
    "duration": 57,
    "start_time": "2023-07-04T11:02:32.122Z"
   },
   {
    "duration": 22,
    "start_time": "2023-07-04T11:02:32.615Z"
   },
   {
    "duration": 4,
    "start_time": "2023-07-04T11:02:36.098Z"
   },
   {
    "duration": 11,
    "start_time": "2023-07-04T11:02:36.753Z"
   },
   {
    "duration": 9,
    "start_time": "2023-07-04T11:02:39.336Z"
   },
   {
    "duration": 11,
    "start_time": "2023-07-04T11:02:49.728Z"
   },
   {
    "duration": 10,
    "start_time": "2023-07-04T11:13:43.907Z"
   },
   {
    "duration": 12,
    "start_time": "2023-07-04T11:13:50.026Z"
   },
   {
    "duration": 63,
    "start_time": "2023-07-04T11:19:46.372Z"
   },
   {
    "duration": 74,
    "start_time": "2023-07-04T11:19:53.151Z"
   },
   {
    "duration": 3,
    "start_time": "2023-07-04T11:20:20.003Z"
   },
   {
    "duration": 9,
    "start_time": "2023-07-04T11:20:27.654Z"
   },
   {
    "duration": 40,
    "start_time": "2023-07-04T11:20:42.607Z"
   },
   {
    "duration": 4,
    "start_time": "2023-07-04T11:21:22.108Z"
   },
   {
    "duration": 9,
    "start_time": "2023-07-04T12:20:15.410Z"
   },
   {
    "duration": 8,
    "start_time": "2023-07-04T12:20:24.416Z"
   },
   {
    "duration": 12,
    "start_time": "2023-07-04T12:20:43.303Z"
   },
   {
    "duration": 6,
    "start_time": "2023-07-04T12:21:37.999Z"
   },
   {
    "duration": 12,
    "start_time": "2023-07-04T12:21:46.009Z"
   },
   {
    "duration": 20,
    "start_time": "2023-07-04T12:21:55.052Z"
   },
   {
    "duration": 23,
    "start_time": "2023-07-04T12:21:55.075Z"
   },
   {
    "duration": 6,
    "start_time": "2023-07-04T12:21:57.814Z"
   },
   {
    "duration": 9,
    "start_time": "2023-07-04T12:22:09.515Z"
   },
   {
    "duration": 469,
    "start_time": "2023-07-04T12:22:43.398Z"
   },
   {
    "duration": 1151,
    "start_time": "2023-07-04T12:23:02.425Z"
   },
   {
    "duration": 40,
    "start_time": "2023-07-04T12:23:03.578Z"
   },
   {
    "duration": 4,
    "start_time": "2023-07-04T12:23:03.620Z"
   },
   {
    "duration": 92,
    "start_time": "2023-07-04T12:23:03.625Z"
   },
   {
    "duration": 5,
    "start_time": "2023-07-04T12:23:03.720Z"
   },
   {
    "duration": 50,
    "start_time": "2023-07-04T12:23:03.726Z"
   },
   {
    "duration": 4,
    "start_time": "2023-07-04T12:23:03.778Z"
   },
   {
    "duration": 12,
    "start_time": "2023-07-04T12:23:03.783Z"
   },
   {
    "duration": 28,
    "start_time": "2023-07-04T12:23:03.797Z"
   },
   {
    "duration": 13,
    "start_time": "2023-07-04T12:23:03.827Z"
   },
   {
    "duration": 7,
    "start_time": "2023-07-04T12:23:03.842Z"
   },
   {
    "duration": 26,
    "start_time": "2023-07-04T12:23:03.851Z"
   },
   {
    "duration": 17,
    "start_time": "2023-07-04T12:23:03.879Z"
   },
   {
    "duration": 12,
    "start_time": "2023-07-04T12:23:03.899Z"
   },
   {
    "duration": 571,
    "start_time": "2023-07-04T12:23:03.913Z"
   },
   {
    "duration": 0,
    "start_time": "2023-07-04T12:23:04.487Z"
   },
   {
    "duration": 0,
    "start_time": "2023-07-04T12:23:04.488Z"
   },
   {
    "duration": 7,
    "start_time": "2023-07-04T12:23:34.320Z"
   },
   {
    "duration": 8,
    "start_time": "2023-07-04T12:23:40.620Z"
   },
   {
    "duration": 35,
    "start_time": "2023-07-04T12:25:25.965Z"
   },
   {
    "duration": 319,
    "start_time": "2023-07-04T12:28:01.926Z"
   },
   {
    "duration": 298,
    "start_time": "2023-07-04T12:28:07.922Z"
   },
   {
    "duration": 351,
    "start_time": "2023-07-04T12:38:18.739Z"
   },
   {
    "duration": 175,
    "start_time": "2023-07-04T12:38:22.273Z"
   },
   {
    "duration": 306,
    "start_time": "2023-07-04T12:38:53.407Z"
   },
   {
    "duration": 199,
    "start_time": "2023-07-04T12:39:01.231Z"
   },
   {
    "duration": 240,
    "start_time": "2023-07-04T12:39:19.424Z"
   },
   {
    "duration": 243,
    "start_time": "2023-07-04T12:39:59.048Z"
   },
   {
    "duration": 247,
    "start_time": "2023-07-04T12:40:08.135Z"
   },
   {
    "duration": 260,
    "start_time": "2023-07-04T12:40:20.229Z"
   },
   {
    "duration": 368,
    "start_time": "2023-07-04T12:40:26.758Z"
   },
   {
    "duration": 269,
    "start_time": "2023-07-04T12:40:32.727Z"
   },
   {
    "duration": 268,
    "start_time": "2023-07-04T12:40:37.736Z"
   },
   {
    "duration": 500,
    "start_time": "2023-07-04T12:44:22.115Z"
   },
   {
    "duration": 484,
    "start_time": "2023-07-04T12:44:24.610Z"
   },
   {
    "duration": 146,
    "start_time": "2023-07-04T12:44:42.826Z"
   },
   {
    "duration": 163,
    "start_time": "2023-07-04T12:45:07.626Z"
   },
   {
    "duration": 290,
    "start_time": "2023-07-04T12:45:36.402Z"
   },
   {
    "duration": 255,
    "start_time": "2023-07-04T12:45:40.240Z"
   },
   {
    "duration": 249,
    "start_time": "2023-07-04T12:45:45.222Z"
   },
   {
    "duration": 197,
    "start_time": "2023-07-04T12:45:50.229Z"
   },
   {
    "duration": 212,
    "start_time": "2023-07-04T12:46:11.543Z"
   },
   {
    "duration": 142,
    "start_time": "2023-07-04T12:46:19.837Z"
   },
   {
    "duration": 285,
    "start_time": "2023-07-04T12:48:38.107Z"
   },
   {
    "duration": 299,
    "start_time": "2023-07-04T12:51:52.620Z"
   },
   {
    "duration": 278,
    "start_time": "2023-07-04T12:54:58.519Z"
   },
   {
    "duration": 126,
    "start_time": "2023-07-04T12:55:03.513Z"
   },
   {
    "duration": 172,
    "start_time": "2023-07-04T12:55:06.810Z"
   },
   {
    "duration": 199,
    "start_time": "2023-07-04T12:55:20.025Z"
   },
   {
    "duration": 242,
    "start_time": "2023-07-04T12:55:59.638Z"
   },
   {
    "duration": 163,
    "start_time": "2023-07-04T13:02:59.257Z"
   },
   {
    "duration": 180,
    "start_time": "2023-07-04T13:03:16.228Z"
   },
   {
    "duration": 306,
    "start_time": "2023-07-04T13:03:27.219Z"
   },
   {
    "duration": 306,
    "start_time": "2023-07-04T13:03:32.129Z"
   },
   {
    "duration": 344,
    "start_time": "2023-07-04T13:04:11.529Z"
   },
   {
    "duration": 326,
    "start_time": "2023-07-04T13:04:41.209Z"
   },
   {
    "duration": 301,
    "start_time": "2023-07-04T13:04:55.301Z"
   },
   {
    "duration": 322,
    "start_time": "2023-07-04T13:05:07.914Z"
   },
   {
    "duration": 197,
    "start_time": "2023-07-04T13:09:56.846Z"
   },
   {
    "duration": 322,
    "start_time": "2023-07-04T13:10:00.205Z"
   },
   {
    "duration": 231,
    "start_time": "2023-07-04T13:10:50.251Z"
   },
   {
    "duration": 271,
    "start_time": "2023-07-04T13:11:16.510Z"
   },
   {
    "duration": 263,
    "start_time": "2023-07-04T13:12:51.814Z"
   },
   {
    "duration": 278,
    "start_time": "2023-07-04T13:12:58.704Z"
   },
   {
    "duration": 16,
    "start_time": "2023-07-04T13:26:38.917Z"
   },
   {
    "duration": 11,
    "start_time": "2023-07-04T13:27:24.170Z"
   },
   {
    "duration": 1362,
    "start_time": "2023-07-05T06:39:08.204Z"
   },
   {
    "duration": 82,
    "start_time": "2023-07-05T06:39:09.570Z"
   },
   {
    "duration": 5,
    "start_time": "2023-07-05T06:39:09.654Z"
   },
   {
    "duration": 151,
    "start_time": "2023-07-05T06:39:09.662Z"
   },
   {
    "duration": 5,
    "start_time": "2023-07-05T06:39:09.815Z"
   },
   {
    "duration": 95,
    "start_time": "2023-07-05T06:39:09.822Z"
   },
   {
    "duration": 4,
    "start_time": "2023-07-05T06:39:09.919Z"
   },
   {
    "duration": 69,
    "start_time": "2023-07-05T06:39:09.924Z"
   },
   {
    "duration": 27,
    "start_time": "2023-07-05T06:39:09.995Z"
   },
   {
    "duration": 27,
    "start_time": "2023-07-05T06:39:10.025Z"
   },
   {
    "duration": 50,
    "start_time": "2023-07-05T06:39:10.054Z"
   },
   {
    "duration": 71,
    "start_time": "2023-07-05T06:39:10.106Z"
   },
   {
    "duration": 32,
    "start_time": "2023-07-05T06:39:10.179Z"
   },
   {
    "duration": 21,
    "start_time": "2023-07-05T06:39:10.213Z"
   },
   {
    "duration": 328,
    "start_time": "2023-07-05T06:39:10.236Z"
   },
   {
    "duration": 396,
    "start_time": "2023-07-05T06:39:10.566Z"
   },
   {
    "duration": 167,
    "start_time": "2023-07-05T06:39:10.965Z"
   },
   {
    "duration": 189,
    "start_time": "2023-07-05T06:39:11.133Z"
   },
   {
    "duration": 277,
    "start_time": "2023-07-05T06:39:11.324Z"
   },
   {
    "duration": 422,
    "start_time": "2023-07-05T06:39:11.603Z"
   },
   {
    "duration": 3,
    "start_time": "2023-07-05T06:48:09.093Z"
   },
   {
    "duration": 4,
    "start_time": "2023-07-05T06:48:24.833Z"
   },
   {
    "duration": 6,
    "start_time": "2023-07-05T06:48:58.353Z"
   },
   {
    "duration": 1766,
    "start_time": "2023-07-05T06:49:13.244Z"
   },
   {
    "duration": 5,
    "start_time": "2023-07-05T06:49:40.304Z"
   },
   {
    "duration": 169,
    "start_time": "2023-07-05T06:50:02.109Z"
   },
   {
    "duration": 235,
    "start_time": "2023-07-05T06:50:42.407Z"
   },
   {
    "duration": 176,
    "start_time": "2023-07-05T06:50:48.747Z"
   },
   {
    "duration": 6,
    "start_time": "2023-07-05T06:52:33.794Z"
   },
   {
    "duration": 1479,
    "start_time": "2023-07-05T06:55:55.495Z"
   },
   {
    "duration": 266,
    "start_time": "2023-07-05T06:58:19.515Z"
   },
   {
    "duration": 82,
    "start_time": "2023-07-05T06:59:40.707Z"
   },
   {
    "duration": 7,
    "start_time": "2023-07-05T07:00:08.559Z"
   },
   {
    "duration": 224,
    "start_time": "2023-07-05T07:00:32.629Z"
   },
   {
    "duration": 182,
    "start_time": "2023-07-05T07:01:08.006Z"
   },
   {
    "duration": 185,
    "start_time": "2023-07-05T07:01:33.850Z"
   },
   {
    "duration": 24,
    "start_time": "2023-07-05T07:02:22.612Z"
   },
   {
    "duration": 7,
    "start_time": "2023-07-05T07:02:35.316Z"
   },
   {
    "duration": 1314,
    "start_time": "2023-07-05T07:06:03.015Z"
   },
   {
    "duration": 170,
    "start_time": "2023-07-05T07:06:30.210Z"
   },
   {
    "duration": 177,
    "start_time": "2023-07-05T07:08:53.005Z"
   },
   {
    "duration": 4,
    "start_time": "2023-07-05T07:09:09.303Z"
   },
   {
    "duration": 1291,
    "start_time": "2023-07-05T07:09:16.491Z"
   },
   {
    "duration": 38,
    "start_time": "2023-07-05T07:09:17.785Z"
   },
   {
    "duration": 4,
    "start_time": "2023-07-05T07:09:17.825Z"
   },
   {
    "duration": 81,
    "start_time": "2023-07-05T07:09:17.831Z"
   },
   {
    "duration": 6,
    "start_time": "2023-07-05T07:09:17.914Z"
   },
   {
    "duration": 42,
    "start_time": "2023-07-05T07:09:17.921Z"
   },
   {
    "duration": 4,
    "start_time": "2023-07-05T07:09:17.965Z"
   },
   {
    "duration": 27,
    "start_time": "2023-07-05T07:09:17.971Z"
   },
   {
    "duration": 53,
    "start_time": "2023-07-05T07:09:18.000Z"
   },
   {
    "duration": 16,
    "start_time": "2023-07-05T07:09:18.056Z"
   },
   {
    "duration": 22,
    "start_time": "2023-07-05T07:09:18.074Z"
   },
   {
    "duration": 26,
    "start_time": "2023-07-05T07:09:18.099Z"
   },
   {
    "duration": 12,
    "start_time": "2023-07-05T07:09:18.127Z"
   },
   {
    "duration": 38,
    "start_time": "2023-07-05T07:09:18.142Z"
   },
   {
    "duration": 319,
    "start_time": "2023-07-05T07:09:18.182Z"
   },
   {
    "duration": 383,
    "start_time": "2023-07-05T07:09:18.503Z"
   },
   {
    "duration": 143,
    "start_time": "2023-07-05T07:09:18.888Z"
   },
   {
    "duration": 172,
    "start_time": "2023-07-05T07:09:19.033Z"
   },
   {
    "duration": 262,
    "start_time": "2023-07-05T07:09:19.207Z"
   },
   {
    "duration": 352,
    "start_time": "2023-07-05T07:09:19.471Z"
   },
   {
    "duration": 7,
    "start_time": "2023-07-05T07:09:19.825Z"
   },
   {
    "duration": 349,
    "start_time": "2023-07-05T07:09:19.833Z"
   },
   {
    "duration": 106,
    "start_time": "2023-07-05T07:09:41.011Z"
   },
   {
    "duration": 197,
    "start_time": "2023-07-05T07:09:53.760Z"
   },
   {
    "duration": 212,
    "start_time": "2023-07-05T07:10:57.709Z"
   },
   {
    "duration": 287,
    "start_time": "2023-07-05T07:11:40.908Z"
   },
   {
    "duration": 218,
    "start_time": "2023-07-05T07:11:55.715Z"
   },
   {
    "duration": 240,
    "start_time": "2023-07-05T07:12:00.908Z"
   },
   {
    "duration": 205,
    "start_time": "2023-07-05T07:12:15.213Z"
   },
   {
    "duration": 198,
    "start_time": "2023-07-05T07:13:24.602Z"
   },
   {
    "duration": 197,
    "start_time": "2023-07-05T07:13:33.954Z"
   },
   {
    "duration": 200,
    "start_time": "2023-07-05T07:14:24.311Z"
   },
   {
    "duration": 206,
    "start_time": "2023-07-05T07:14:30.447Z"
   },
   {
    "duration": 179,
    "start_time": "2023-07-05T07:15:47.210Z"
   },
   {
    "duration": 192,
    "start_time": "2023-07-05T07:16:28.033Z"
   },
   {
    "duration": 184,
    "start_time": "2023-07-05T07:16:40.808Z"
   },
   {
    "duration": 128,
    "start_time": "2023-07-05T07:21:38.383Z"
   },
   {
    "duration": 29,
    "start_time": "2023-07-05T07:22:08.431Z"
   },
   {
    "duration": 207,
    "start_time": "2023-07-05T07:22:59.386Z"
   },
   {
    "duration": 194,
    "start_time": "2023-07-05T07:23:15.877Z"
   },
   {
    "duration": 209,
    "start_time": "2023-07-05T07:23:28.794Z"
   },
   {
    "duration": 253,
    "start_time": "2023-07-05T07:23:39.945Z"
   },
   {
    "duration": 242,
    "start_time": "2023-07-05T07:23:42.826Z"
   },
   {
    "duration": 254,
    "start_time": "2023-07-05T07:24:23.741Z"
   },
   {
    "duration": 256,
    "start_time": "2023-07-05T07:25:11.584Z"
   },
   {
    "duration": 16,
    "start_time": "2023-07-05T07:31:13.601Z"
   },
   {
    "duration": 363,
    "start_time": "2023-07-05T07:31:30.694Z"
   },
   {
    "duration": 340,
    "start_time": "2023-07-05T07:32:19.274Z"
   },
   {
    "duration": 329,
    "start_time": "2023-07-05T07:32:23.259Z"
   },
   {
    "duration": 310,
    "start_time": "2023-07-05T07:32:25.787Z"
   },
   {
    "duration": 426,
    "start_time": "2023-07-05T07:32:57.285Z"
   },
   {
    "duration": 332,
    "start_time": "2023-07-05T07:33:43.810Z"
   },
   {
    "duration": 22,
    "start_time": "2023-07-05T07:40:22.661Z"
   },
   {
    "duration": 10,
    "start_time": "2023-07-05T07:40:52.998Z"
   },
   {
    "duration": 11,
    "start_time": "2023-07-05T07:41:00.744Z"
   },
   {
    "duration": 121,
    "start_time": "2023-07-05T07:42:28.635Z"
   },
   {
    "duration": 334,
    "start_time": "2023-07-05T07:42:31.080Z"
   },
   {
    "duration": 125,
    "start_time": "2023-07-05T07:42:35.014Z"
   },
   {
    "duration": 163,
    "start_time": "2023-07-05T07:44:43.835Z"
   },
   {
    "duration": 156,
    "start_time": "2023-07-05T07:44:48.209Z"
   },
   {
    "duration": 6,
    "start_time": "2023-07-05T07:47:26.235Z"
   },
   {
    "duration": 163,
    "start_time": "2023-07-05T07:53:01.667Z"
   },
   {
    "duration": 180,
    "start_time": "2023-07-05T07:53:42.644Z"
   },
   {
    "duration": 9,
    "start_time": "2023-07-05T07:54:05.563Z"
   },
   {
    "duration": 9,
    "start_time": "2023-07-05T07:54:30.249Z"
   },
   {
    "duration": 18,
    "start_time": "2023-07-05T08:04:53.377Z"
   },
   {
    "duration": 20,
    "start_time": "2023-07-05T08:05:50.517Z"
   },
   {
    "duration": 18,
    "start_time": "2023-07-05T08:06:04.394Z"
   },
   {
    "duration": 18,
    "start_time": "2023-07-05T08:06:32.023Z"
   },
   {
    "duration": 15,
    "start_time": "2023-07-05T08:07:22.828Z"
   },
   {
    "duration": 7,
    "start_time": "2023-07-05T08:07:41.193Z"
   },
   {
    "duration": 8,
    "start_time": "2023-07-05T08:08:36.932Z"
   },
   {
    "duration": 25,
    "start_time": "2023-07-05T08:09:45.049Z"
   },
   {
    "duration": 211,
    "start_time": "2023-07-05T08:10:24.361Z"
   },
   {
    "duration": 15,
    "start_time": "2023-07-05T08:11:46.472Z"
   },
   {
    "duration": 140,
    "start_time": "2023-07-05T08:14:59.462Z"
   },
   {
    "duration": 166,
    "start_time": "2023-07-05T08:15:59.720Z"
   },
   {
    "duration": 331,
    "start_time": "2023-07-05T08:16:35.363Z"
   },
   {
    "duration": 35,
    "start_time": "2023-07-05T08:16:41.677Z"
   },
   {
    "duration": 196,
    "start_time": "2023-07-05T08:16:44.774Z"
   },
   {
    "duration": 4,
    "start_time": "2023-07-05T08:17:11.169Z"
   },
   {
    "duration": 1711,
    "start_time": "2023-07-05T08:17:17.796Z"
   },
   {
    "duration": 57,
    "start_time": "2023-07-05T08:17:19.509Z"
   },
   {
    "duration": 10,
    "start_time": "2023-07-05T08:17:19.571Z"
   },
   {
    "duration": 119,
    "start_time": "2023-07-05T08:17:19.584Z"
   },
   {
    "duration": 8,
    "start_time": "2023-07-05T08:17:19.708Z"
   },
   {
    "duration": 83,
    "start_time": "2023-07-05T08:17:19.719Z"
   },
   {
    "duration": 19,
    "start_time": "2023-07-05T08:17:19.805Z"
   },
   {
    "duration": 23,
    "start_time": "2023-07-05T08:17:19.826Z"
   },
   {
    "duration": 60,
    "start_time": "2023-07-05T08:17:19.851Z"
   },
   {
    "duration": 27,
    "start_time": "2023-07-05T08:17:19.916Z"
   },
   {
    "duration": 59,
    "start_time": "2023-07-05T08:17:19.945Z"
   },
   {
    "duration": 49,
    "start_time": "2023-07-05T08:17:20.006Z"
   },
   {
    "duration": 59,
    "start_time": "2023-07-05T08:17:20.057Z"
   },
   {
    "duration": 31,
    "start_time": "2023-07-05T08:17:20.118Z"
   },
   {
    "duration": 513,
    "start_time": "2023-07-05T08:17:20.151Z"
   },
   {
    "duration": 546,
    "start_time": "2023-07-05T08:17:20.666Z"
   },
   {
    "duration": 270,
    "start_time": "2023-07-05T08:17:21.215Z"
   },
   {
    "duration": 306,
    "start_time": "2023-07-05T08:17:21.488Z"
   },
   {
    "duration": 417,
    "start_time": "2023-07-05T08:17:21.798Z"
   },
   {
    "duration": 492,
    "start_time": "2023-07-05T08:17:22.217Z"
   },
   {
    "duration": 402,
    "start_time": "2023-07-05T08:17:22.712Z"
   },
   {
    "duration": 468,
    "start_time": "2023-07-05T08:17:23.116Z"
   },
   {
    "duration": 17,
    "start_time": "2023-07-05T08:17:23.586Z"
   },
   {
    "duration": 236,
    "start_time": "2023-07-05T08:17:23.606Z"
   },
   {
    "duration": 14,
    "start_time": "2023-07-05T08:17:23.845Z"
   },
   {
    "duration": 375,
    "start_time": "2023-07-05T08:17:23.862Z"
   },
   {
    "duration": 15,
    "start_time": "2023-07-05T08:17:24.240Z"
   },
   {
    "duration": 252,
    "start_time": "2023-07-05T08:17:24.259Z"
   },
   {
    "duration": 42,
    "start_time": "2023-07-05T08:17:24.513Z"
   },
   {
    "duration": 228,
    "start_time": "2023-07-05T08:17:24.558Z"
   },
   {
    "duration": 155,
    "start_time": "2023-07-05T08:41:59.173Z"
   },
   {
    "duration": 231,
    "start_time": "2023-07-05T08:43:03.250Z"
   },
   {
    "duration": 182,
    "start_time": "2023-07-05T08:43:27.740Z"
   },
   {
    "duration": 191,
    "start_time": "2023-07-05T08:43:35.797Z"
   },
   {
    "duration": 12,
    "start_time": "2023-07-05T08:49:13.149Z"
   },
   {
    "duration": 13,
    "start_time": "2023-07-05T08:49:45.173Z"
   },
   {
    "duration": 12,
    "start_time": "2023-07-05T08:50:08.544Z"
   },
   {
    "duration": 2571,
    "start_time": "2023-07-05T09:01:33.336Z"
   },
   {
    "duration": 3822,
    "start_time": "2023-07-05T09:02:03.275Z"
   },
   {
    "duration": 136,
    "start_time": "2023-07-05T09:02:30.719Z"
   },
   {
    "duration": 124,
    "start_time": "2023-07-05T09:02:33.240Z"
   },
   {
    "duration": 2358,
    "start_time": "2023-07-05T09:02:51.917Z"
   },
   {
    "duration": 207,
    "start_time": "2023-07-05T09:03:55.729Z"
   },
   {
    "duration": 177,
    "start_time": "2023-07-05T09:04:12.310Z"
   },
   {
    "duration": 5080,
    "start_time": "2023-07-05T09:04:51.131Z"
   },
   {
    "duration": 10,
    "start_time": "2023-07-05T09:06:11.463Z"
   },
   {
    "duration": 12,
    "start_time": "2023-07-05T09:07:12.903Z"
   },
   {
    "duration": 6,
    "start_time": "2023-07-05T09:08:56.384Z"
   },
   {
    "duration": 1458,
    "start_time": "2023-07-05T09:09:03.276Z"
   },
   {
    "duration": 1772,
    "start_time": "2023-07-05T09:10:49.025Z"
   },
   {
    "duration": 12,
    "start_time": "2023-07-05T09:11:19.570Z"
   },
   {
    "duration": 174,
    "start_time": "2023-07-05T09:14:10.450Z"
   },
   {
    "duration": 216,
    "start_time": "2023-07-05T09:14:52.494Z"
   },
   {
    "duration": 10,
    "start_time": "2023-07-05T09:15:25.652Z"
   },
   {
    "duration": 1576,
    "start_time": "2023-07-05T10:57:40.429Z"
   },
   {
    "duration": 88,
    "start_time": "2023-07-05T10:57:42.007Z"
   },
   {
    "duration": 4,
    "start_time": "2023-07-05T10:57:42.096Z"
   },
   {
    "duration": 138,
    "start_time": "2023-07-05T10:57:42.102Z"
   },
   {
    "duration": 6,
    "start_time": "2023-07-05T10:57:42.242Z"
   },
   {
    "duration": 130,
    "start_time": "2023-07-05T10:57:42.253Z"
   },
   {
    "duration": 4,
    "start_time": "2023-07-05T10:57:42.385Z"
   },
   {
    "duration": 30,
    "start_time": "2023-07-05T10:57:42.392Z"
   },
   {
    "duration": 64,
    "start_time": "2023-07-05T10:57:42.424Z"
   },
   {
    "duration": 34,
    "start_time": "2023-07-05T10:57:42.491Z"
   },
   {
    "duration": 57,
    "start_time": "2023-07-05T10:57:42.527Z"
   },
   {
    "duration": 57,
    "start_time": "2023-07-05T10:57:42.586Z"
   },
   {
    "duration": 73,
    "start_time": "2023-07-05T10:57:42.645Z"
   },
   {
    "duration": 64,
    "start_time": "2023-07-05T10:57:42.720Z"
   },
   {
    "duration": 366,
    "start_time": "2023-07-05T10:57:42.786Z"
   },
   {
    "duration": 367,
    "start_time": "2023-07-05T10:57:43.154Z"
   },
   {
    "duration": 179,
    "start_time": "2023-07-05T10:57:43.533Z"
   },
   {
    "duration": 178,
    "start_time": "2023-07-05T10:57:43.714Z"
   },
   {
    "duration": 347,
    "start_time": "2023-07-05T10:57:43.894Z"
   },
   {
    "duration": 452,
    "start_time": "2023-07-05T10:57:44.243Z"
   },
   {
    "duration": 276,
    "start_time": "2023-07-05T10:57:44.705Z"
   },
   {
    "duration": 424,
    "start_time": "2023-07-05T10:57:44.986Z"
   },
   {
    "duration": 20,
    "start_time": "2023-07-05T10:57:45.412Z"
   },
   {
    "duration": 175,
    "start_time": "2023-07-05T10:57:45.435Z"
   },
   {
    "duration": 5,
    "start_time": "2023-07-05T10:57:45.612Z"
   },
   {
    "duration": 329,
    "start_time": "2023-07-05T10:57:45.618Z"
   },
   {
    "duration": 7,
    "start_time": "2023-07-05T10:57:45.949Z"
   },
   {
    "duration": 311,
    "start_time": "2023-07-05T10:57:45.960Z"
   },
   {
    "duration": 27,
    "start_time": "2023-07-05T10:57:46.273Z"
   },
   {
    "duration": 186,
    "start_time": "2023-07-05T10:57:46.302Z"
   },
   {
    "duration": 12,
    "start_time": "2023-07-05T10:57:46.490Z"
   },
   {
    "duration": 165,
    "start_time": "2023-07-05T10:57:46.504Z"
   },
   {
    "duration": 13,
    "start_time": "2023-07-05T10:57:46.671Z"
   },
   {
    "duration": 14,
    "start_time": "2023-07-05T11:00:47.355Z"
   },
   {
    "duration": 1616,
    "start_time": "2023-07-05T11:04:57.349Z"
   },
   {
    "duration": 1494,
    "start_time": "2023-07-05T11:06:07.315Z"
   },
   {
    "duration": 37,
    "start_time": "2023-07-05T11:06:23.311Z"
   },
   {
    "duration": 27,
    "start_time": "2023-07-05T11:06:59.186Z"
   },
   {
    "duration": 26,
    "start_time": "2023-07-05T11:07:33.296Z"
   },
   {
    "duration": 13,
    "start_time": "2023-07-05T11:14:07.806Z"
   },
   {
    "duration": 18,
    "start_time": "2023-07-05T11:14:47.252Z"
   },
   {
    "duration": 15,
    "start_time": "2023-07-05T11:15:19.162Z"
   },
   {
    "duration": 1349,
    "start_time": "2023-07-05T11:53:06.287Z"
   },
   {
    "duration": 79,
    "start_time": "2023-07-05T11:53:07.638Z"
   },
   {
    "duration": 3,
    "start_time": "2023-07-05T11:53:07.719Z"
   },
   {
    "duration": 97,
    "start_time": "2023-07-05T11:53:07.724Z"
   },
   {
    "duration": 5,
    "start_time": "2023-07-05T11:53:07.822Z"
   },
   {
    "duration": 90,
    "start_time": "2023-07-05T11:53:07.829Z"
   },
   {
    "duration": 4,
    "start_time": "2023-07-05T11:53:07.920Z"
   },
   {
    "duration": 51,
    "start_time": "2023-07-05T11:53:07.926Z"
   },
   {
    "duration": 46,
    "start_time": "2023-07-05T11:53:07.979Z"
   },
   {
    "duration": 19,
    "start_time": "2023-07-05T11:53:08.029Z"
   },
   {
    "duration": 38,
    "start_time": "2023-07-05T11:53:08.050Z"
   },
   {
    "duration": 34,
    "start_time": "2023-07-05T11:53:08.090Z"
   },
   {
    "duration": 13,
    "start_time": "2023-07-05T11:53:08.126Z"
   },
   {
    "duration": 21,
    "start_time": "2023-07-05T11:53:08.141Z"
   },
   {
    "duration": 301,
    "start_time": "2023-07-05T11:53:08.164Z"
   },
   {
    "duration": 335,
    "start_time": "2023-07-05T11:53:08.467Z"
   },
   {
    "duration": 151,
    "start_time": "2023-07-05T11:53:08.804Z"
   },
   {
    "duration": 173,
    "start_time": "2023-07-05T11:53:08.957Z"
   },
   {
    "duration": 271,
    "start_time": "2023-07-05T11:53:09.131Z"
   },
   {
    "duration": 343,
    "start_time": "2023-07-05T11:53:09.403Z"
   },
   {
    "duration": 249,
    "start_time": "2023-07-05T11:53:09.748Z"
   },
   {
    "duration": 295,
    "start_time": "2023-07-05T11:53:09.999Z"
   },
   {
    "duration": 12,
    "start_time": "2023-07-05T11:53:10.296Z"
   },
   {
    "duration": 141,
    "start_time": "2023-07-05T11:53:10.310Z"
   },
   {
    "duration": 9,
    "start_time": "2023-07-05T11:53:10.452Z"
   },
   {
    "duration": 233,
    "start_time": "2023-07-05T11:53:10.462Z"
   },
   {
    "duration": 4,
    "start_time": "2023-07-05T11:53:10.697Z"
   },
   {
    "duration": 210,
    "start_time": "2023-07-05T11:53:10.705Z"
   },
   {
    "duration": 20,
    "start_time": "2023-07-05T11:53:10.917Z"
   },
   {
    "duration": 181,
    "start_time": "2023-07-05T11:53:10.939Z"
   },
   {
    "duration": 14,
    "start_time": "2023-07-05T11:53:11.123Z"
   },
   {
    "duration": 158,
    "start_time": "2023-07-05T11:53:11.140Z"
   },
   {
    "duration": 11,
    "start_time": "2023-07-05T11:53:11.300Z"
   },
   {
    "duration": 30,
    "start_time": "2023-07-05T11:53:11.313Z"
   },
   {
    "duration": 15,
    "start_time": "2023-07-05T11:53:11.359Z"
   },
   {
    "duration": 1403,
    "start_time": "2023-07-05T11:54:03.516Z"
   },
   {
    "duration": 38,
    "start_time": "2023-07-05T11:54:04.921Z"
   },
   {
    "duration": 4,
    "start_time": "2023-07-05T11:54:04.961Z"
   },
   {
    "duration": 58,
    "start_time": "2023-07-05T11:54:04.968Z"
   },
   {
    "duration": 5,
    "start_time": "2023-07-05T11:54:05.027Z"
   },
   {
    "duration": 61,
    "start_time": "2023-07-05T11:54:05.034Z"
   },
   {
    "duration": 4,
    "start_time": "2023-07-05T11:54:05.097Z"
   },
   {
    "duration": 17,
    "start_time": "2023-07-05T11:54:05.102Z"
   },
   {
    "duration": 30,
    "start_time": "2023-07-05T11:54:05.120Z"
   },
   {
    "duration": 9,
    "start_time": "2023-07-05T11:54:05.152Z"
   },
   {
    "duration": 10,
    "start_time": "2023-07-05T11:54:05.162Z"
   },
   {
    "duration": 18,
    "start_time": "2023-07-05T11:54:05.174Z"
   },
   {
    "duration": 12,
    "start_time": "2023-07-05T11:54:05.194Z"
   },
   {
    "duration": 29,
    "start_time": "2023-07-05T11:54:05.208Z"
   },
   {
    "duration": 356,
    "start_time": "2023-07-05T11:54:05.240Z"
   },
   {
    "duration": 682,
    "start_time": "2023-07-05T11:54:05.597Z"
   },
   {
    "duration": 307,
    "start_time": "2023-07-05T11:54:06.281Z"
   },
   {
    "duration": 373,
    "start_time": "2023-07-05T11:54:06.590Z"
   },
   {
    "duration": 451,
    "start_time": "2023-07-05T11:54:06.965Z"
   },
   {
    "duration": 397,
    "start_time": "2023-07-05T11:54:07.417Z"
   },
   {
    "duration": 262,
    "start_time": "2023-07-05T11:54:07.816Z"
   },
   {
    "duration": 315,
    "start_time": "2023-07-05T11:54:08.080Z"
   },
   {
    "duration": 12,
    "start_time": "2023-07-05T11:54:08.397Z"
   },
   {
    "duration": 140,
    "start_time": "2023-07-05T11:54:08.411Z"
   },
   {
    "duration": 8,
    "start_time": "2023-07-05T11:54:08.553Z"
   },
   {
    "duration": 242,
    "start_time": "2023-07-05T11:54:08.563Z"
   },
   {
    "duration": 5,
    "start_time": "2023-07-05T11:54:08.807Z"
   },
   {
    "duration": 225,
    "start_time": "2023-07-05T11:54:08.815Z"
   },
   {
    "duration": 24,
    "start_time": "2023-07-05T11:54:09.042Z"
   },
   {
    "duration": 184,
    "start_time": "2023-07-05T11:54:09.069Z"
   },
   {
    "duration": 11,
    "start_time": "2023-07-05T11:54:09.255Z"
   },
   {
    "duration": 165,
    "start_time": "2023-07-05T11:54:09.268Z"
   },
   {
    "duration": 12,
    "start_time": "2023-07-05T11:54:09.434Z"
   },
   {
    "duration": 29,
    "start_time": "2023-07-05T11:54:09.458Z"
   },
   {
    "duration": 22,
    "start_time": "2023-07-05T11:54:09.489Z"
   },
   {
    "duration": 50,
    "start_time": "2023-07-06T08:09:43.578Z"
   },
   {
    "duration": 1503,
    "start_time": "2023-07-06T08:09:50.314Z"
   },
   {
    "duration": 92,
    "start_time": "2023-07-06T08:09:51.820Z"
   },
   {
    "duration": 5,
    "start_time": "2023-07-06T08:09:51.914Z"
   },
   {
    "duration": 95,
    "start_time": "2023-07-06T08:09:51.922Z"
   },
   {
    "duration": 5,
    "start_time": "2023-07-06T08:09:52.019Z"
   },
   {
    "duration": 97,
    "start_time": "2023-07-06T08:09:52.026Z"
   },
   {
    "duration": 5,
    "start_time": "2023-07-06T08:09:52.125Z"
   },
   {
    "duration": 43,
    "start_time": "2023-07-06T08:09:52.131Z"
   },
   {
    "duration": 53,
    "start_time": "2023-07-06T08:09:52.176Z"
   },
   {
    "duration": 14,
    "start_time": "2023-07-06T08:09:52.233Z"
   },
   {
    "duration": 17,
    "start_time": "2023-07-06T08:09:52.249Z"
   },
   {
    "duration": 28,
    "start_time": "2023-07-06T08:09:52.269Z"
   },
   {
    "duration": 13,
    "start_time": "2023-07-06T08:09:52.299Z"
   },
   {
    "duration": 37,
    "start_time": "2023-07-06T08:09:52.315Z"
   },
   {
    "duration": 425,
    "start_time": "2023-07-06T08:09:52.355Z"
   },
   {
    "duration": 366,
    "start_time": "2023-07-06T08:09:52.782Z"
   },
   {
    "duration": 182,
    "start_time": "2023-07-06T08:09:53.149Z"
   },
   {
    "duration": 236,
    "start_time": "2023-07-06T08:09:53.333Z"
   },
   {
    "duration": 329,
    "start_time": "2023-07-06T08:09:53.571Z"
   },
   {
    "duration": 533,
    "start_time": "2023-07-06T08:09:53.903Z"
   },
   {
    "duration": 358,
    "start_time": "2023-07-06T08:09:54.438Z"
   },
   {
    "duration": 445,
    "start_time": "2023-07-06T08:09:54.799Z"
   },
   {
    "duration": 17,
    "start_time": "2023-07-06T08:09:55.246Z"
   },
   {
    "duration": 169,
    "start_time": "2023-07-06T08:09:55.265Z"
   },
   {
    "duration": 6,
    "start_time": "2023-07-06T08:09:55.436Z"
   },
   {
    "duration": 249,
    "start_time": "2023-07-06T08:09:55.455Z"
   },
   {
    "duration": 7,
    "start_time": "2023-07-06T08:09:55.706Z"
   },
   {
    "duration": 245,
    "start_time": "2023-07-06T08:09:55.718Z"
   },
   {
    "duration": 26,
    "start_time": "2023-07-06T08:09:55.966Z"
   },
   {
    "duration": 239,
    "start_time": "2023-07-06T08:09:55.993Z"
   },
   {
    "duration": 29,
    "start_time": "2023-07-06T08:09:56.234Z"
   },
   {
    "duration": 171,
    "start_time": "2023-07-06T08:09:56.265Z"
   },
   {
    "duration": 25,
    "start_time": "2023-07-06T08:09:56.439Z"
   },
   {
    "duration": 32,
    "start_time": "2023-07-06T08:09:56.466Z"
   },
   {
    "duration": 18,
    "start_time": "2023-07-06T08:09:56.500Z"
   },
   {
    "duration": 45,
    "start_time": "2023-07-06T08:11:40.278Z"
   },
   {
    "duration": 1254,
    "start_time": "2023-07-06T08:15:04.816Z"
   },
   {
    "duration": 42,
    "start_time": "2023-07-06T08:15:06.072Z"
   },
   {
    "duration": 4,
    "start_time": "2023-07-06T08:15:06.115Z"
   },
   {
    "duration": 56,
    "start_time": "2023-07-06T08:15:06.121Z"
   },
   {
    "duration": 5,
    "start_time": "2023-07-06T08:15:06.179Z"
   },
   {
    "duration": 32,
    "start_time": "2023-07-06T08:15:06.186Z"
   },
   {
    "duration": 14,
    "start_time": "2023-07-06T08:15:06.219Z"
   },
   {
    "duration": 19,
    "start_time": "2023-07-06T08:15:06.235Z"
   },
   {
    "duration": 12,
    "start_time": "2023-07-06T08:15:06.256Z"
   },
   {
    "duration": 11,
    "start_time": "2023-07-06T08:15:06.271Z"
   },
   {
    "duration": 6,
    "start_time": "2023-07-06T08:15:06.284Z"
   },
   {
    "duration": 18,
    "start_time": "2023-07-06T08:15:06.292Z"
   },
   {
    "duration": 58,
    "start_time": "2023-07-06T08:15:06.312Z"
   },
   {
    "duration": 18,
    "start_time": "2023-07-06T08:15:06.372Z"
   },
   {
    "duration": 408,
    "start_time": "2023-07-06T08:15:06.392Z"
   },
   {
    "duration": 352,
    "start_time": "2023-07-06T08:15:06.802Z"
   },
   {
    "duration": 172,
    "start_time": "2023-07-06T08:15:07.156Z"
   },
   {
    "duration": 229,
    "start_time": "2023-07-06T08:15:07.330Z"
   },
   {
    "duration": 281,
    "start_time": "2023-07-06T08:15:07.561Z"
   },
   {
    "duration": 400,
    "start_time": "2023-07-06T08:15:07.844Z"
   },
   {
    "duration": 271,
    "start_time": "2023-07-06T08:15:08.246Z"
   },
   {
    "duration": 377,
    "start_time": "2023-07-06T08:15:08.519Z"
   },
   {
    "duration": 14,
    "start_time": "2023-07-06T08:15:08.898Z"
   },
   {
    "duration": 160,
    "start_time": "2023-07-06T08:15:08.915Z"
   },
   {
    "duration": 6,
    "start_time": "2023-07-06T08:15:09.077Z"
   },
   {
    "duration": 242,
    "start_time": "2023-07-06T08:15:09.086Z"
   },
   {
    "duration": 6,
    "start_time": "2023-07-06T08:15:09.331Z"
   },
   {
    "duration": 270,
    "start_time": "2023-07-06T08:15:09.358Z"
   },
   {
    "duration": 34,
    "start_time": "2023-07-06T08:15:09.630Z"
   },
   {
    "duration": 218,
    "start_time": "2023-07-06T08:15:09.666Z"
   },
   {
    "duration": 12,
    "start_time": "2023-07-06T08:15:09.886Z"
   },
   {
    "duration": 179,
    "start_time": "2023-07-06T08:15:09.900Z"
   },
   {
    "duration": 14,
    "start_time": "2023-07-06T08:15:10.081Z"
   },
   {
    "duration": 59,
    "start_time": "2023-07-06T08:15:10.096Z"
   },
   {
    "duration": 16,
    "start_time": "2023-07-06T08:15:10.157Z"
   },
   {
    "duration": 13,
    "start_time": "2023-07-06T08:17:12.087Z"
   },
   {
    "duration": 12,
    "start_time": "2023-07-06T08:17:25.432Z"
   },
   {
    "duration": 7,
    "start_time": "2023-07-06T08:17:46.507Z"
   },
   {
    "duration": 13,
    "start_time": "2023-07-06T08:18:03.450Z"
   },
   {
    "duration": 152,
    "start_time": "2023-07-06T08:20:31.476Z"
   },
   {
    "duration": 13,
    "start_time": "2023-07-06T08:20:51.469Z"
   },
   {
    "duration": 15,
    "start_time": "2023-07-06T08:20:57.680Z"
   },
   {
    "duration": 15,
    "start_time": "2023-07-06T08:25:02.575Z"
   },
   {
    "duration": 21,
    "start_time": "2023-07-06T08:25:18.538Z"
   },
   {
    "duration": 19,
    "start_time": "2023-07-06T08:25:29.965Z"
   },
   {
    "duration": 8,
    "start_time": "2023-07-06T08:25:52.547Z"
   },
   {
    "duration": 27,
    "start_time": "2023-07-06T08:27:40.774Z"
   },
   {
    "duration": 12,
    "start_time": "2023-07-06T08:28:11.878Z"
   },
   {
    "duration": 14,
    "start_time": "2023-07-06T08:28:20.095Z"
   },
   {
    "duration": 20,
    "start_time": "2023-07-06T08:28:27.969Z"
   },
   {
    "duration": 14,
    "start_time": "2023-07-06T08:29:08.798Z"
   },
   {
    "duration": 6,
    "start_time": "2023-07-06T08:29:48.720Z"
   },
   {
    "duration": 18,
    "start_time": "2023-07-06T08:29:55.637Z"
   },
   {
    "duration": 17,
    "start_time": "2023-07-06T08:30:25.056Z"
   },
   {
    "duration": 10,
    "start_time": "2023-07-06T08:31:13.294Z"
   },
   {
    "duration": 14,
    "start_time": "2023-07-06T08:31:20.745Z"
   },
   {
    "duration": 10,
    "start_time": "2023-07-06T08:31:31.594Z"
   },
   {
    "duration": 15,
    "start_time": "2023-07-06T08:31:46.472Z"
   },
   {
    "duration": 14,
    "start_time": "2023-07-06T08:31:52.158Z"
   },
   {
    "duration": 7,
    "start_time": "2023-07-06T08:32:00.678Z"
   },
   {
    "duration": 14,
    "start_time": "2023-07-06T08:32:01.926Z"
   },
   {
    "duration": 2,
    "start_time": "2023-07-06T08:37:29.119Z"
   },
   {
    "duration": 17,
    "start_time": "2023-07-06T08:42:04.462Z"
   },
   {
    "duration": 14,
    "start_time": "2023-07-06T08:42:30.432Z"
   },
   {
    "duration": 5,
    "start_time": "2023-07-06T08:42:48.289Z"
   },
   {
    "duration": 332,
    "start_time": "2023-07-06T08:43:04.141Z"
   },
   {
    "duration": 4,
    "start_time": "2023-07-06T08:45:06.216Z"
   },
   {
    "duration": 424,
    "start_time": "2023-07-06T08:46:45.409Z"
   },
   {
    "duration": 187,
    "start_time": "2023-07-06T08:47:13.672Z"
   },
   {
    "duration": 1894,
    "start_time": "2023-07-06T08:48:40.999Z"
   },
   {
    "duration": 192,
    "start_time": "2023-07-06T08:48:57.109Z"
   },
   {
    "duration": 2029,
    "start_time": "2023-07-06T08:52:53.782Z"
   },
   {
    "duration": 518,
    "start_time": "2023-07-06T08:53:38.638Z"
   },
   {
    "duration": 806,
    "start_time": "2023-07-06T08:57:20.525Z"
   },
   {
    "duration": 923,
    "start_time": "2023-07-06T08:57:37.791Z"
   },
   {
    "duration": 543,
    "start_time": "2023-07-06T08:57:55.203Z"
   },
   {
    "duration": 520,
    "start_time": "2023-07-06T08:58:13.650Z"
   },
   {
    "duration": 544,
    "start_time": "2023-07-06T08:58:20.343Z"
   },
   {
    "duration": 437,
    "start_time": "2023-07-06T08:58:27.804Z"
   },
   {
    "duration": 424,
    "start_time": "2023-07-06T08:58:42.385Z"
   },
   {
    "duration": 346,
    "start_time": "2023-07-06T08:58:52.689Z"
   },
   {
    "duration": 1893,
    "start_time": "2023-07-06T09:01:48.544Z"
   },
   {
    "duration": 2142,
    "start_time": "2023-07-06T09:02:02.812Z"
   },
   {
    "duration": 403,
    "start_time": "2023-07-06T09:02:12.044Z"
   },
   {
    "duration": 1954,
    "start_time": "2023-07-06T09:04:06.267Z"
   },
   {
    "duration": 328,
    "start_time": "2023-07-06T09:04:22.406Z"
   },
   {
    "duration": 228,
    "start_time": "2023-07-06T09:06:34.922Z"
   },
   {
    "duration": 270,
    "start_time": "2023-07-06T09:11:57.384Z"
   },
   {
    "duration": 1208,
    "start_time": "2023-07-06T09:14:34.436Z"
   },
   {
    "duration": 39,
    "start_time": "2023-07-06T09:14:35.646Z"
   },
   {
    "duration": 4,
    "start_time": "2023-07-06T09:14:35.687Z"
   },
   {
    "duration": 64,
    "start_time": "2023-07-06T09:14:35.693Z"
   },
   {
    "duration": 6,
    "start_time": "2023-07-06T09:14:35.760Z"
   },
   {
    "duration": 34,
    "start_time": "2023-07-06T09:14:35.768Z"
   },
   {
    "duration": 27,
    "start_time": "2023-07-06T09:14:35.804Z"
   },
   {
    "duration": 18,
    "start_time": "2023-07-06T09:14:35.833Z"
   },
   {
    "duration": 12,
    "start_time": "2023-07-06T09:14:35.853Z"
   },
   {
    "duration": 10,
    "start_time": "2023-07-06T09:14:35.869Z"
   },
   {
    "duration": 10,
    "start_time": "2023-07-06T09:14:35.881Z"
   },
   {
    "duration": 15,
    "start_time": "2023-07-06T09:14:35.892Z"
   },
   {
    "duration": 52,
    "start_time": "2023-07-06T09:14:35.909Z"
   },
   {
    "duration": 11,
    "start_time": "2023-07-06T09:14:35.963Z"
   },
   {
    "duration": 60,
    "start_time": "2023-07-06T09:14:35.976Z"
   },
   {
    "duration": 17,
    "start_time": "2023-07-06T09:14:36.038Z"
   },
   {
    "duration": 315,
    "start_time": "2023-07-06T09:14:36.057Z"
   },
   {
    "duration": 0,
    "start_time": "2023-07-06T09:14:36.374Z"
   },
   {
    "duration": 0,
    "start_time": "2023-07-06T09:14:36.376Z"
   },
   {
    "duration": 0,
    "start_time": "2023-07-06T09:14:36.377Z"
   },
   {
    "duration": 0,
    "start_time": "2023-07-06T09:14:36.379Z"
   },
   {
    "duration": 0,
    "start_time": "2023-07-06T09:14:36.381Z"
   },
   {
    "duration": 0,
    "start_time": "2023-07-06T09:14:36.383Z"
   },
   {
    "duration": 0,
    "start_time": "2023-07-06T09:14:36.384Z"
   },
   {
    "duration": 0,
    "start_time": "2023-07-06T09:14:36.385Z"
   },
   {
    "duration": 0,
    "start_time": "2023-07-06T09:14:36.387Z"
   },
   {
    "duration": 0,
    "start_time": "2023-07-06T09:14:36.388Z"
   },
   {
    "duration": 0,
    "start_time": "2023-07-06T09:14:36.391Z"
   },
   {
    "duration": 0,
    "start_time": "2023-07-06T09:14:36.392Z"
   },
   {
    "duration": 0,
    "start_time": "2023-07-06T09:14:36.393Z"
   },
   {
    "duration": 0,
    "start_time": "2023-07-06T09:14:36.395Z"
   },
   {
    "duration": 0,
    "start_time": "2023-07-06T09:14:36.396Z"
   },
   {
    "duration": 0,
    "start_time": "2023-07-06T09:14:36.398Z"
   },
   {
    "duration": 0,
    "start_time": "2023-07-06T09:14:36.399Z"
   },
   {
    "duration": 0,
    "start_time": "2023-07-06T09:14:36.401Z"
   },
   {
    "duration": 0,
    "start_time": "2023-07-06T09:14:36.402Z"
   },
   {
    "duration": 0,
    "start_time": "2023-07-06T09:14:36.403Z"
   },
   {
    "duration": 0,
    "start_time": "2023-07-06T09:14:36.455Z"
   },
   {
    "duration": 0,
    "start_time": "2023-07-06T09:14:36.456Z"
   },
   {
    "duration": 211,
    "start_time": "2023-07-06T09:14:43.443Z"
   },
   {
    "duration": 135,
    "start_time": "2023-07-06T09:16:57.690Z"
   },
   {
    "duration": 122,
    "start_time": "2023-07-06T09:19:03.425Z"
   },
   {
    "duration": 157,
    "start_time": "2023-07-06T09:20:01.788Z"
   },
   {
    "duration": 351,
    "start_time": "2023-07-06T09:20:41.702Z"
   },
   {
    "duration": 417,
    "start_time": "2023-07-06T09:22:59.515Z"
   },
   {
    "duration": 366,
    "start_time": "2023-07-06T09:23:26.807Z"
   },
   {
    "duration": 456,
    "start_time": "2023-07-06T09:24:07.283Z"
   },
   {
    "duration": 350,
    "start_time": "2023-07-06T09:24:48.761Z"
   },
   {
    "duration": 372,
    "start_time": "2023-07-06T09:25:24.258Z"
   },
   {
    "duration": 406,
    "start_time": "2023-07-06T09:26:07.376Z"
   },
   {
    "duration": 462,
    "start_time": "2023-07-06T09:26:12.041Z"
   },
   {
    "duration": 2050,
    "start_time": "2023-07-06T09:28:23.595Z"
   },
   {
    "duration": 676,
    "start_time": "2023-07-06T09:28:43.743Z"
   },
   {
    "duration": 16,
    "start_time": "2023-07-06T09:30:41.154Z"
   },
   {
    "duration": 14,
    "start_time": "2023-07-06T09:30:54.715Z"
   },
   {
    "duration": 17,
    "start_time": "2023-07-06T09:31:02.731Z"
   },
   {
    "duration": 12,
    "start_time": "2023-07-06T09:31:11.072Z"
   },
   {
    "duration": 13,
    "start_time": "2023-07-06T09:31:13.578Z"
   },
   {
    "duration": 17,
    "start_time": "2023-07-06T09:31:41.589Z"
   },
   {
    "duration": 15,
    "start_time": "2023-07-06T09:32:03.759Z"
   },
   {
    "duration": 1236,
    "start_time": "2023-07-06T09:32:13.507Z"
   },
   {
    "duration": 45,
    "start_time": "2023-07-06T09:32:14.746Z"
   },
   {
    "duration": 5,
    "start_time": "2023-07-06T09:32:14.793Z"
   },
   {
    "duration": 58,
    "start_time": "2023-07-06T09:32:14.801Z"
   },
   {
    "duration": 6,
    "start_time": "2023-07-06T09:32:14.861Z"
   },
   {
    "duration": 43,
    "start_time": "2023-07-06T09:32:14.870Z"
   },
   {
    "duration": 21,
    "start_time": "2023-07-06T09:32:14.915Z"
   },
   {
    "duration": 20,
    "start_time": "2023-07-06T09:32:14.937Z"
   },
   {
    "duration": 11,
    "start_time": "2023-07-06T09:32:14.959Z"
   },
   {
    "duration": 10,
    "start_time": "2023-07-06T09:32:14.972Z"
   },
   {
    "duration": 9,
    "start_time": "2023-07-06T09:32:14.984Z"
   },
   {
    "duration": 60,
    "start_time": "2023-07-06T09:32:14.996Z"
   },
   {
    "duration": 18,
    "start_time": "2023-07-06T09:32:15.059Z"
   },
   {
    "duration": 10,
    "start_time": "2023-07-06T09:32:15.079Z"
   },
   {
    "duration": 94,
    "start_time": "2023-07-06T09:32:15.092Z"
   },
   {
    "duration": 5,
    "start_time": "2023-07-06T09:32:15.189Z"
   },
   {
    "duration": 284,
    "start_time": "2023-07-06T09:32:15.197Z"
   },
   {
    "duration": 0,
    "start_time": "2023-07-06T09:32:15.484Z"
   },
   {
    "duration": 0,
    "start_time": "2023-07-06T09:32:15.485Z"
   },
   {
    "duration": 0,
    "start_time": "2023-07-06T09:32:15.486Z"
   },
   {
    "duration": 0,
    "start_time": "2023-07-06T09:32:15.487Z"
   },
   {
    "duration": 0,
    "start_time": "2023-07-06T09:32:15.489Z"
   },
   {
    "duration": 0,
    "start_time": "2023-07-06T09:32:15.490Z"
   },
   {
    "duration": 0,
    "start_time": "2023-07-06T09:32:15.492Z"
   },
   {
    "duration": 0,
    "start_time": "2023-07-06T09:32:15.493Z"
   },
   {
    "duration": 0,
    "start_time": "2023-07-06T09:32:15.495Z"
   },
   {
    "duration": 0,
    "start_time": "2023-07-06T09:32:15.497Z"
   },
   {
    "duration": 0,
    "start_time": "2023-07-06T09:32:15.499Z"
   },
   {
    "duration": 0,
    "start_time": "2023-07-06T09:32:15.500Z"
   },
   {
    "duration": 0,
    "start_time": "2023-07-06T09:32:15.502Z"
   },
   {
    "duration": 0,
    "start_time": "2023-07-06T09:32:15.503Z"
   },
   {
    "duration": 0,
    "start_time": "2023-07-06T09:32:15.504Z"
   },
   {
    "duration": 0,
    "start_time": "2023-07-06T09:32:15.506Z"
   },
   {
    "duration": 0,
    "start_time": "2023-07-06T09:32:15.508Z"
   },
   {
    "duration": 0,
    "start_time": "2023-07-06T09:32:15.554Z"
   },
   {
    "duration": 0,
    "start_time": "2023-07-06T09:32:15.555Z"
   },
   {
    "duration": 0,
    "start_time": "2023-07-06T09:32:15.557Z"
   },
   {
    "duration": 0,
    "start_time": "2023-07-06T09:32:15.559Z"
   },
   {
    "duration": 0,
    "start_time": "2023-07-06T09:32:15.561Z"
   },
   {
    "duration": 0,
    "start_time": "2023-07-06T09:32:15.563Z"
   },
   {
    "duration": 5,
    "start_time": "2023-07-06T09:33:02.593Z"
   },
   {
    "duration": 156,
    "start_time": "2023-07-06T09:33:03.680Z"
   },
   {
    "duration": 542,
    "start_time": "2023-07-06T09:33:21.293Z"
   },
   {
    "duration": 4,
    "start_time": "2023-07-06T09:33:55.514Z"
   },
   {
    "duration": 583,
    "start_time": "2023-07-06T09:33:56.086Z"
   },
   {
    "duration": 529,
    "start_time": "2023-07-06T09:34:34.600Z"
   },
   {
    "duration": 761,
    "start_time": "2023-07-06T09:35:00.536Z"
   },
   {
    "duration": 806,
    "start_time": "2023-07-06T09:35:09.155Z"
   },
   {
    "duration": 557,
    "start_time": "2023-07-06T09:35:22.218Z"
   },
   {
    "duration": 276,
    "start_time": "2023-07-06T09:36:36.211Z"
   },
   {
    "duration": 563,
    "start_time": "2023-07-06T09:36:44.852Z"
   },
   {
    "duration": 505,
    "start_time": "2023-07-06T09:37:01.518Z"
   },
   {
    "duration": 533,
    "start_time": "2023-07-06T09:37:11.951Z"
   },
   {
    "duration": 487,
    "start_time": "2023-07-06T09:37:18.061Z"
   },
   {
    "duration": 562,
    "start_time": "2023-07-06T09:38:34.892Z"
   },
   {
    "duration": 594,
    "start_time": "2023-07-06T09:38:57.707Z"
   },
   {
    "duration": 549,
    "start_time": "2023-07-06T09:39:43.487Z"
   },
   {
    "duration": 585,
    "start_time": "2023-07-06T09:40:13.834Z"
   },
   {
    "duration": 8,
    "start_time": "2023-07-06T09:40:28.305Z"
   },
   {
    "duration": 315,
    "start_time": "2023-07-06T09:40:32.071Z"
   },
   {
    "duration": 9,
    "start_time": "2023-07-06T10:00:39.644Z"
   },
   {
    "duration": 2072,
    "start_time": "2023-07-06T10:04:45.940Z"
   },
   {
    "duration": 8,
    "start_time": "2023-07-06T10:04:57.701Z"
   },
   {
    "duration": 8,
    "start_time": "2023-07-06T10:05:31.692Z"
   },
   {
    "duration": 1208,
    "start_time": "2023-07-06T10:06:27.634Z"
   },
   {
    "duration": 42,
    "start_time": "2023-07-06T10:06:28.845Z"
   },
   {
    "duration": 4,
    "start_time": "2023-07-06T10:06:28.889Z"
   },
   {
    "duration": 76,
    "start_time": "2023-07-06T10:06:28.896Z"
   },
   {
    "duration": 7,
    "start_time": "2023-07-06T10:06:28.974Z"
   },
   {
    "duration": 45,
    "start_time": "2023-07-06T10:06:28.983Z"
   },
   {
    "duration": 4,
    "start_time": "2023-07-06T10:06:29.030Z"
   },
   {
    "duration": 20,
    "start_time": "2023-07-06T10:06:29.036Z"
   },
   {
    "duration": 28,
    "start_time": "2023-07-06T10:06:29.059Z"
   },
   {
    "duration": 11,
    "start_time": "2023-07-06T10:06:29.090Z"
   },
   {
    "duration": 20,
    "start_time": "2023-07-06T10:06:29.103Z"
   },
   {
    "duration": 36,
    "start_time": "2023-07-06T10:06:29.126Z"
   },
   {
    "duration": 19,
    "start_time": "2023-07-06T10:06:29.164Z"
   },
   {
    "duration": 18,
    "start_time": "2023-07-06T10:06:29.184Z"
   },
   {
    "duration": 75,
    "start_time": "2023-07-06T10:06:29.204Z"
   },
   {
    "duration": 5,
    "start_time": "2023-07-06T10:06:29.281Z"
   },
   {
    "duration": 330,
    "start_time": "2023-07-06T10:06:29.288Z"
   },
   {
    "duration": 7,
    "start_time": "2023-07-06T10:06:29.620Z"
   },
   {
    "duration": 24,
    "start_time": "2023-07-06T10:06:29.629Z"
   },
   {
    "duration": 39,
    "start_time": "2023-07-06T10:06:29.655Z"
   },
   {
    "duration": 327,
    "start_time": "2023-07-06T10:06:29.696Z"
   },
   {
    "duration": 490,
    "start_time": "2023-07-06T10:06:30.025Z"
   },
   {
    "duration": 192,
    "start_time": "2023-07-06T10:06:30.517Z"
   },
   {
    "duration": 185,
    "start_time": "2023-07-06T10:06:30.711Z"
   },
   {
    "duration": 300,
    "start_time": "2023-07-06T10:06:30.899Z"
   },
   {
    "duration": 357,
    "start_time": "2023-07-06T10:06:31.201Z"
   },
   {
    "duration": 268,
    "start_time": "2023-07-06T10:06:31.560Z"
   },
   {
    "duration": 476,
    "start_time": "2023-07-06T10:06:31.832Z"
   },
   {
    "duration": 16,
    "start_time": "2023-07-06T10:06:32.310Z"
   },
   {
    "duration": 222,
    "start_time": "2023-07-06T10:06:32.329Z"
   },
   {
    "duration": 5,
    "start_time": "2023-07-06T10:06:32.554Z"
   },
   {
    "duration": 165,
    "start_time": "2023-07-06T10:06:32.560Z"
   },
   {
    "duration": 6,
    "start_time": "2023-07-06T10:06:32.727Z"
   },
   {
    "duration": 238,
    "start_time": "2023-07-06T10:06:32.735Z"
   },
   {
    "duration": 25,
    "start_time": "2023-07-06T10:06:32.975Z"
   },
   {
    "duration": 210,
    "start_time": "2023-07-06T10:06:33.001Z"
   },
   {
    "duration": 12,
    "start_time": "2023-07-06T10:06:33.213Z"
   },
   {
    "duration": 171,
    "start_time": "2023-07-06T10:06:33.227Z"
   },
   {
    "duration": 12,
    "start_time": "2023-07-06T10:06:33.400Z"
   },
   {
    "duration": 50,
    "start_time": "2023-07-06T10:06:33.415Z"
   },
   {
    "duration": 18,
    "start_time": "2023-07-06T10:06:33.468Z"
   },
   {
    "duration": 242,
    "start_time": "2023-07-06T10:17:41.538Z"
   },
   {
    "duration": 33,
    "start_time": "2023-07-06T10:18:14.997Z"
   },
   {
    "duration": 174,
    "start_time": "2023-07-06T10:19:04.043Z"
   },
   {
    "duration": 1279,
    "start_time": "2023-07-06T10:25:31.261Z"
   },
   {
    "duration": 42,
    "start_time": "2023-07-06T10:25:32.543Z"
   },
   {
    "duration": 4,
    "start_time": "2023-07-06T10:25:32.587Z"
   },
   {
    "duration": 61,
    "start_time": "2023-07-06T10:25:32.594Z"
   },
   {
    "duration": 7,
    "start_time": "2023-07-06T10:25:32.658Z"
   },
   {
    "duration": 46,
    "start_time": "2023-07-06T10:25:32.667Z"
   },
   {
    "duration": 5,
    "start_time": "2023-07-06T10:25:32.715Z"
   },
   {
    "duration": 15,
    "start_time": "2023-07-06T10:25:32.722Z"
   },
   {
    "duration": 25,
    "start_time": "2023-07-06T10:25:32.739Z"
   },
   {
    "duration": 15,
    "start_time": "2023-07-06T10:25:32.767Z"
   },
   {
    "duration": 12,
    "start_time": "2023-07-06T10:25:32.784Z"
   },
   {
    "duration": 33,
    "start_time": "2023-07-06T10:25:32.798Z"
   },
   {
    "duration": 23,
    "start_time": "2023-07-06T10:25:32.833Z"
   },
   {
    "duration": 12,
    "start_time": "2023-07-06T10:25:32.858Z"
   },
   {
    "duration": 94,
    "start_time": "2023-07-06T10:25:32.872Z"
   },
   {
    "duration": 5,
    "start_time": "2023-07-06T10:25:32.969Z"
   },
   {
    "duration": 366,
    "start_time": "2023-07-06T10:25:32.977Z"
   },
   {
    "duration": 14,
    "start_time": "2023-07-06T10:25:33.345Z"
   },
   {
    "duration": 22,
    "start_time": "2023-07-06T10:25:33.361Z"
   },
   {
    "duration": 30,
    "start_time": "2023-07-06T10:25:33.385Z"
   },
   {
    "duration": 347,
    "start_time": "2023-07-06T10:25:33.417Z"
   },
   {
    "duration": 353,
    "start_time": "2023-07-06T10:25:33.766Z"
   },
   {
    "duration": 154,
    "start_time": "2023-07-06T10:25:34.121Z"
   },
   {
    "duration": 184,
    "start_time": "2023-07-06T10:25:34.278Z"
   },
   {
    "duration": 281,
    "start_time": "2023-07-06T10:25:34.464Z"
   },
   {
    "duration": 369,
    "start_time": "2023-07-06T10:25:34.753Z"
   },
   {
    "duration": 289,
    "start_time": "2023-07-06T10:25:35.125Z"
   },
   {
    "duration": 425,
    "start_time": "2023-07-06T10:25:35.417Z"
   },
   {
    "duration": 17,
    "start_time": "2023-07-06T10:25:35.844Z"
   },
   {
    "duration": 175,
    "start_time": "2023-07-06T10:25:35.864Z"
   },
   {
    "duration": 14,
    "start_time": "2023-07-06T10:25:36.041Z"
   },
   {
    "duration": 163,
    "start_time": "2023-07-06T10:25:36.058Z"
   },
   {
    "duration": 7,
    "start_time": "2023-07-06T10:25:36.223Z"
   },
   {
    "duration": 261,
    "start_time": "2023-07-06T10:25:36.232Z"
   },
   {
    "duration": 33,
    "start_time": "2023-07-06T10:25:36.495Z"
   },
   {
    "duration": 194,
    "start_time": "2023-07-06T10:25:36.530Z"
   },
   {
    "duration": 15,
    "start_time": "2023-07-06T10:25:36.727Z"
   },
   {
    "duration": 147,
    "start_time": "2023-07-06T10:25:36.756Z"
   },
   {
    "duration": 15,
    "start_time": "2023-07-06T10:25:36.905Z"
   },
   {
    "duration": 55,
    "start_time": "2023-07-06T10:25:36.923Z"
   },
   {
    "duration": 19,
    "start_time": "2023-07-06T10:25:36.980Z"
   },
   {
    "duration": 13,
    "start_time": "2023-07-06T10:29:42.287Z"
   },
   {
    "duration": 33,
    "start_time": "2023-07-06T10:32:40.766Z"
   },
   {
    "duration": 1218,
    "start_time": "2023-07-06T10:32:48.938Z"
   },
   {
    "duration": 40,
    "start_time": "2023-07-06T10:32:50.158Z"
   },
   {
    "duration": 4,
    "start_time": "2023-07-06T10:32:50.199Z"
   },
   {
    "duration": 62,
    "start_time": "2023-07-06T10:32:50.205Z"
   },
   {
    "duration": 5,
    "start_time": "2023-07-06T10:32:50.269Z"
   },
   {
    "duration": 43,
    "start_time": "2023-07-06T10:32:50.276Z"
   },
   {
    "duration": 4,
    "start_time": "2023-07-06T10:32:50.321Z"
   },
   {
    "duration": 11,
    "start_time": "2023-07-06T10:32:50.327Z"
   },
   {
    "duration": 25,
    "start_time": "2023-07-06T10:32:50.340Z"
   },
   {
    "duration": 8,
    "start_time": "2023-07-06T10:32:50.368Z"
   },
   {
    "duration": 6,
    "start_time": "2023-07-06T10:32:50.379Z"
   },
   {
    "duration": 25,
    "start_time": "2023-07-06T10:32:50.387Z"
   },
   {
    "duration": 44,
    "start_time": "2023-07-06T10:32:50.414Z"
   },
   {
    "duration": 10,
    "start_time": "2023-07-06T10:32:50.461Z"
   },
   {
    "duration": 61,
    "start_time": "2023-07-06T10:32:50.473Z"
   },
   {
    "duration": 4,
    "start_time": "2023-07-06T10:32:50.555Z"
   },
   {
    "duration": 342,
    "start_time": "2023-07-06T10:32:50.560Z"
   },
   {
    "duration": 8,
    "start_time": "2023-07-06T10:32:50.904Z"
   },
   {
    "duration": 10,
    "start_time": "2023-07-06T10:32:50.913Z"
   },
   {
    "duration": 35,
    "start_time": "2023-07-06T10:32:50.924Z"
   },
   {
    "duration": 404,
    "start_time": "2023-07-06T10:32:50.961Z"
   },
   {
    "duration": 372,
    "start_time": "2023-07-06T10:32:51.367Z"
   },
   {
    "duration": 154,
    "start_time": "2023-07-06T10:32:51.741Z"
   },
   {
    "duration": 188,
    "start_time": "2023-07-06T10:32:51.897Z"
   },
   {
    "duration": 274,
    "start_time": "2023-07-06T10:32:52.088Z"
   },
   {
    "duration": 360,
    "start_time": "2023-07-06T10:32:52.364Z"
   },
   {
    "duration": 247,
    "start_time": "2023-07-06T10:32:52.726Z"
   },
   {
    "duration": 428,
    "start_time": "2023-07-06T10:32:52.977Z"
   },
   {
    "duration": 14,
    "start_time": "2023-07-06T10:32:53.407Z"
   },
   {
    "duration": 184,
    "start_time": "2023-07-06T10:32:53.423Z"
   },
   {
    "duration": 6,
    "start_time": "2023-07-06T10:32:53.609Z"
   },
   {
    "duration": 194,
    "start_time": "2023-07-06T10:32:53.616Z"
   },
   {
    "duration": 6,
    "start_time": "2023-07-06T10:32:53.813Z"
   },
   {
    "duration": 267,
    "start_time": "2023-07-06T10:32:53.821Z"
   },
   {
    "duration": 23,
    "start_time": "2023-07-06T10:32:54.090Z"
   },
   {
    "duration": 210,
    "start_time": "2023-07-06T10:32:54.115Z"
   },
   {
    "duration": 30,
    "start_time": "2023-07-06T10:32:54.327Z"
   },
   {
    "duration": 180,
    "start_time": "2023-07-06T10:32:54.359Z"
   },
   {
    "duration": 35,
    "start_time": "2023-07-06T10:32:54.540Z"
   },
   {
    "duration": 34,
    "start_time": "2023-07-06T10:32:54.577Z"
   },
   {
    "duration": 20,
    "start_time": "2023-07-06T10:32:54.614Z"
   }
  ],
  "kernelspec": {
   "display_name": "Python 3 (ipykernel)",
   "language": "python",
   "name": "python3"
  },
  "language_info": {
   "codemirror_mode": {
    "name": "ipython",
    "version": 3
   },
   "file_extension": ".py",
   "mimetype": "text/x-python",
   "name": "python",
   "nbconvert_exporter": "python",
   "pygments_lexer": "ipython3",
   "version": "3.9.5"
  },
  "toc": {
   "base_numbering": 1,
   "nav_menu": {},
   "number_sections": true,
   "sideBar": true,
   "skip_h1_title": true,
   "title_cell": "Table of Contents",
   "title_sidebar": "Contents",
   "toc_cell": false,
   "toc_position": {
    "height": "calc(100% - 180px)",
    "left": "10px",
    "top": "150px",
    "width": "199.104px"
   },
   "toc_section_display": true,
   "toc_window_display": false
  }
 },
 "nbformat": 4,
 "nbformat_minor": 2
}
