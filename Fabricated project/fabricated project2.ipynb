{
 "cells": [
  {
   "cell_type": "code",
   "execution_count": 1,
   "id": "3bfc6333",
   "metadata": {},
   "outputs": [],
   "source": [
    "import os\n",
    "import pandas as pd\n",
    "from sqlalchemy import create_engine"
   ]
  },
  {
   "cell_type": "code",
   "execution_count": 2,
   "id": "920d9818",
   "metadata": {},
   "outputs": [],
   "source": [
    "# путь к БД на  компьютере\n",
    "path_to_db_local = 'C:/Users/paman/OneDrive/Рабочий стол/Стася/YP/telecomm_csi.db'\n",
    "# путь к БД на платформе\n",
    "path_to_db_platform = '/datasets/telecomm_csi.db'\n",
    "# итоговый путь к БД\n",
    "path_to_db = None"
   ]
  },
  {
   "cell_type": "code",
   "execution_count": 3,
   "id": "2921dde4",
   "metadata": {},
   "outputs": [],
   "source": [
    "# если путь на компьютере ведёт к БД, то он становится итоговым\n",
    "if os.path.exists(path_to_db_local):\n",
    "    path_to_db = path_to_db_local\n",
    "# иначе: если путь на платформе ведёт к БД, то он становится итоговым\n",
    "elif os.path.exists(path_to_db_platform):\n",
    "    path_to_db = path_to_db_platform\n",
    "# иначе выводится сообщение о том, что файл не найден\n",
    "else:\n",
    "    raise Exception('Файл с базой данных SQLite не найден!')"
   ]
  },
  {
   "cell_type": "code",
   "execution_count": 5,
   "id": "796b821b",
   "metadata": {},
   "outputs": [],
   "source": [
    "if path_to_db:\n",
    "    # то создаём подключение к базе\n",
    "    engine = create_engine(f'sqlite:///{path_to_db}', echo=False)\n",
    "    \n",
    "    # пример запроса\n",
    "    query = \"\"\"\n",
    "                SELECT user.user_id,\n",
    "                       user.lt_day,\n",
    "        \n",
    "                       CASE\n",
    "                            WHEN user.lt_day<=365 THEN 'new'\n",
    "                            ELSE 'old'\n",
    "                       END as is_new,\n",
    "                       \n",
    "                       user.age,\n",
    "                       user.os_name,\n",
    "                       \n",
    "                       CASE\n",
    "                            WHEN user.gender_segment=1 THEN 'женщина'\n",
    "                            WHEN user.gender_segment=0 THEN 'мужчина'\n",
    "                            ELSE 'none'\n",
    "                       END as gender_segment,\n",
    "                       \n",
    "                        user.cpe_type_name,\n",
    "                        location.country,\n",
    "                        location.city,\n",
    "                        age_segment.title as age_segment,\n",
    "                        traffic_segment.title as traffic_segment,\n",
    "                        lifetime_segment.title as lifetime_segment,\n",
    "                        user.nps_score,\n",
    "                        \n",
    "                        CASE\n",
    "                            WHEN user.nps_score >=0 and user.nps_score<=6 THEN 'критики'\n",
    "                            WHEN user.nps_score >=7 and user.nps_score<=8 THEN 'нейтральные'\n",
    "                            ELSE 'сторонники'\n",
    "                        END as npc_group\n",
    "        \n",
    "                 FROM user\n",
    "                 JOIN location on user.location_id=location.location_id\n",
    "                 JOIN age_segment on user.age_gr_id=age_segment.age_gr_id\n",
    "                 JOIN traffic_segment on user.tr_gr_id=traffic_segment.tr_gr_id\n",
    "                 JOIN lifetime_segment on user.lt_gr_id=lifetime_segment.lt_gr_id\n",
    "                \n",
    "    \"\"\"\n",
    "    \n",
    "    # создаём датафрейм по данным запроса\n",
    "    df = pd.read_sql(query, engine) "
   ]
  },
  {
   "cell_type": "code",
   "execution_count": 6,
   "id": "019ac121",
   "metadata": {
    "scrolled": true
   },
   "outputs": [
    {
     "data": {
      "text/html": [
       "<div>\n",
       "<style scoped>\n",
       "    .dataframe tbody tr th:only-of-type {\n",
       "        vertical-align: middle;\n",
       "    }\n",
       "\n",
       "    .dataframe tbody tr th {\n",
       "        vertical-align: top;\n",
       "    }\n",
       "\n",
       "    .dataframe thead th {\n",
       "        text-align: right;\n",
       "    }\n",
       "</style>\n",
       "<table border=\"1\" class=\"dataframe\">\n",
       "  <thead>\n",
       "    <tr style=\"text-align: right;\">\n",
       "      <th></th>\n",
       "      <th>user_id</th>\n",
       "      <th>lt_day</th>\n",
       "      <th>is_new</th>\n",
       "      <th>age</th>\n",
       "      <th>os_name</th>\n",
       "      <th>gender_segment</th>\n",
       "      <th>cpe_type_name</th>\n",
       "      <th>country</th>\n",
       "      <th>city</th>\n",
       "      <th>age_segment</th>\n",
       "      <th>traffic_segment</th>\n",
       "      <th>lifetime_segment</th>\n",
       "      <th>nps_score</th>\n",
       "      <th>npc_group</th>\n",
       "    </tr>\n",
       "  </thead>\n",
       "  <tbody>\n",
       "    <tr>\n",
       "      <th>0</th>\n",
       "      <td>A001A2</td>\n",
       "      <td>2320</td>\n",
       "      <td>old</td>\n",
       "      <td>45.0</td>\n",
       "      <td>ANDROID</td>\n",
       "      <td>женщина</td>\n",
       "      <td>SMARTPHONE</td>\n",
       "      <td>Россия</td>\n",
       "      <td>Уфа</td>\n",
       "      <td>05 45-54</td>\n",
       "      <td>04 1-5</td>\n",
       "      <td>08 36+</td>\n",
       "      <td>10</td>\n",
       "      <td>сторонники</td>\n",
       "    </tr>\n",
       "    <tr>\n",
       "      <th>1</th>\n",
       "      <td>A001WF</td>\n",
       "      <td>2344</td>\n",
       "      <td>old</td>\n",
       "      <td>53.0</td>\n",
       "      <td>ANDROID</td>\n",
       "      <td>мужчина</td>\n",
       "      <td>SMARTPHONE</td>\n",
       "      <td>Россия</td>\n",
       "      <td>Киров</td>\n",
       "      <td>05 45-54</td>\n",
       "      <td>04 1-5</td>\n",
       "      <td>08 36+</td>\n",
       "      <td>10</td>\n",
       "      <td>сторонники</td>\n",
       "    </tr>\n",
       "    <tr>\n",
       "      <th>2</th>\n",
       "      <td>A003Q7</td>\n",
       "      <td>467</td>\n",
       "      <td>old</td>\n",
       "      <td>57.0</td>\n",
       "      <td>ANDROID</td>\n",
       "      <td>мужчина</td>\n",
       "      <td>SMARTPHONE</td>\n",
       "      <td>Россия</td>\n",
       "      <td>Москва</td>\n",
       "      <td>06 55-64</td>\n",
       "      <td>08 20-25</td>\n",
       "      <td>06 13-24</td>\n",
       "      <td>10</td>\n",
       "      <td>сторонники</td>\n",
       "    </tr>\n",
       "    <tr>\n",
       "      <th>3</th>\n",
       "      <td>A004TB</td>\n",
       "      <td>4190</td>\n",
       "      <td>old</td>\n",
       "      <td>44.0</td>\n",
       "      <td>IOS</td>\n",
       "      <td>женщина</td>\n",
       "      <td>SMARTPHONE</td>\n",
       "      <td>Россия</td>\n",
       "      <td>РостовнаДону</td>\n",
       "      <td>04 35-44</td>\n",
       "      <td>03 0.1-1</td>\n",
       "      <td>08 36+</td>\n",
       "      <td>10</td>\n",
       "      <td>сторонники</td>\n",
       "    </tr>\n",
       "    <tr>\n",
       "      <th>4</th>\n",
       "      <td>A004XT</td>\n",
       "      <td>1163</td>\n",
       "      <td>old</td>\n",
       "      <td>24.0</td>\n",
       "      <td>ANDROID</td>\n",
       "      <td>мужчина</td>\n",
       "      <td>SMARTPHONE</td>\n",
       "      <td>Россия</td>\n",
       "      <td>Рязань</td>\n",
       "      <td>02 16-24</td>\n",
       "      <td>05 5-10</td>\n",
       "      <td>08 36+</td>\n",
       "      <td>10</td>\n",
       "      <td>сторонники</td>\n",
       "    </tr>\n",
       "    <tr>\n",
       "      <th>...</th>\n",
       "      <td>...</td>\n",
       "      <td>...</td>\n",
       "      <td>...</td>\n",
       "      <td>...</td>\n",
       "      <td>...</td>\n",
       "      <td>...</td>\n",
       "      <td>...</td>\n",
       "      <td>...</td>\n",
       "      <td>...</td>\n",
       "      <td>...</td>\n",
       "      <td>...</td>\n",
       "      <td>...</td>\n",
       "      <td>...</td>\n",
       "      <td>...</td>\n",
       "    </tr>\n",
       "    <tr>\n",
       "      <th>502488</th>\n",
       "      <td>ZZZKLD</td>\n",
       "      <td>1249</td>\n",
       "      <td>old</td>\n",
       "      <td>54.0</td>\n",
       "      <td>ANDROID</td>\n",
       "      <td>женщина</td>\n",
       "      <td>SMARTPHONE</td>\n",
       "      <td>Россия</td>\n",
       "      <td>Москва</td>\n",
       "      <td>05 45-54</td>\n",
       "      <td>04 1-5</td>\n",
       "      <td>08 36+</td>\n",
       "      <td>5</td>\n",
       "      <td>критики</td>\n",
       "    </tr>\n",
       "    <tr>\n",
       "      <th>502489</th>\n",
       "      <td>ZZZLWY</td>\n",
       "      <td>129</td>\n",
       "      <td>new</td>\n",
       "      <td>31.0</td>\n",
       "      <td>ANDROID</td>\n",
       "      <td>мужчина</td>\n",
       "      <td>SMARTPHONE</td>\n",
       "      <td>Россия</td>\n",
       "      <td>Москва</td>\n",
       "      <td>03 25-34</td>\n",
       "      <td>04 1-5</td>\n",
       "      <td>04 4-6</td>\n",
       "      <td>8</td>\n",
       "      <td>нейтральные</td>\n",
       "    </tr>\n",
       "    <tr>\n",
       "      <th>502490</th>\n",
       "      <td>ZZZQ5F</td>\n",
       "      <td>522</td>\n",
       "      <td>old</td>\n",
       "      <td>36.0</td>\n",
       "      <td>ANDROID</td>\n",
       "      <td>мужчина</td>\n",
       "      <td>SMARTPHONE</td>\n",
       "      <td>Россия</td>\n",
       "      <td>Сургут</td>\n",
       "      <td>04 35-44</td>\n",
       "      <td>09 25-30</td>\n",
       "      <td>06 13-24</td>\n",
       "      <td>10</td>\n",
       "      <td>сторонники</td>\n",
       "    </tr>\n",
       "    <tr>\n",
       "      <th>502491</th>\n",
       "      <td>ZZZQ8E</td>\n",
       "      <td>2936</td>\n",
       "      <td>old</td>\n",
       "      <td>37.0</td>\n",
       "      <td>ANDROID</td>\n",
       "      <td>женщина</td>\n",
       "      <td>SMARTPHONE</td>\n",
       "      <td>Россия</td>\n",
       "      <td>УланУдэ</td>\n",
       "      <td>04 35-44</td>\n",
       "      <td>17 65-70</td>\n",
       "      <td>08 36+</td>\n",
       "      <td>9</td>\n",
       "      <td>сторонники</td>\n",
       "    </tr>\n",
       "    <tr>\n",
       "      <th>502492</th>\n",
       "      <td>ZZZYH0</td>\n",
       "      <td>2471</td>\n",
       "      <td>old</td>\n",
       "      <td>37.0</td>\n",
       "      <td>IOS</td>\n",
       "      <td>мужчина</td>\n",
       "      <td>SMARTPHONE</td>\n",
       "      <td>Россия</td>\n",
       "      <td>Самара</td>\n",
       "      <td>04 35-44</td>\n",
       "      <td>06 10-15</td>\n",
       "      <td>08 36+</td>\n",
       "      <td>2</td>\n",
       "      <td>критики</td>\n",
       "    </tr>\n",
       "  </tbody>\n",
       "</table>\n",
       "<p>502493 rows × 14 columns</p>\n",
       "</div>"
      ],
      "text/plain": [
       "       user_id  lt_day is_new   age  os_name gender_segment cpe_type_name  \\\n",
       "0       A001A2    2320    old  45.0  ANDROID        женщина    SMARTPHONE   \n",
       "1       A001WF    2344    old  53.0  ANDROID        мужчина    SMARTPHONE   \n",
       "2       A003Q7     467    old  57.0  ANDROID        мужчина    SMARTPHONE   \n",
       "3       A004TB    4190    old  44.0      IOS        женщина    SMARTPHONE   \n",
       "4       A004XT    1163    old  24.0  ANDROID        мужчина    SMARTPHONE   \n",
       "...        ...     ...    ...   ...      ...            ...           ...   \n",
       "502488  ZZZKLD    1249    old  54.0  ANDROID        женщина    SMARTPHONE   \n",
       "502489  ZZZLWY     129    new  31.0  ANDROID        мужчина    SMARTPHONE   \n",
       "502490  ZZZQ5F     522    old  36.0  ANDROID        мужчина    SMARTPHONE   \n",
       "502491  ZZZQ8E    2936    old  37.0  ANDROID        женщина    SMARTPHONE   \n",
       "502492  ZZZYH0    2471    old  37.0      IOS        мужчина    SMARTPHONE   \n",
       "\n",
       "       country          city age_segment traffic_segment lifetime_segment  \\\n",
       "0       Россия           Уфа    05 45-54          04 1-5           08 36+   \n",
       "1       Россия         Киров    05 45-54          04 1-5           08 36+   \n",
       "2       Россия        Москва    06 55-64        08 20-25         06 13-24   \n",
       "3       Россия  РостовнаДону    04 35-44        03 0.1-1           08 36+   \n",
       "4       Россия        Рязань    02 16-24         05 5-10           08 36+   \n",
       "...        ...           ...         ...             ...              ...   \n",
       "502488  Россия        Москва    05 45-54          04 1-5           08 36+   \n",
       "502489  Россия        Москва    03 25-34          04 1-5           04 4-6   \n",
       "502490  Россия        Сургут    04 35-44        09 25-30         06 13-24   \n",
       "502491  Россия       УланУдэ    04 35-44        17 65-70           08 36+   \n",
       "502492  Россия        Самара    04 35-44        06 10-15           08 36+   \n",
       "\n",
       "        nps_score    npc_group  \n",
       "0              10   сторонники  \n",
       "1              10   сторонники  \n",
       "2              10   сторонники  \n",
       "3              10   сторонники  \n",
       "4              10   сторонники  \n",
       "...           ...          ...  \n",
       "502488          5      критики  \n",
       "502489          8  нейтральные  \n",
       "502490         10   сторонники  \n",
       "502491          9   сторонники  \n",
       "502492          2      критики  \n",
       "\n",
       "[502493 rows x 14 columns]"
      ]
     },
     "execution_count": 6,
     "metadata": {},
     "output_type": "execute_result"
    }
   ],
   "source": [
    "df"
   ]
  },
  {
   "cell_type": "code",
   "execution_count": 7,
   "id": "e2b8255b",
   "metadata": {},
   "outputs": [],
   "source": [
    "df.to_csv('telecomm_csi_tableau.csv', index=False)"
   ]
  },
  {
   "cell_type": "markdown",
   "id": "c490cfab",
   "metadata": {},
   "source": [
    "преобразовали данные в csv формат, файл появился в папке с ноутбуком, теперь данный файл можно загрузить в Tableau."
   ]
  },
  {
   "cell_type": "markdown",
   "id": "496aefef",
   "metadata": {},
   "source": [
    "**Ссылка на дашборд:**"
   ]
  },
  {
   "cell_type": "markdown",
   "id": "26fb4fbe",
   "metadata": {},
   "source": [
    "https://public.tableau.com/app/profile/stasy2969/viz/2__16782639947330/Dashboard1?publish=yes"
   ]
  },
  {
   "cell_type": "markdown",
   "id": "dc73ef9c",
   "metadata": {},
   "source": [
    "**Ссылка на презентацию:**"
   ]
  },
  {
   "cell_type": "markdown",
   "id": "9d981198",
   "metadata": {},
   "source": [
    "https://disk.yandex.ru/d/nJWLAzsWO9P1qg"
   ]
  }
 ],
 "metadata": {
  "ExecuteTimeLog": [
   {
    "duration": 561,
    "start_time": "2023-03-10T08:43:29.808Z"
   },
   {
    "duration": 3,
    "start_time": "2023-03-10T08:43:30.371Z"
   },
   {
    "duration": 124,
    "start_time": "2023-03-10T08:43:30.376Z"
   },
   {
    "duration": 0,
    "start_time": "2023-03-10T08:43:30.502Z"
   },
   {
    "duration": 0,
    "start_time": "2023-03-10T08:43:30.503Z"
   },
   {
    "duration": 0,
    "start_time": "2023-03-10T08:43:30.504Z"
   },
   {
    "duration": 3,
    "start_time": "2023-03-10T08:56:45.724Z"
   },
   {
    "duration": 36,
    "start_time": "2023-03-10T08:56:46.117Z"
   },
   {
    "duration": 2,
    "start_time": "2023-03-10T08:57:32.337Z"
   },
   {
    "duration": 4,
    "start_time": "2023-03-10T08:57:39.649Z"
   },
   {
    "duration": 29,
    "start_time": "2023-03-10T08:57:40.117Z"
   },
   {
    "duration": 5,
    "start_time": "2023-03-10T08:57:54.071Z"
   },
   {
    "duration": 8,
    "start_time": "2023-03-10T08:57:59.408Z"
   },
   {
    "duration": 3,
    "start_time": "2023-03-10T08:58:07.410Z"
   },
   {
    "duration": 5636,
    "start_time": "2023-03-10T08:58:08.122Z"
   },
   {
    "duration": 31,
    "start_time": "2023-03-10T08:58:16.577Z"
   },
   {
    "duration": 4721,
    "start_time": "2023-03-10T08:58:17.734Z"
   },
   {
    "duration": 496,
    "start_time": "2023-03-12T04:47:39.919Z"
   },
   {
    "duration": 2,
    "start_time": "2023-03-12T04:47:40.417Z"
   },
   {
    "duration": 123,
    "start_time": "2023-03-12T04:47:40.421Z"
   },
   {
    "duration": 0,
    "start_time": "2023-03-12T04:47:40.546Z"
   },
   {
    "duration": 0,
    "start_time": "2023-03-12T04:47:40.547Z"
   },
   {
    "duration": 0,
    "start_time": "2023-03-12T04:47:40.548Z"
   },
   {
    "duration": 507,
    "start_time": "2023-05-18T09:58:55.869Z"
   },
   {
    "duration": 2,
    "start_time": "2023-05-18T09:58:56.378Z"
   },
   {
    "duration": 103,
    "start_time": "2023-05-18T09:58:56.381Z"
   },
   {
    "duration": 0,
    "start_time": "2023-05-18T09:58:56.486Z"
   },
   {
    "duration": 0,
    "start_time": "2023-05-18T09:58:56.487Z"
   },
   {
    "duration": 0,
    "start_time": "2023-05-18T09:58:56.488Z"
   },
   {
    "duration": 522,
    "start_time": "2023-05-18T10:00:43.405Z"
   },
   {
    "duration": 3,
    "start_time": "2023-05-18T10:00:43.928Z"
   },
   {
    "duration": 79,
    "start_time": "2023-05-18T10:00:43.933Z"
   },
   {
    "duration": 2,
    "start_time": "2023-05-18T10:00:44.014Z"
   },
   {
    "duration": 5481,
    "start_time": "2023-05-18T10:00:44.018Z"
   },
   {
    "duration": 24,
    "start_time": "2023-05-18T10:00:49.501Z"
   },
   {
    "duration": 4067,
    "start_time": "2023-05-18T10:00:49.526Z"
   }
  ],
  "kernelspec": {
   "display_name": "Python 3 (ipykernel)",
   "language": "python",
   "name": "python3"
  },
  "language_info": {
   "codemirror_mode": {
    "name": "ipython",
    "version": 3
   },
   "file_extension": ".py",
   "mimetype": "text/x-python",
   "name": "python",
   "nbconvert_exporter": "python",
   "pygments_lexer": "ipython3",
   "version": "3.9.5"
  },
  "toc": {
   "base_numbering": 1,
   "nav_menu": {},
   "number_sections": true,
   "sideBar": true,
   "skip_h1_title": true,
   "title_cell": "Table of Contents",
   "title_sidebar": "Contents",
   "toc_cell": false,
   "toc_position": {},
   "toc_section_display": true,
   "toc_window_display": false
  }
 },
 "nbformat": 4,
 "nbformat_minor": 5
}
